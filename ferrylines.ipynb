{
 "cells": [
  {
   "cell_type": "markdown",
   "metadata": {},
   "source": [
    "# Introduction"
   ]
  },
  {
   "cell_type": "markdown",
   "metadata": {},
   "source": [
    "Copyright\n",
    "\n",
    "Distribution"
   ]
  },
  {
   "cell_type": "markdown",
   "metadata": {},
   "source": [
    "In order to use the code the following libraries must be installed:\n",
    "1. Pandas"
   ]
  },
  {
   "cell_type": "code",
   "execution_count": 1,
   "metadata": {},
   "outputs": [],
   "source": [
    "import pandas as pd\n",
    "import numpy as np\n",
    "from dwave.system.samplers import DWaveSampler\n",
    "from dwave.system.composites import EmbeddingComposite\n",
    "import dwave.inspector\n",
    "import dwavebinarycsp\n"
   ]
  },
  {
   "cell_type": "markdown",
   "metadata": {},
   "source": [
    "# Input and Preprocessing"
   ]
  },
  {
   "cell_type": "markdown",
   "metadata": {},
   "source": [
    "In this section all data input is entered, validated and preprocessed in order to meet further requirements. "
   ]
  },
  {
   "cell_type": "markdown",
   "metadata": {},
   "source": [
    "### Input data file"
   ]
  },
  {
   "cell_type": "markdown",
   "metadata": {},
   "source": [
    "In this section the following input is proceeded:\n",
    "1. Input data file with information on ferry routes with\n",
    "    - From: route start port\n",
    "    - To: route end port\n",
    "    - Distance: shortest direct distance between departure and arrival port"
   ]
  },
  {
   "cell_type": "code",
   "execution_count": 2,
   "metadata": {},
   "outputs": [
    {
     "output_type": "execute_result",
     "data": {
      "text/plain": [
       "       Column1  Bremerhaven  Brunsbüttel  Emden  Hamburg   Kiel\n",
       "0  Bremerhaven            0          NaN  137.0      NaN  135.0\n",
       "1  Brunsbüttel           81          0.0    NaN     36.0   54.0\n",
       "2        Emden          137          NaN    0.0      NaN    NaN\n",
       "3      Hamburg          117         36.0    NaN      0.0   90.0\n",
       "4         Kiel          135          NaN    NaN      NaN    0.0"
      ],
      "text/html": "<div>\n<style scoped>\n    .dataframe tbody tr th:only-of-type {\n        vertical-align: middle;\n    }\n\n    .dataframe tbody tr th {\n        vertical-align: top;\n    }\n\n    .dataframe thead th {\n        text-align: right;\n    }\n</style>\n<table border=\"1\" class=\"dataframe\">\n  <thead>\n    <tr style=\"text-align: right;\">\n      <th></th>\n      <th>Column1</th>\n      <th>Bremerhaven</th>\n      <th>Brunsbüttel</th>\n      <th>Emden</th>\n      <th>Hamburg</th>\n      <th>Kiel</th>\n    </tr>\n  </thead>\n  <tbody>\n    <tr>\n      <th>0</th>\n      <td>Bremerhaven</td>\n      <td>0</td>\n      <td>NaN</td>\n      <td>137.0</td>\n      <td>NaN</td>\n      <td>135.0</td>\n    </tr>\n    <tr>\n      <th>1</th>\n      <td>Brunsbüttel</td>\n      <td>81</td>\n      <td>0.0</td>\n      <td>NaN</td>\n      <td>36.0</td>\n      <td>54.0</td>\n    </tr>\n    <tr>\n      <th>2</th>\n      <td>Emden</td>\n      <td>137</td>\n      <td>NaN</td>\n      <td>0.0</td>\n      <td>NaN</td>\n      <td>NaN</td>\n    </tr>\n    <tr>\n      <th>3</th>\n      <td>Hamburg</td>\n      <td>117</td>\n      <td>36.0</td>\n      <td>NaN</td>\n      <td>0.0</td>\n      <td>90.0</td>\n    </tr>\n    <tr>\n      <th>4</th>\n      <td>Kiel</td>\n      <td>135</td>\n      <td>NaN</td>\n      <td>NaN</td>\n      <td>NaN</td>\n      <td>0.0</td>\n    </tr>\n  </tbody>\n</table>\n</div>"
     },
     "metadata": {},
     "execution_count": 2
    }
   ],
   "source": [
    "df_ports = pd.read_csv(\"sample_data_harbours_utf8.csv\", sep = \";\")\n",
    "df_ports"
   ]
  },
  {
   "cell_type": "markdown",
   "metadata": {},
   "source": [
    "### Formatting of connection data"
   ]
  },
  {
   "cell_type": "markdown",
   "metadata": {},
   "source": [
    "In order to formulate the problem in a format accessible by the D-Wave libraries the matrix data is restructured to contain the information in an unstacked format. "
   ]
  },
  {
   "cell_type": "code",
   "execution_count": 3,
   "metadata": {},
   "outputs": [
    {
     "output_type": "execute_result",
     "data": {
      "text/plain": [
       "          From           To  Distance\n",
       "0  Brunsbüttel  Bremerhaven      81.0\n",
       "1        Emden  Bremerhaven     137.0\n",
       "2      Hamburg  Bremerhaven     117.0\n",
       "3         Kiel  Bremerhaven     135.0\n",
       "4      Hamburg  Brunsbüttel      36.0\n",
       "5  Bremerhaven        Emden     137.0\n",
       "6  Brunsbüttel      Hamburg      36.0\n",
       "7  Bremerhaven         Kiel     135.0\n",
       "8  Brunsbüttel         Kiel      54.0\n",
       "9      Hamburg         Kiel      90.0"
      ],
      "text/html": "<div>\n<style scoped>\n    .dataframe tbody tr th:only-of-type {\n        vertical-align: middle;\n    }\n\n    .dataframe tbody tr th {\n        vertical-align: top;\n    }\n\n    .dataframe thead th {\n        text-align: right;\n    }\n</style>\n<table border=\"1\" class=\"dataframe\">\n  <thead>\n    <tr style=\"text-align: right;\">\n      <th></th>\n      <th>From</th>\n      <th>To</th>\n      <th>Distance</th>\n    </tr>\n  </thead>\n  <tbody>\n    <tr>\n      <th>0</th>\n      <td>Brunsbüttel</td>\n      <td>Bremerhaven</td>\n      <td>81.0</td>\n    </tr>\n    <tr>\n      <th>1</th>\n      <td>Emden</td>\n      <td>Bremerhaven</td>\n      <td>137.0</td>\n    </tr>\n    <tr>\n      <th>2</th>\n      <td>Hamburg</td>\n      <td>Bremerhaven</td>\n      <td>117.0</td>\n    </tr>\n    <tr>\n      <th>3</th>\n      <td>Kiel</td>\n      <td>Bremerhaven</td>\n      <td>135.0</td>\n    </tr>\n    <tr>\n      <th>4</th>\n      <td>Hamburg</td>\n      <td>Brunsbüttel</td>\n      <td>36.0</td>\n    </tr>\n    <tr>\n      <th>5</th>\n      <td>Bremerhaven</td>\n      <td>Emden</td>\n      <td>137.0</td>\n    </tr>\n    <tr>\n      <th>6</th>\n      <td>Brunsbüttel</td>\n      <td>Hamburg</td>\n      <td>36.0</td>\n    </tr>\n    <tr>\n      <th>7</th>\n      <td>Bremerhaven</td>\n      <td>Kiel</td>\n      <td>135.0</td>\n    </tr>\n    <tr>\n      <th>8</th>\n      <td>Brunsbüttel</td>\n      <td>Kiel</td>\n      <td>54.0</td>\n    </tr>\n    <tr>\n      <th>9</th>\n      <td>Hamburg</td>\n      <td>Kiel</td>\n      <td>90.0</td>\n    </tr>\n  </tbody>\n</table>\n</div>"
     },
     "metadata": {},
     "execution_count": 3
    }
   ],
   "source": [
    "# rename 'Column1' to 'From'\n",
    "df_ports=df_ports.rename(columns={'Column1':\"From\"})\n",
    "\n",
    "# transform end harbours in columns to rows\n",
    "df_routes= pd.melt(df_ports,id_vars=['From'],var_name=\"To\",value_name='Distance')\n",
    "\n",
    "# filter NaN-values\n",
    "df_routes=df_routes[df_routes[\"Distance\"].notnull()]\n",
    "\n",
    "# filter out 0.0 values\n",
    "df_routes=df_routes[df_routes.Distance != 0]\n",
    "\n",
    "#reset index\n",
    "df_routes=df_routes.reset_index(drop=True)\n",
    "df_routes_withoutStardEnd=df_routes\n",
    "df_routes"
   ]
  },
  {
   "cell_type": "markdown",
   "metadata": {},
   "source": [
    "### User input and validation of departure and destination harbour "
   ]
  },
  {
   "cell_type": "markdown",
   "metadata": {},
   "source": [
    "In this section the manual input is requested and validated by the following criteria:\n",
    "1. departure and destination harbour are part of the input \n",
    "\n",
    "If input is invalid, the according error message is displayed."
   ]
  },
  {
   "cell_type": "code",
   "execution_count": 5,
   "metadata": {
    "tags": []
   },
   "outputs": [
    {
     "output_type": "error",
     "ename": "KeyboardInterrupt",
     "evalue": "Interrupted by user",
     "traceback": [
      "\u001b[0;31m---------------------------------------------------------------------------\u001b[0m",
      "\u001b[0;31mKeyboardInterrupt\u001b[0m                         Traceback (most recent call last)",
      "Cell \u001b[0;32mIn[5], line 4\u001b[0m\n\u001b[1;32m      1\u001b[0m \u001b[38;5;66;03m#Check whether the departure harbour is element of the input data\u001b[39;00m\n\u001b[1;32m      2\u001b[0m \u001b[38;5;28;01mwhile\u001b[39;00m \u001b[38;5;28;01mTrue\u001b[39;00m:\n\u001b[1;32m      3\u001b[0m     \u001b[38;5;66;03m#Entering departure harbour\u001b[39;00m\n\u001b[0;32m----> 4\u001b[0m     departure\u001b[38;5;241m=\u001b[39m\u001b[38;5;28;43minput\u001b[39;49m\u001b[43m(\u001b[49m\u001b[38;5;28;43mstr\u001b[39;49m\u001b[43m(\u001b[49m\u001b[38;5;124;43m\"\u001b[39;49m\u001b[38;5;124;43mPlease enter departure port:\u001b[39;49m\u001b[38;5;124;43m\"\u001b[39;49m\u001b[43m)\u001b[49m\u001b[43m)\u001b[49m\n\u001b[1;32m      5\u001b[0m     depature\u001b[38;5;241m=\u001b[39m\u001b[38;5;124m'\u001b[39m\u001b[38;5;124mBrunsbüttel\u001b[39m\u001b[38;5;124m'\u001b[39m\n\u001b[1;32m      6\u001b[0m     \u001b[38;5;28;01mif\u001b[39;00m \u001b[38;5;129;01mnot\u001b[39;00m departure \u001b[38;5;129;01min\u001b[39;00m df_routes[\u001b[38;5;124m'\u001b[39m\u001b[38;5;124mFrom\u001b[39m\u001b[38;5;124m'\u001b[39m]\u001b[38;5;241m.\u001b[39mvalues:\n",
      "File \u001b[0;32m/usr/local/lib/python3.9/site-packages/ipykernel/kernelbase.py:1177\u001b[0m, in \u001b[0;36mKernel.raw_input\u001b[0;34m(self, prompt)\u001b[0m\n\u001b[1;32m   1173\u001b[0m \u001b[38;5;28;01mif\u001b[39;00m \u001b[38;5;129;01mnot\u001b[39;00m \u001b[38;5;28mself\u001b[39m\u001b[38;5;241m.\u001b[39m_allow_stdin:\n\u001b[1;32m   1174\u001b[0m     \u001b[38;5;28;01mraise\u001b[39;00m StdinNotImplementedError(\n\u001b[1;32m   1175\u001b[0m         \u001b[38;5;124m\"\u001b[39m\u001b[38;5;124mraw_input was called, but this frontend does not support input requests.\u001b[39m\u001b[38;5;124m\"\u001b[39m\n\u001b[1;32m   1176\u001b[0m     )\n\u001b[0;32m-> 1177\u001b[0m \u001b[38;5;28;01mreturn\u001b[39;00m \u001b[38;5;28;43mself\u001b[39;49m\u001b[38;5;241;43m.\u001b[39;49m\u001b[43m_input_request\u001b[49m\u001b[43m(\u001b[49m\n\u001b[1;32m   1178\u001b[0m \u001b[43m    \u001b[49m\u001b[38;5;28;43mstr\u001b[39;49m\u001b[43m(\u001b[49m\u001b[43mprompt\u001b[49m\u001b[43m)\u001b[49m\u001b[43m,\u001b[49m\n\u001b[1;32m   1179\u001b[0m \u001b[43m    \u001b[49m\u001b[38;5;28;43mself\u001b[39;49m\u001b[38;5;241;43m.\u001b[39;49m\u001b[43m_parent_ident\u001b[49m\u001b[43m[\u001b[49m\u001b[38;5;124;43m\"\u001b[39;49m\u001b[38;5;124;43mshell\u001b[39;49m\u001b[38;5;124;43m\"\u001b[39;49m\u001b[43m]\u001b[49m\u001b[43m,\u001b[49m\n\u001b[1;32m   1180\u001b[0m \u001b[43m    \u001b[49m\u001b[38;5;28;43mself\u001b[39;49m\u001b[38;5;241;43m.\u001b[39;49m\u001b[43mget_parent\u001b[49m\u001b[43m(\u001b[49m\u001b[38;5;124;43m\"\u001b[39;49m\u001b[38;5;124;43mshell\u001b[39;49m\u001b[38;5;124;43m\"\u001b[39;49m\u001b[43m)\u001b[49m\u001b[43m,\u001b[49m\n\u001b[1;32m   1181\u001b[0m \u001b[43m    \u001b[49m\u001b[43mpassword\u001b[49m\u001b[38;5;241;43m=\u001b[39;49m\u001b[38;5;28;43;01mFalse\u001b[39;49;00m\u001b[43m,\u001b[49m\n\u001b[1;32m   1182\u001b[0m \u001b[43m\u001b[49m\u001b[43m)\u001b[49m\n",
      "File \u001b[0;32m/usr/local/lib/python3.9/site-packages/ipykernel/kernelbase.py:1219\u001b[0m, in \u001b[0;36mKernel._input_request\u001b[0;34m(self, prompt, ident, parent, password)\u001b[0m\n\u001b[1;32m   1216\u001b[0m             \u001b[38;5;28;01mbreak\u001b[39;00m\n\u001b[1;32m   1217\u001b[0m \u001b[38;5;28;01mexcept\u001b[39;00m \u001b[38;5;167;01mKeyboardInterrupt\u001b[39;00m:\n\u001b[1;32m   1218\u001b[0m     \u001b[38;5;66;03m# re-raise KeyboardInterrupt, to truncate traceback\u001b[39;00m\n\u001b[0;32m-> 1219\u001b[0m     \u001b[38;5;28;01mraise\u001b[39;00m \u001b[38;5;167;01mKeyboardInterrupt\u001b[39;00m(\u001b[38;5;124m\"\u001b[39m\u001b[38;5;124mInterrupted by user\u001b[39m\u001b[38;5;124m\"\u001b[39m) \u001b[38;5;28;01mfrom\u001b[39;00m \u001b[38;5;28mNone\u001b[39m\n\u001b[1;32m   1220\u001b[0m \u001b[38;5;28;01mexcept\u001b[39;00m \u001b[38;5;167;01mException\u001b[39;00m:\n\u001b[1;32m   1221\u001b[0m     \u001b[38;5;28mself\u001b[39m\u001b[38;5;241m.\u001b[39mlog\u001b[38;5;241m.\u001b[39mwarning(\u001b[38;5;124m\"\u001b[39m\u001b[38;5;124mInvalid Message:\u001b[39m\u001b[38;5;124m\"\u001b[39m, exc_info\u001b[38;5;241m=\u001b[39m\u001b[38;5;28;01mTrue\u001b[39;00m)\n",
      "\u001b[0;31mKeyboardInterrupt\u001b[0m: Interrupted by user"
     ]
    }
   ],
   "source": [
    "#Check whether the departure harbour is element of the input data\n",
    "while True:\n",
    "    #Entering departure harbour\n",
    "    departure=input(str(\"Please enter departure port:\"))\n",
    "    depature='Brunsbüttel'\n",
    "    if not departure in df_routes['From'].values:\n",
    "        print(\"Entered port is not defined as a depature port in the input file. Please enter valid departure port.\")\n",
    "        continue\n",
    "    else:\n",
    "        break\n",
    "\n",
    "#Check whether the destination harbour is element of the input data\n",
    "while True:\n",
    "    #Entering destination harbour\n",
    "    #destination=input(str(\"Please enter destination port:\"))\n",
    "    destination='Kiel'\n",
    "    if not destination in df_routes['To'].values:\n",
    "        print(\"Entered port is not defined as a destination port in the input file. Please enter destination valid port.\")\n",
    "        continue\n",
    "    if destination == departure:\n",
    "        print(\"Entered destination port is equal to departure port. Please enter valid destination port.\")\n",
    "        continue\n",
    "    else:\n",
    "        #we're happy with the value given.\n",
    "        #we're ready to exit the loop.\n",
    "        break\n"
   ]
  },
  {
   "cell_type": "code",
   "execution_count": 4,
   "metadata": {},
   "outputs": [],
   "source": [
    "depature='Brunsbüttel'\n",
    "destination='Kiel'"
   ]
  },
  {
   "cell_type": "markdown",
   "metadata": {},
   "source": [
    "### Data enhancement of connection data"
   ]
  },
  {
   "cell_type": "markdown",
   "metadata": {},
   "source": [
    "A problem can be formulated in different ways in order to provide the quantum computer with it. In this example, the problem is formulated as a binary quadratic model (BQM) in the form of a QUBO. The mathematical phrase can be attained by a support class called Constraint Satisfaction Problem (CSP) or can directly be input. In this case, the problem will first be represented by a CSP. The CSP constitutes of \n",
    "1. all variables and \n",
    "2. constraints on the variables. \n",
    "\n",
    "As the variables in this example will represent the routes between two ports a set of support variables is needed in order to represent the entered departure and destination port. Therefor, artificial routes from \"start\" port to each real port and to \"end\" port from each real port are created in the following code. \n"
   ]
  },
  {
   "cell_type": "code",
   "execution_count": 5,
   "metadata": {},
   "outputs": [
    {
     "output_type": "execute_result",
     "data": {
      "text/plain": [
       "          From           To  Distance\n",
       "0        start  Brunsbüttel       0.0\n",
       "1        start        Emden       0.0\n",
       "2        start      Hamburg       0.0\n",
       "3        start         Kiel       0.0\n",
       "4        start  Bremerhaven       0.0\n",
       "0  Brunsbüttel  Bremerhaven      81.0\n",
       "1        Emden  Bremerhaven     137.0\n",
       "2      Hamburg  Bremerhaven     117.0\n",
       "3         Kiel  Bremerhaven     135.0\n",
       "4      Hamburg  Brunsbüttel      36.0\n",
       "5  Bremerhaven        Emden     137.0\n",
       "6  Brunsbüttel      Hamburg      36.0\n",
       "7  Bremerhaven         Kiel     135.0\n",
       "8  Brunsbüttel         Kiel      54.0\n",
       "9      Hamburg         Kiel      90.0\n",
       "0  Bremerhaven          end       0.0\n",
       "1  Brunsbüttel          end       0.0\n",
       "2        Emden          end       0.0\n",
       "3      Hamburg          end       0.0\n",
       "4         Kiel          end       0.0"
      ],
      "text/html": "<div>\n<style scoped>\n    .dataframe tbody tr th:only-of-type {\n        vertical-align: middle;\n    }\n\n    .dataframe tbody tr th {\n        vertical-align: top;\n    }\n\n    .dataframe thead th {\n        text-align: right;\n    }\n</style>\n<table border=\"1\" class=\"dataframe\">\n  <thead>\n    <tr style=\"text-align: right;\">\n      <th></th>\n      <th>From</th>\n      <th>To</th>\n      <th>Distance</th>\n    </tr>\n  </thead>\n  <tbody>\n    <tr>\n      <th>0</th>\n      <td>start</td>\n      <td>Brunsbüttel</td>\n      <td>0.0</td>\n    </tr>\n    <tr>\n      <th>1</th>\n      <td>start</td>\n      <td>Emden</td>\n      <td>0.0</td>\n    </tr>\n    <tr>\n      <th>2</th>\n      <td>start</td>\n      <td>Hamburg</td>\n      <td>0.0</td>\n    </tr>\n    <tr>\n      <th>3</th>\n      <td>start</td>\n      <td>Kiel</td>\n      <td>0.0</td>\n    </tr>\n    <tr>\n      <th>4</th>\n      <td>start</td>\n      <td>Bremerhaven</td>\n      <td>0.0</td>\n    </tr>\n    <tr>\n      <th>0</th>\n      <td>Brunsbüttel</td>\n      <td>Bremerhaven</td>\n      <td>81.0</td>\n    </tr>\n    <tr>\n      <th>1</th>\n      <td>Emden</td>\n      <td>Bremerhaven</td>\n      <td>137.0</td>\n    </tr>\n    <tr>\n      <th>2</th>\n      <td>Hamburg</td>\n      <td>Bremerhaven</td>\n      <td>117.0</td>\n    </tr>\n    <tr>\n      <th>3</th>\n      <td>Kiel</td>\n      <td>Bremerhaven</td>\n      <td>135.0</td>\n    </tr>\n    <tr>\n      <th>4</th>\n      <td>Hamburg</td>\n      <td>Brunsbüttel</td>\n      <td>36.0</td>\n    </tr>\n    <tr>\n      <th>5</th>\n      <td>Bremerhaven</td>\n      <td>Emden</td>\n      <td>137.0</td>\n    </tr>\n    <tr>\n      <th>6</th>\n      <td>Brunsbüttel</td>\n      <td>Hamburg</td>\n      <td>36.0</td>\n    </tr>\n    <tr>\n      <th>7</th>\n      <td>Bremerhaven</td>\n      <td>Kiel</td>\n      <td>135.0</td>\n    </tr>\n    <tr>\n      <th>8</th>\n      <td>Brunsbüttel</td>\n      <td>Kiel</td>\n      <td>54.0</td>\n    </tr>\n    <tr>\n      <th>9</th>\n      <td>Hamburg</td>\n      <td>Kiel</td>\n      <td>90.0</td>\n    </tr>\n    <tr>\n      <th>0</th>\n      <td>Bremerhaven</td>\n      <td>end</td>\n      <td>0.0</td>\n    </tr>\n    <tr>\n      <th>1</th>\n      <td>Brunsbüttel</td>\n      <td>end</td>\n      <td>0.0</td>\n    </tr>\n    <tr>\n      <th>2</th>\n      <td>Emden</td>\n      <td>end</td>\n      <td>0.0</td>\n    </tr>\n    <tr>\n      <th>3</th>\n      <td>Hamburg</td>\n      <td>end</td>\n      <td>0.0</td>\n    </tr>\n    <tr>\n      <th>4</th>\n      <td>Kiel</td>\n      <td>end</td>\n      <td>0.0</td>\n    </tr>\n  </tbody>\n</table>\n</div>"
     },
     "metadata": {},
     "execution_count": 5
    }
   ],
   "source": [
    "df_starts = pd.DataFrame({'From':'start', 'To':df_routes['From'].unique(),'Distance':0})\n",
    "df_ends = pd.DataFrame({'From':df_routes['To'].unique(), 'To':'end','Distance':0})\n",
    "df_routes= pd.concat([df_starts,df_routes,df_ends])\n",
    "df_routes"
   ]
  },
  {
   "cell_type": "markdown",
   "metadata": {},
   "source": [
    "# Data Preparation for Quantum Computing (Definition of Classes)"
   ]
  },
  {
   "cell_type": "markdown",
   "metadata": {},
   "source": [
    "In this section, all methods are defined that are later used to\n",
    "1. create Contraint Satisfaction Problem (CSP)\n",
    "2. formulate Binary Quadratic Model (BQM) as QUBO. "
   ]
  },
  {
   "cell_type": "markdown",
   "metadata": {},
   "source": [
    "### Basic functions"
   ]
  },
  {
   "cell_type": "code",
   "execution_count": 8,
   "metadata": {},
   "outputs": [],
   "source": [
    "def sum_to_two_or_zero(*args):\n",
    "        \"\"\"Checks to see if the args sum to either 0 or 2.\n",
    "        \"\"\"\n",
    "        sum_value = sum(args)\n",
    "        return sum_value in [0, 2]\n",
    "        \n",
    "def sum_smaller_equal_one(*args):\n",
    "        \"\"\"Checks to see if the args sum to either smaller or equal to 1.\n",
    "        \"\"\"\n",
    "        sum_value = sum(args)\n",
    "        return sum_value in [0, 1]\n",
    "\n",
    "def get_labels(dataframe):\n",
    "        \"\"\"Returns a list of labels from a Dataframe of the format of the input file\"\"\"\n",
    "        labels=(dataframe['From']+'-'+dataframe['To']+'-'+dataframe['Distance'].astype(str)).values.tolist()\n",
    "        return labels"
   ]
  },
  {
   "cell_type": "markdown",
   "metadata": {},
   "source": [
    "### Definition class Ferry"
   ]
  },
  {
   "cell_type": "code",
   "execution_count": 9,
   "metadata": {},
   "outputs": [],
   "source": [
    "class Ferryarea:\n",
    "    def __init__(self,start,end,routes):\n",
    "        \"\"\" Initializes object of Type Ferryarea\"\"\"\n",
    "        #Instantiate\n",
    "        self.start=start\n",
    "        self.end=end\n",
    "        self.df_routes = routes#df_routes.values.tolist()\n",
    "        self.ports = pd.DataFrame({'ports':np.append(df_routes['To'].unique(),df_routes['From'].unique())}).drop_duplicates().values.tolist()\n",
    "        self.csp = dwavebinarycsp.ConstraintSatisfactionProblem(dwavebinarycsp.BINARY)\n",
    "        \n",
    "    def _get_csp(self):\n",
    "        return self.csp    \n",
    "    def _apply_valid_routes_constraint(self):\n",
    "        \"\"\"Creates constraints defining that every entered port has to be exited as well and that every port can only be entered and exited through one route.\"\"\"\n",
    "\n",
    "        for port in self.ports:\n",
    "            #assign to directions Dataframe a Dataframe containing only direction to and from the port\n",
    "            df_directions_from= self.df_routes[self.df_routes['From']==port[0]]\n",
    "            df_directions_to= self.df_routes[self.df_routes['To']==port[0]]\n",
    "            df_directions= pd.concat([df_directions_to,df_directions_from])\n",
    "            \n",
    "            #creates sets of labels as basis for constraint defintion\n",
    "            directions_all = set(get_labels(df_directions))\n",
    "            \n",
    "            #set((df_directions['From']+'-'+df_directions['To']+'-'+df_directions['Distance'].astype(str)).values.tolist())\n",
    "            directions_to= set(get_labels(df_directions_to))\n",
    "            #set((df_directions_to['From']+'-'+df_directions_to['To']+'-'+df_directions_to['Distance'].astype(str)).values.tolist())\n",
    "            directions_from= set(get_labels(df_directions_from))\n",
    "            #set((df_directions_from['From']+'-'+df_directions_from['To']+'-'+df_directions_from['Distance'].astype(str)).values.tolist())\n",
    "              \n",
    "            \n",
    "            #add constraint sum_to_two_or_zero\n",
    "            self.csp.add_constraint(sum_to_two_or_zero,directions_all)\n",
    "\n",
    "            #add constraint 'To' sum_to_zero_or_one\n",
    "            self.csp.add_constraint(sum_smaller_equal_one,directions_to)\n",
    "\n",
    "            #add constraint 'From' sum_to_zero_or_one\n",
    "            self.csp.add_constraint(sum_smaller_equal_one, directions_from)\n",
    "            \n",
    "        print(self.csp.constraints)\n",
    "    def _set_start_and_end(self):\n",
    "        \"\"\"Sets the values of the departure and destination port to 1 and all other start and end possibilities to 0\n",
    "        \"\"\" #all other possibilies do not have to be 0. However, this is expected to descrease calculation time\n",
    "\n",
    "        #select all start and end routes\n",
    "        df_routes_to_fix= pd.concat([self.df_routes[self.df_routes['From']=='start'],self.df_routes[self.df_routes['To']=='end']])\n",
    "        print(df_routes_to_fix)\n",
    "        count=0\n",
    "\n",
    "        for i in df_routes_to_fix.values:\n",
    "            \n",
    "            #print(\"type:\", type(df_routes_to_fix[count]))\n",
    "            print(\"label of:\", df_routes_to_fix.iloc[count])\n",
    "\n",
    "            label= get_labels(df_routes_to_fix.iloc[[count]])\n",
    "            print('Label:',label)\n",
    "            if (df_routes_to_fix['To'].iloc[count])==self.start:\n",
    "                #sets departure to 1\n",
    "                self.csp.fix_variable(label[0],1)\n",
    "            elif (df_routes_to_fix['From'].iloc[count])==self.end:\n",
    "                #sets destination to 1\n",
    "                self.csp.fix_variable(label[0],1)\n",
    "            else:\n",
    "                #sets departure and destination to 0\n",
    "                self.csp.fix_variable(label[0],0)\n",
    "            count=count+1\n",
    "        #set start\n",
    "            #self.csp.fix_variable('start-'+self.start+'-0.0',1)\n",
    "\n",
    "        #set end\n",
    "            #self.csp.fix_variable(self.end+'-end-0.0',1)\n",
    "\n",
    "        #set all other starts and ends to 0\n",
    "       \n"
   ]
  },
  {
   "cell_type": "markdown",
   "metadata": {},
   "source": [
    "### Initialization of Ferryarea"
   ]
  },
  {
   "cell_type": "code",
   "execution_count": 10,
   "metadata": {},
   "outputs": [
    {
     "output_type": "stream",
     "name": "stdout",
     "text": [
      "[Constraint.from_configurations(frozenset({(0, 0, 0, 0, 1, 1), (0, 0, 1, 0, 1, 0), (0, 0, 1, 1, 0, 0), (0, 0, 0, 1, 0, 1), (1, 0, 0, 1, 0, 0), (0, 0, 0, 0, 0, 0), (1, 1, 0, 0, 0, 0), (0, 1, 0, 0, 1, 0), (0, 1, 0, 1, 0, 0), (0, 1, 1, 0, 0, 0), (0, 1, 0, 0, 0, 1), (1, 0, 1, 0, 0, 0), (0, 0, 1, 0, 0, 1), (1, 0, 0, 0, 0, 1), (1, 0, 0, 0, 1, 0), (0, 0, 0, 1, 1, 0)}), ('Brunsbüttel-Kiel-54.0', 'Brunsbüttel-Bremerhaven-81.0', 'Brunsbüttel-Hamburg-36.0', 'start-Brunsbüttel-0.0', 'Hamburg-Brunsbüttel-36.0', 'Brunsbüttel-end-0.0'), Vartype.BINARY, name='Constraint'), Constraint.from_configurations(frozenset({(0, 1), (1, 0), (0, 0)}), ('Hamburg-Brunsbüttel-36.0', 'start-Brunsbüttel-0.0'), Vartype.BINARY, name='Constraint'), Constraint.from_configurations(frozenset({(0, 0, 0, 1), (0, 0, 1, 0), (0, 1, 0, 0), (0, 0, 0, 0), (1, 0, 0, 0)}), ('Brunsbüttel-Bremerhaven-81.0', 'Brunsbüttel-Kiel-54.0', 'Brunsbüttel-Hamburg-36.0', 'Brunsbüttel-end-0.0'), Vartype.BINARY, name='Constraint'), Constraint.from_configurations(frozenset({(0, 1, 0, 1), (1, 1, 0, 0), (0, 1, 1, 0), (0, 0, 0, 0), (1, 0, 1, 0), (1, 0, 0, 1), (0, 0, 1, 1)}), ('Emden-Bremerhaven-137.0', 'Emden-end-0.0', 'start-Emden-0.0', 'Bremerhaven-Emden-137.0'), Vartype.BINARY, name='Constraint'), Constraint.from_configurations(frozenset({(0, 1), (1, 0), (0, 0)}), ('start-Emden-0.0', 'Bremerhaven-Emden-137.0'), Vartype.BINARY, name='Constraint'), Constraint.from_configurations(frozenset({(0, 1), (1, 0), (0, 0)}), ('Emden-end-0.0', 'Emden-Bremerhaven-137.0'), Vartype.BINARY, name='Constraint'), Constraint.from_configurations(frozenset({(0, 0, 0, 0, 1, 1), (0, 0, 1, 0, 1, 0), (0, 0, 1, 1, 0, 0), (0, 0, 0, 1, 0, 1), (1, 0, 0, 1, 0, 0), (0, 0, 0, 0, 0, 0), (1, 1, 0, 0, 0, 0), (0, 1, 0, 0, 1, 0), (0, 1, 0, 1, 0, 0), (0, 1, 1, 0, 0, 0), (0, 1, 0, 0, 0, 1), (1, 0, 1, 0, 0, 0), (0, 0, 1, 0, 0, 1), (1, 0, 0, 0, 0, 1), (1, 0, 0, 0, 1, 0), (0, 0, 0, 1, 1, 0)}), ('Hamburg-Bremerhaven-117.0', 'start-Hamburg-0.0', 'Brunsbüttel-Hamburg-36.0', 'Hamburg-Kiel-90.0', 'Hamburg-Brunsbüttel-36.0', 'Hamburg-end-0.0'), Vartype.BINARY, name='Constraint'), Constraint.from_configurations(frozenset({(0, 1), (1, 0), (0, 0)}), ('start-Hamburg-0.0', 'Brunsbüttel-Hamburg-36.0'), Vartype.BINARY, name='Constraint'), Constraint.from_configurations(frozenset({(0, 0, 0, 1), (0, 0, 1, 0), (0, 1, 0, 0), (0, 0, 0, 0), (1, 0, 0, 0)}), ('Hamburg-Bremerhaven-117.0', 'Hamburg-Brunsbüttel-36.0', 'Hamburg-end-0.0', 'Hamburg-Kiel-90.0'), Vartype.BINARY, name='Constraint'), Constraint.from_configurations(frozenset({(0, 0, 0, 0, 1, 1), (0, 0, 1, 0, 1, 0), (0, 0, 1, 1, 0, 0), (0, 0, 0, 1, 0, 1), (1, 0, 0, 1, 0, 0), (0, 0, 0, 0, 0, 0), (1, 1, 0, 0, 0, 0), (0, 1, 0, 0, 1, 0), (0, 1, 0, 1, 0, 0), (0, 1, 1, 0, 0, 0), (0, 1, 0, 0, 0, 1), (1, 0, 1, 0, 0, 0), (0, 0, 1, 0, 0, 1), (1, 0, 0, 0, 0, 1), (1, 0, 0, 0, 1, 0), (0, 0, 0, 1, 1, 0)}), ('Brunsbüttel-Kiel-54.0', 'start-Kiel-0.0', 'Kiel-end-0.0', 'Kiel-Bremerhaven-135.0', 'Hamburg-Kiel-90.0', 'Bremerhaven-Kiel-135.0'), Vartype.BINARY, name='Constraint'), Constraint.from_configurations(frozenset({(0, 0, 0, 1), (0, 0, 1, 0), (0, 1, 0, 0), (0, 0, 0, 0), (1, 0, 0, 0)}), ('Hamburg-Kiel-90.0', 'Brunsbüttel-Kiel-54.0', 'start-Kiel-0.0', 'Bremerhaven-Kiel-135.0'), Vartype.BINARY, name='Constraint'), Constraint.from_configurations(frozenset({(0, 1), (1, 0), (0, 0)}), ('Kiel-Bremerhaven-135.0', 'Kiel-end-0.0'), Vartype.BINARY, name='Constraint'), Constraint.from_configurations(frozenset({(0, 0, 0, 1, 0, 0, 0, 1), (0, 0, 0, 0, 1, 0, 1, 0), (0, 0, 0, 0, 1, 1, 0, 0), (0, 0, 0, 1, 0, 1, 0, 0), (0, 1, 0, 0, 0, 0, 0, 1), (0, 1, 1, 0, 0, 0, 0, 0), (0, 0, 0, 0, 0, 0, 0, 0), (0, 1, 0, 0, 0, 1, 0, 0), (1, 0, 1, 0, 0, 0, 0, 0), (0, 0, 0, 0, 1, 0, 0, 1), (1, 0, 0, 0, 0, 0, 1, 0), (1, 1, 0, 0, 0, 0, 0, 0), (0, 0, 1, 0, 1, 0, 0, 0), (1, 0, 0, 0, 0, 0, 0, 1), (0, 0, 1, 0, 0, 0, 1, 0), (1, 0, 0, 1, 0, 0, 0, 0), (0, 0, 0, 0, 0, 0, 1, 1), (0, 0, 1, 0, 0, 0, 0, 1), (1, 0, 0, 0, 1, 0, 0, 0), (0, 0, 1, 0, 0, 1, 0, 0), (0, 1, 0, 0, 0, 0, 1, 0), (0, 1, 0, 1, 0, 0, 0, 0), (0, 0, 0, 1, 0, 0, 1, 0), (1, 0, 0, 0, 0, 1, 0, 0), (0, 0, 0, 1, 1, 0, 0, 0), (0, 0, 1, 1, 0, 0, 0, 0), (0, 1, 0, 0, 1, 0, 0, 0), (0, 0, 0, 0, 0, 1, 0, 1), (0, 0, 0, 0, 0, 1, 1, 0)}), ('Hamburg-Bremerhaven-117.0', 'Bremerhaven-end-0.0', 'Kiel-Bremerhaven-135.0', 'Brunsbüttel-Bremerhaven-81.0', 'Emden-Bremerhaven-137.0', 'start-Bremerhaven-0.0', 'Bremerhaven-Emden-137.0', 'Bremerhaven-Kiel-135.0'), Vartype.BINARY, name='Constraint'), Constraint.from_configurations(frozenset({(0, 0, 1, 0, 0), (0, 0, 0, 0, 1), (0, 1, 0, 0, 0), (0, 0, 0, 0, 0), (0, 0, 0, 1, 0), (1, 0, 0, 0, 0)}), ('Hamburg-Bremerhaven-117.0', 'Kiel-Bremerhaven-135.0', 'Brunsbüttel-Bremerhaven-81.0', 'Emden-Bremerhaven-137.0', 'start-Bremerhaven-0.0'), Vartype.BINARY, name='Constraint'), Constraint.from_configurations(frozenset({(1, 0, 0), (0, 0, 0), (0, 0, 1), (0, 1, 0)}), ('Bremerhaven-end-0.0', 'Bremerhaven-Emden-137.0', 'Bremerhaven-Kiel-135.0'), Vartype.BINARY, name='Constraint'), Constraint.from_configurations(frozenset({(1, 0, 1, 0, 0), (0, 0, 1, 0, 1), (1, 1, 0, 0, 0), (0, 1, 0, 0, 1), (1, 0, 0, 0, 1), (0, 0, 1, 1, 0), (0, 0, 0, 1, 1), (0, 1, 0, 1, 0), (0, 0, 0, 0, 0), (0, 1, 1, 0, 0), (1, 0, 0, 1, 0)}), ('Bremerhaven-end-0.0', 'Kiel-end-0.0', 'Hamburg-end-0.0', 'Emden-end-0.0', 'Brunsbüttel-end-0.0'), Vartype.BINARY, name='Constraint'), Constraint.from_configurations(frozenset({(0, 0, 1, 0, 0), (0, 0, 0, 0, 1), (0, 1, 0, 0, 0), (0, 0, 0, 0, 0), (0, 0, 0, 1, 0), (1, 0, 0, 0, 0)}), ('Bremerhaven-end-0.0', 'Kiel-end-0.0', 'Hamburg-end-0.0', 'Emden-end-0.0', 'Brunsbüttel-end-0.0'), Vartype.BINARY, name='Constraint'), Constraint.from_configurations(frozenset({()}), (), Vartype.BINARY, name='Constraint'), Constraint.from_configurations(frozenset({(1, 0, 1, 0, 0), (0, 0, 1, 0, 1), (1, 1, 0, 0, 0), (0, 1, 0, 0, 1), (1, 0, 0, 0, 1), (0, 0, 1, 1, 0), (0, 0, 0, 1, 1), (0, 1, 0, 1, 0), (0, 0, 0, 0, 0), (0, 1, 1, 0, 0), (1, 0, 0, 1, 0)}), ('start-Kiel-0.0', 'start-Hamburg-0.0', 'start-Emden-0.0', 'start-Bremerhaven-0.0', 'start-Brunsbüttel-0.0'), Vartype.BINARY, name='Constraint'), Constraint.from_configurations(frozenset({()}), (), Vartype.BINARY, name='Constraint'), Constraint.from_configurations(frozenset({(0, 0, 1, 0, 0), (0, 0, 0, 0, 1), (0, 1, 0, 0, 0), (0, 0, 0, 0, 0), (0, 0, 0, 1, 0), (1, 0, 0, 0, 0)}), ('start-Kiel-0.0', 'start-Hamburg-0.0', 'start-Emden-0.0', 'start-Bremerhaven-0.0', 'start-Brunsbüttel-0.0'), Vartype.BINARY, name='Constraint')]\n          From           To  Distance\n0        start  Brunsbüttel       0.0\n1        start        Emden       0.0\n2        start      Hamburg       0.0\n3        start         Kiel       0.0\n4        start  Bremerhaven       0.0\n0  Bremerhaven          end       0.0\n1  Brunsbüttel          end       0.0\n2        Emden          end       0.0\n3      Hamburg          end       0.0\n4         Kiel          end       0.0\nlabel of: From              start\nTo          Brunsbüttel\nDistance            0.0\nName: 0, dtype: object\nLabel: ['start-Brunsbüttel-0.0']\nlabel of: From        start\nTo          Emden\nDistance      0.0\nName: 1, dtype: object\nLabel: ['start-Emden-0.0']\nlabel of: From          start\nTo          Hamburg\nDistance        0.0\nName: 2, dtype: object\nLabel: ['start-Hamburg-0.0']\nlabel of: From        start\nTo           Kiel\nDistance      0.0\nName: 3, dtype: object\nLabel: ['start-Kiel-0.0']\nlabel of: From              start\nTo          Bremerhaven\nDistance            0.0\nName: 4, dtype: object\nLabel: ['start-Bremerhaven-0.0']\nlabel of: From        Bremerhaven\nTo                  end\nDistance            0.0\nName: 0, dtype: object\nLabel: ['Bremerhaven-end-0.0']\nlabel of: From        Brunsbüttel\nTo                  end\nDistance            0.0\nName: 1, dtype: object\nLabel: ['Brunsbüttel-end-0.0']\nlabel of: From        Emden\nTo            end\nDistance      0.0\nName: 2, dtype: object\nLabel: ['Emden-end-0.0']\nlabel of: From        Hamburg\nTo              end\nDistance        0.0\nName: 3, dtype: object\nLabel: ['Hamburg-end-0.0']\nlabel of: From        Kiel\nTo           end\nDistance     0.0\nName: 4, dtype: object\nLabel: ['Kiel-end-0.0']\n"
     ]
    },
    {
     "output_type": "error",
     "ename": "UnsatError",
     "evalue": "fixing Kiel-end-0.0 to 1 makes this constraint unsatisfiable",
     "traceback": [
      "\u001b[0;31m---------------------------------------------------------------------------\u001b[0m",
      "\u001b[0;31mUnsatError\u001b[0m                                Traceback (most recent call last)",
      "Cell \u001b[0;32mIn[10], line 3\u001b[0m\n\u001b[1;32m      1\u001b[0m f\u001b[38;5;241m=\u001b[39mFerryarea(start\u001b[38;5;241m=\u001b[39mdeparture,end\u001b[38;5;241m=\u001b[39mdestination,routes\u001b[38;5;241m=\u001b[39mdf_routes)\n\u001b[1;32m      2\u001b[0m f\u001b[38;5;241m.\u001b[39m_apply_valid_routes_constraint()\n\u001b[0;32m----> 3\u001b[0m \u001b[43mf\u001b[49m\u001b[38;5;241;43m.\u001b[39;49m\u001b[43m_set_start_and_end\u001b[49m\u001b[43m(\u001b[49m\u001b[43m)\u001b[49m\n\u001b[1;32m      4\u001b[0m csp\u001b[38;5;241m=\u001b[39m f\u001b[38;5;241m.\u001b[39m_get_csp()\n",
      "Cell \u001b[0;32mIn[9], line 63\u001b[0m, in \u001b[0;36mFerryarea._set_start_and_end\u001b[0;34m(self)\u001b[0m\n\u001b[1;32m     60\u001b[0m     \u001b[38;5;28mself\u001b[39m\u001b[38;5;241m.\u001b[39mcsp\u001b[38;5;241m.\u001b[39mfix_variable(label[\u001b[38;5;241m0\u001b[39m],\u001b[38;5;241m1\u001b[39m)\n\u001b[1;32m     61\u001b[0m \u001b[38;5;28;01melif\u001b[39;00m (df_routes_to_fix[\u001b[38;5;124m'\u001b[39m\u001b[38;5;124mFrom\u001b[39m\u001b[38;5;124m'\u001b[39m]\u001b[38;5;241m.\u001b[39miloc[count])\u001b[38;5;241m==\u001b[39m\u001b[38;5;28mself\u001b[39m\u001b[38;5;241m.\u001b[39mend:\n\u001b[1;32m     62\u001b[0m     \u001b[38;5;66;03m#sets destination to 1\u001b[39;00m\n\u001b[0;32m---> 63\u001b[0m     \u001b[38;5;28;43mself\u001b[39;49m\u001b[38;5;241;43m.\u001b[39;49m\u001b[43mcsp\u001b[49m\u001b[38;5;241;43m.\u001b[39;49m\u001b[43mfix_variable\u001b[49m\u001b[43m(\u001b[49m\u001b[43mlabel\u001b[49m\u001b[43m[\u001b[49m\u001b[38;5;241;43m0\u001b[39;49m\u001b[43m]\u001b[49m\u001b[43m,\u001b[49m\u001b[38;5;241;43m1\u001b[39;49m\u001b[43m)\u001b[49m\n\u001b[1;32m     64\u001b[0m \u001b[38;5;28;01melse\u001b[39;00m:\n\u001b[1;32m     65\u001b[0m     \u001b[38;5;66;03m#sets departure and destination to 0\u001b[39;00m\n\u001b[1;32m     66\u001b[0m     \u001b[38;5;28mself\u001b[39m\u001b[38;5;241m.\u001b[39mcsp\u001b[38;5;241m.\u001b[39mfix_variable(label[\u001b[38;5;241m0\u001b[39m],\u001b[38;5;241m0\u001b[39m)\n",
      "File \u001b[0;32m/usr/local/lib/python3.9/site-packages/dwavebinarycsp/core/csp.py:229\u001b[0m, in \u001b[0;36mConstraintSatisfactionProblem.fix_variable\u001b[0;34m(self, v, value)\u001b[0m\n\u001b[1;32m    226\u001b[0m     \u001b[38;5;28;01mraise\u001b[39;00m \u001b[38;5;167;01mValueError\u001b[39;00m(\u001b[38;5;124m\"\u001b[39m\u001b[38;5;124mgiven variable \u001b[39m\u001b[38;5;132;01m{}\u001b[39;00m\u001b[38;5;124m is not part of the constraint satisfaction problem\u001b[39m\u001b[38;5;124m\"\u001b[39m\u001b[38;5;241m.\u001b[39mformat(v))\n\u001b[1;32m    228\u001b[0m \u001b[38;5;28;01mfor\u001b[39;00m constraint \u001b[38;5;129;01min\u001b[39;00m \u001b[38;5;28mself\u001b[39m\u001b[38;5;241m.\u001b[39mvariables[v]:\n\u001b[0;32m--> 229\u001b[0m     \u001b[43mconstraint\u001b[49m\u001b[38;5;241;43m.\u001b[39;49m\u001b[43mfix_variable\u001b[49m\u001b[43m(\u001b[49m\u001b[43mv\u001b[49m\u001b[43m,\u001b[49m\u001b[43m \u001b[49m\u001b[43mvalue\u001b[49m\u001b[43m)\u001b[49m\n\u001b[1;32m    231\u001b[0m \u001b[38;5;28;01mdel\u001b[39;00m \u001b[38;5;28mself\u001b[39m\u001b[38;5;241m.\u001b[39mvariables[v]\n",
      "File \u001b[0;32m/usr/local/lib/python3.9/site-packages/dwavebinarycsp/core/constraint.py:392\u001b[0m, in \u001b[0;36mConstraint.fix_variable\u001b[0;34m(self, v, value)\u001b[0m\n\u001b[1;32m    387\u001b[0m configurations \u001b[38;5;241m=\u001b[39m \u001b[38;5;28mfrozenset\u001b[39m(config[:idx] \u001b[38;5;241m+\u001b[39m config[idx \u001b[38;5;241m+\u001b[39m \u001b[38;5;241m1\u001b[39m:]  \u001b[38;5;66;03m# exclude the fixed var\u001b[39;00m\n\u001b[1;32m    388\u001b[0m                            \u001b[38;5;28;01mfor\u001b[39;00m config \u001b[38;5;129;01min\u001b[39;00m \u001b[38;5;28mself\u001b[39m\u001b[38;5;241m.\u001b[39mconfigurations\n\u001b[1;32m    389\u001b[0m                            \u001b[38;5;28;01mif\u001b[39;00m config[idx] \u001b[38;5;241m==\u001b[39m value)\n\u001b[1;32m    391\u001b[0m \u001b[38;5;28;01mif\u001b[39;00m \u001b[38;5;129;01mnot\u001b[39;00m configurations:\n\u001b[0;32m--> 392\u001b[0m     \u001b[38;5;28;01mraise\u001b[39;00m UnsatError(\u001b[38;5;124m\"\u001b[39m\u001b[38;5;124mfixing \u001b[39m\u001b[38;5;132;01m{}\u001b[39;00m\u001b[38;5;124m to \u001b[39m\u001b[38;5;132;01m{}\u001b[39;00m\u001b[38;5;124m makes this constraint unsatisfiable\u001b[39m\u001b[38;5;124m\"\u001b[39m\u001b[38;5;241m.\u001b[39mformat(v, value))\n\u001b[1;32m    394\u001b[0m variables \u001b[38;5;241m=\u001b[39m variables[:idx] \u001b[38;5;241m+\u001b[39m variables[idx \u001b[38;5;241m+\u001b[39m \u001b[38;5;241m1\u001b[39m:]\n\u001b[1;32m    396\u001b[0m \u001b[38;5;28mself\u001b[39m\u001b[38;5;241m.\u001b[39mconfigurations \u001b[38;5;241m=\u001b[39m configurations\n",
      "\u001b[0;31mUnsatError\u001b[0m: fixing Kiel-end-0.0 to 1 makes this constraint unsatisfiable"
     ]
    }
   ],
   "source": [
    "f=Ferryarea(start=departure,end=destination,routes=df_routes)\n",
    "f._apply_valid_routes_constraint()\n",
    "f._set_start_and_end()\n",
    "csp= f._get_csp()"
   ]
  },
  {
   "cell_type": "markdown",
   "metadata": {},
   "source": [
    "# Creation of BQM and Transfer to Quantum Sampler"
   ]
  },
  {
   "cell_type": "code",
   "execution_count": null,
   "metadata": {},
   "outputs": [],
   "source": [
    "# Create BQM\n",
    "bqm = dwavebinarycsp.stitch(csp)"
   ]
  },
  {
   "cell_type": "code",
   "execution_count": null,
   "metadata": {},
   "outputs": [],
   "source": [
    "# Add Penalty\n",
    "penalty=0.01\n",
    "for v in bqm.variables:\n",
    "    split_v = v.split(‘-’)\n",
    "    bqm.add_variable(v, (penalty*split_v[2]))\n"
   ]
  },
  {
   "cell_type": "code",
   "execution_count": null,
   "metadata": {},
   "outputs": [],
   "source": [
    "# define Sampler\n",
    "sampler = EmbeddingComposite(DWaveSampler())\n"
   ]
  },
  {
   "cell_type": "code",
   "execution_count": null,
   "metadata": {},
   "outputs": [],
   "source": [
    "# run BQM on QPU\n",
    "result = sampler.sample(bqm,\n",
    "                        num_reads=100,\n",
    "                        chain_strength=1,\n",
    "                        label='ferrylines')"
   ]
  },
  {
   "cell_type": "code",
   "execution_count": null,
   "metadata": {},
   "outputs": [],
   "source": [
    "# visualize result\n",
    "print(result.first.sample)"
   ]
  },
  {
   "source": [
    "# Shortest Way with Dijkstra-Algorithm"
   ],
   "cell_type": "markdown",
   "metadata": {}
  },
  {
   "source": [
    "Dijkstra Algorithm"
   ],
   "cell_type": "markdown",
   "metadata": {}
  },
  {
   "cell_type": "code",
   "execution_count": 6,
   "metadata": {},
   "outputs": [
    {
     "output_type": "stream",
     "name": "stdout",
     "text": [
      "{'Bremerhaven': {'Emden': 137.0, 'Kiel': 135.0}, 'Brunsbüttel': {'Bremerhaven': 81.0, 'Hamburg': 36.0, 'Kiel': 54.0}, 'Emden': {'Bremerhaven': 137.0}, 'Hamburg': {'Bremerhaven': 117.0, 'Brunsbüttel': 36.0, 'Kiel': 90.0}, 'Kiel': {'Bremerhaven': 135.0}}\n"
     ]
    }
   ],
   "source": [
    "# define Graph with distances for every Point\n",
    "graph={}\n",
    "for index,port in df_ports.iterrows():\n",
    "    routes=df_routes_withoutStardEnd[df_routes_withoutStardEnd['From']==port['From']]\n",
    "    distances={}\n",
    "    for i,r in routes.iterrows():\n",
    "        distances[r['To']] = r['Distance']\n",
    "    graph[port['From']] =distances\n",
    "print(graph)\n"
   ]
  },
  {
   "cell_type": "code",
   "execution_count": 7,
   "metadata": {},
   "outputs": [],
   "source": [
    "import pprint\n",
    "pp = pprint.PrettyPrinter(indent=4)"
   ]
  },
  {
   "cell_type": "code",
   "execution_count": 9,
   "metadata": {},
   "outputs": [
    {
     "output_type": "stream",
     "name": "stdout",
     "text": [
      "{'Bremerhaven': {'shortest distance': 81.0, 'previous': 'Brunsbüttel'}, 'Brunsbüttel': {'shortest distance': 0, 'previous': None}, 'Emden': {'shortest distance': 218.0, 'previous': 'Bremerhaven'}, 'Hamburg': {'shortest distance': 36.0, 'previous': 'Brunsbüttel'}, 'Kiel': {'shortest distance': 54.0, 'previous': 'Brunsbüttel'}}\n{   'Bremerhaven': {'previous': 'Brunsbüttel', 'shortest distance': 81.0},\n    'Brunsbüttel': {'previous': None, 'shortest distance': 0},\n    'Emden': {'previous': 'Bremerhaven', 'shortest distance': 218.0},\n    'Hamburg': {'previous': 'Brunsbüttel', 'shortest distance': 36.0},\n    'Kiel': {'previous': 'Brunsbüttel', 'shortest distance': 54.0}}\n\n"
     ]
    }
   ],
   "source": [
    "queue = [depature]\n",
    "d = {node: {\"shortest distance\":float(\"inf\"), \"previous\":None} for node in graph}\n",
    "d[depature][\"shortest distance\"] = 0\n",
    "while queue:\n",
    "    current = queue.pop(0)\n",
    "    shortest_distance = d[current][\"shortest distance\"]\n",
    "    for neighbour in graph[current]:\n",
    "\n",
    "        dist_to_neighbour = graph[current][neighbour]\n",
    "\n",
    "        if shortest_distance + dist_to_neighbour < d[neighbour][\"shortest distance\"]:\n",
    "\n",
    "            d[neighbour] = {\n",
    "                \"shortest distance\": shortest_distance + dist_to_neighbour,\n",
    "                \"previous\": current\n",
    "            }\n",
    "            queue.append(neighbour)\n",
    "print(d)\n",
    "pp.pprint(d)\n",
    "print()"
   ]
  },
  {
   "cell_type": "code",
   "execution_count": 10,
   "metadata": {},
   "outputs": [
    {
     "output_type": "stream",
     "name": "stdout",
     "text": [
      "Distance: 54.0 Pfad: ['Brunsbüttel', 'Kiel']\n"
     ]
    }
   ],
   "source": [
    "current = destination\n",
    "path = [current]\n",
    "distance_sum=0.0\n",
    "while current != depature:\n",
    "    distance_sum = distance_sum+d[current][\"shortest distance\"]\n",
    "    current = d[current][\"previous\"]\n",
    "    path.append(current)\n",
    "\n",
    "path = path[::-1]\n",
    "print('Distance: '+str(distance_sum)+' Pfad: '+str(path))"
   ]
  },
  {
   "cell_type": "code",
   "execution_count": null,
   "metadata": {},
   "outputs": [],
   "source": []
  }
 ],
 "metadata": {
  "kernelspec": {
   "name": "python3",
   "display_name": "Python 3.9.15 64-bit"
  },
  "language_info": {
   "codemirror_mode": {
    "name": "ipython",
    "version": 3
   },
   "file_extension": ".py",
   "mimetype": "text/x-python",
   "name": "python",
   "nbconvert_exporter": "python",
   "pygments_lexer": "ipython3",
   "version": "3.9.15"
  },
  "orig_nbformat": 4,
  "vscode": {
   "interpreter": {
    "hash": "1a67aca957aef3b8ba77a329b2e49205fd6e483562b4cf13d66942f6b2ebf41c"
   }
  },
  "interpreter": {
   "hash": "4cd7ab41f5fca4b9b44701077e38c5ffd31fe66a6cab21e0214b68d958d0e462"
  }
 },
 "nbformat": 4,
 "nbformat_minor": 2
}