{
 "cells": [
  {
   "cell_type": "markdown",
   "metadata": {},
   "source": [
    "# Introduction"
   ]
  },
  {
   "cell_type": "markdown",
   "metadata": {},
   "source": [
    "Copyright\n",
    "\n",
    "Distribution"
   ]
  },
  {
   "cell_type": "markdown",
   "metadata": {},
   "source": [
    "In order to use the code the following libraries, classes and functions must be installed:\n",
    "1. Pandas\n",
    "2. Numpy\n",
    "3. RegEx\n",
    "4. D-wave Samplers as below\n",
    "5. Dimod modules as below"
   ]
  },
  {
   "cell_type": "code",
   "execution_count": null,
   "metadata": {},
   "outputs": [],
   "source": [
    "import pandas as pd\n",
    "import numpy as np\n",
    "from dwave.system.samplers import DWaveSampler\n",
    "from dwave.system import LeapHybridCQMSampler\n",
    "from dwave.system.composites import EmbeddingComposite\n",
    "from dimod import quicksum\n",
    "from dimod import Binary\n",
    "from dimod import CQM\n",
    "import dwave.inspector\n",
    "import dwavebinarycsp\n",
    "import re\n",
    "from time import process_time\n",
    "import pprint"
   ]
  },
  {
   "cell_type": "markdown",
   "metadata": {},
   "source": [
    "# Input and Preprocessing (Anna Ehrenberg)"
   ]
  },
  {
   "cell_type": "markdown",
   "metadata": {},
   "source": [
    "In this section all data input is entered, validated and preprocessed in order to meet further requirements. "
   ]
  },
  {
   "cell_type": "markdown",
   "metadata": {},
   "source": [
    "In this section the following input is proceeded:\n",
    "\n",
    "Input data file with information on ferry routes with\n",
    "- From: route start port (Column1)\n",
    "- To: route end port (Row1)\n",
    "- Distance: shortest direct distance between departure and arrival port (Number in matrix). If the connection is not possible, the distance is zero or no value is entered.\n"
   ]
  },
  {
   "cell_type": "markdown",
   "metadata": {},
   "source": [
    "### Input data file"
   ]
  },
  {
   "cell_type": "code",
   "execution_count": null,
   "metadata": {},
   "outputs": [],
   "source": [
    "df_ports = pd.read_csv(\"data_harbours_utf8.csv\", sep = \";\")\n",
    "df_ports"
   ]
  },
  {
   "cell_type": "markdown",
   "metadata": {},
   "source": [
    "### Formatting of data"
   ]
  },
  {
   "cell_type": "markdown",
   "metadata": {},
   "source": [
    "In order to formulate the problem in a format accessible by the D-Wave libraries the matrix data is restructured into an unstacked format. The new table contains of the follwoing columns:\n",
    "1. From\n",
    "2. To\n",
    "3. Distance\n",
    "After tranforming the format, only possible routes are included in the data."
   ]
  },
  {
   "cell_type": "code",
   "execution_count": null,
   "metadata": {},
   "outputs": [],
   "source": [
    "# rename 'Column1' to 'From'\n",
    "df_ports=df_ports.rename(columns={'Column1':\"From\"})\n",
    "\n",
    "# transform end harbours in columns to rows\n",
    "df_routes= pd.melt(df_ports,id_vars=['From'],var_name=\"To\",value_name='Distance')\n",
    "\n",
    "# filter NaN-values\n",
    "df_routes=df_routes[df_routes[\"Distance\"].notnull()]\n",
    "\n",
    "# filter out 0.0 values\n",
    "df_routes=df_routes[df_routes.Distance != 0]\n",
    "\n",
    "#reset index\n",
    "df_routes=df_routes.reset_index(drop=True)\n",
    "df_routes_withoutStardEnd=df_routes\n",
    "df_routes"
   ]
  },
  {
   "cell_type": "markdown",
   "metadata": {},
   "source": [
    "### User input and validation of departure and destination harbour "
   ]
  },
  {
   "cell_type": "markdown",
   "metadata": {},
   "source": [
    "In this section the manual user input is requested and validated by the following criteria:\n",
    "1. departure and destination ports exist in the input file with connections\n",
    "2. departure port is not equal to destination port\n",
    "\n",
    "If input is invalid, the according error message is displayed."
   ]
  },
  {
   "cell_type": "code",
   "execution_count": null,
   "metadata": {
    "tags": []
   },
   "outputs": [],
   "source": [
    "#Check whether the departure port is element of the input data\n",
    "while True:\n",
    "    #Entering departure port\n",
    "    departure=input(str(\"Please enter departure port:\"))\n",
    "    if not departure in df_routes['From'].values:\n",
    "        print(\"Entered port is not defined as a depature port in the input file. Please enter valid departure port.\")\n",
    "        continue\n",
    "    else:\n",
    "        break\n",
    "\n",
    "#Check whether the destination port is element of the input data and not equal to departure port\n",
    "while True:\n",
    "    #Entering destination port\n",
    "    destination=input(str(\"Please enter destination port:\"))\n",
    "    if not destination in df_routes['To'].values:\n",
    "        print(\"Entered port is not defined as a destination port in the input file. Please enter destination valid port.\")\n",
    "        continue\n",
    "    if destination == departure:\n",
    "        print(\"Entered destination port is equal to departure port. Please enter valid destination port.\")\n",
    "        continue\n",
    "    else:\n",
    "        #we're happy with the value given.\n",
    "        break\n"
   ]
  },
  {
   "cell_type": "markdown",
   "metadata": {},
   "source": [
    "# Data Preparation for Quantum Computing (Anna Ehrenberg, Nick Stuke)"
   ]
  },
  {
   "cell_type": "markdown",
   "metadata": {},
   "source": [
    "In this section, all methods are defined that are later used to\n",
    "1. create Contraint Satisfaction Problem (CSP)\n",
    "2. formulate Binary Quadratic Model (BQM) as QUBO. "
   ]
  },
  {
   "cell_type": "markdown",
   "metadata": {},
   "source": [
    "A problem can be formulated in different ways in order to provide the quantum computer with it. In this example, the problem is formulated as a BQM in the form of a QUBO. The mathematical phrase can be attained by a support class called CSP or can directly be input. In this case, the problem will first be represented by a CSP. The CSP constitutes of \n",
    "1. all variables and \n",
    "2. constraints on the variables."
   ]
  },
  {
   "cell_type": "markdown",
   "metadata": {},
   "source": [
    "### Basic functions"
   ]
  },
  {
   "cell_type": "markdown",
   "metadata": {},
   "source": [
    "In order to simplify code in the constraints section, the following functions are defined. "
   ]
  },
  {
   "cell_type": "code",
   "execution_count": null,
   "metadata": {},
   "outputs": [],
   "source": [
    "def sum_to_two_or_zero(*args):\n",
    "        \"\"\"Checks to see if the args sum to either 0 or 2.\n",
    "        \"\"\"\n",
    "        sum_value = sum(args)\n",
    "        return sum_value in [0, 2]\n",
    "        \n",
    "def sum_smaller_equal_one(*args):\n",
    "        \"\"\"Checks to see if the args sum to either smaller or equal to 1.\n",
    "        \"\"\"\n",
    "        sum_value = sum(args)\n",
    "        return sum_value in [0, 1]\n",
    "\n",
    "def get_labels(dataframe):\n",
    "        \"\"\"Returns a list of labels from a Dataframe of the format of the input file\"\"\"\n",
    "        labels=(dataframe['From']+'-'+dataframe['To']+'-'+dataframe['Distance'].astype(str)).values.tolist()\n",
    "        return labels"
   ]
  },
  {
   "cell_type": "markdown",
   "metadata": {},
   "source": [
    "### Definition class Ferryarea"
   ]
  },
  {
   "cell_type": "markdown",
   "metadata": {},
   "source": [
    "The class Ferryarea is defined as the geographical space in which the routes connect the ports.\n",
    "Each Ferryarea has a start and end point as well as ports and routes between those ports."
   ]
  },
  {
   "cell_type": "code",
   "execution_count": null,
   "metadata": {},
   "outputs": [],
   "source": [
    "class Ferryarea:\n",
    "    def __init__(self,start,end,routes):\n",
    "        \"\"\" Initializes object of Type Ferryarea\"\"\"\n",
    "        #Instantiate\n",
    "        self.start=start\n",
    "        self.end=end\n",
    "        self.df_routes = routes\n",
    "        self.ports = pd.DataFrame({'ports':np.append(df_routes['To'].unique(),df_routes['From'].unique())}).drop_duplicates().values.tolist()\n",
    "        self.csp = dwavebinarycsp.ConstraintSatisfactionProblem(dwavebinarycsp.BINARY)\n",
    "        self.cqm = CQM()\n",
    "        self.objectiveDistances=0\n",
    "        #Add start and end route\n",
    "        self.df_routes= self.df_routes.append({'From':self.end, 'To':'end','Distance':0}, ignore_index=True)\n",
    "        self.df_routes= self.df_routes.append({'From':'start', 'To':self.start,'Distance':0}, ignore_index=True)\n",
    "        \n",
    "    def _get_csp(self):\n",
    "        return self.csp\n",
    "    def _get_cqm(self):\n",
    "        return self.cqm    \n",
    "    def _apply_valid_routes_constraint(self):\n",
    "        \"\"\"Creates constraints defining that every entered port has to be exited as well and that every port can only be entered and exited through one route.\"\"\"\n",
    "\n",
    "        for port in self.ports:\n",
    "            #assign to directions Dataframe a Dataframe containing only direction to and from the port\n",
    "            df_directions_from= self.df_routes[self.df_routes['From']==port[0]]\n",
    "            df_directions_to= self.df_routes[self.df_routes['To']==port[0]]\n",
    "            df_directions= pd.concat([df_directions_to,df_directions_from])\n",
    "            \n",
    "            #creates sets of labels as basis for constraint defintion\n",
    "            directions_all = set(get_labels(df_directions))\n",
    "            \n",
    "            #set((df_directions['From']+'-'+df_directions['To']+'-'+df_directions['Distance'].astype(str)).values.tolist())\n",
    "            directions_to= set(get_labels(df_directions_to))\n",
    "            \n",
    "            #set((df_directions_to['From']+'-'+df_directions_to['To']+'-'+df_directions_to['Distance'].astype(str)).values.tolist())\n",
    "            directions_from= set(get_labels(df_directions_from))\n",
    "            #set((df_directions_from['From']+'-'+df_directions_from['To']+'-'+df_directions_from['Distance'].astype(str)).values.tolist())\n",
    "              \n",
    "            x={r: Binary(\n",
    "                \"%r\" %r\n",
    "            )for r in directions_all}\n",
    "\n",
    "            for d in directions_all:\n",
    "                distance=float(d.split('-')[2])\n",
    "                self.objectiveDistances=self.objectiveDistances+distance*x[d]\n",
    "            \n",
    "            self.cqm.add_constraint(\n",
    "                quicksum([x[tod] for tod in directions_to])\n",
    "                -\n",
    "                quicksum([x[fromd] for fromd in directions_from]) \n",
    "                == 0)\n",
    "            \n",
    "            #add constraint sum_to_two_or_zero\n",
    "            self.csp.add_constraint(sum_to_two_or_zero,directions_all)\n",
    "\n",
    "            #add constraint 'To' sum_to_zero_or_one\n",
    "            self.csp.add_constraint(sum_smaller_equal_one,directions_to)\n",
    "            \n",
    "            #add constraint 'From' sum_to_zero_or_one\n",
    "            self.csp.add_constraint(sum_smaller_equal_one, directions_from)\n",
    "\n",
    "    def _set_CQM_objective(self):\n",
    "        self.cqm.set_objective(self.objectiveDistances)\n",
    "        \n",
    "    def _set_start_and_end(self):\n",
    "        \"\"\"Sets the values of the departure and destination port to 1 and all other start and end possibilities to 0\n",
    "        \"\"\" #all other possibilities do not have to be 0. However, this is expected to descrease calculation time\n",
    "\n",
    "        #select all start and end routes\n",
    "        df_routes_to_fix= pd.concat([self.df_routes[self.df_routes['From']=='start'],self.df_routes[self.df_routes['To']=='end']])\n",
    "        count=0\n",
    "\n",
    "        for i in df_routes_to_fix.values:\n",
    "            label= get_labels(df_routes_to_fix.iloc[[count]])\n",
    "            if (df_routes_to_fix['To'].iloc[count])==self.start:\n",
    "                #sets departure to 1\n",
    "                self.csp.fix_variable(label[0],1)\n",
    "            elif (df_routes_to_fix['From'].iloc[count])==self.end:\n",
    "                #sets destination to 1\n",
    "                self.csp.fix_variable(label[0],1)\n",
    "            else:\n",
    "                #sets departure and destination to 0\n",
    "                self.csp.fix_variable(label[0],0)\n",
    "            count=count+1\n",
    "\n",
    "        self.cqm.fix_variable(\"'start-\"+departure+\"-0.0'\",1)\n",
    "        self.cqm.fix_variable(\"'\"+destination+\"-end-0.0'\",1)\n",
    "       "
   ]
  },
  {
   "cell_type": "markdown",
   "metadata": {},
   "source": [
    "### Initialization of Ferryarea"
   ]
  },
  {
   "cell_type": "markdown",
   "metadata": {},
   "source": [
    "In this section, a Ferryarea is initialized with departure and destination port and the routes from the input file. It is used to create the models that are later handed to the Quantum Samplers. \n",
    "\n",
    "There are two Samplers used in this case:\n",
    "\n",
    "1. Quantum Sampler: This sampler only computes on the quantum computer. It requires a binary quadratic model as input. In this case, the BQM is built by a Constraint Satisfaction Problem. This is a model provided by dwave in order to built a BQM. First, all variables and constraints must be added. The variables in this example will represent the routes between two ports. For example, the route Port1-Port2-Distance12 can be used (1) or not (0). \n",
    "A set of support variables is needed in order to represent the entered departure and destination port. Therefor, artificial routes from \"start\" port to the departure port and to \"end\" port from the destination port are created in the following code. \n",
    "\n",
    "2. Hybrid Sampler: The Hybrid Sampler is a blend of quantum computer and a classical computer. It requires a constraint quadratic model (CQM) as input. Compared to the BQM, it uses integers instead of binary values. Similar to the BQM, constraints are added and variables such as the start and end are fixed. Additionally, an objective is defined. In this case, the objective is to minimize the traveled distance between start and end port."
   ]
  },
  {
   "cell_type": "code",
   "execution_count": null,
   "metadata": {},
   "outputs": [],
   "source": [
    "f=Ferryarea(start=departure,end=destination,routes=df_routes)"
   ]
  },
  {
   "cell_type": "markdown",
   "metadata": {},
   "source": [
    "Two constraints ensure, that the problem is displayed correctly:\n",
    "1. All routes connected to one port have to sum up to 0 or 2. This ensures that every port that is entered is exited as well.\n",
    "2. The routes are one-way. This means it is possible to go from one port to another but not back the same way. With the first constraint is would be possible to take two routes where the port is listed in the \"from\" column. This means, it would be exited twice but never approached. Thus, another constraint is needed to ensure that ports are approached only once and existed only once. "
   ]
  },
  {
   "cell_type": "code",
   "execution_count": null,
   "metadata": {},
   "outputs": [],
   "source": [
    "f._apply_valid_routes_constraint()"
   ]
  },
  {
   "cell_type": "markdown",
   "metadata": {},
   "source": [
    "After all constraints are applied, start and end routes are fixed to 1. "
   ]
  },
  {
   "cell_type": "code",
   "execution_count": null,
   "metadata": {},
   "outputs": [],
   "source": [
    "f._set_start_and_end()"
   ]
  },
  {
   "cell_type": "markdown",
   "metadata": {},
   "source": [
    "In addition, the objective for the CQM is defined."
   ]
  },
  {
   "cell_type": "code",
   "execution_count": null,
   "metadata": {},
   "outputs": [],
   "source": [
    "f._set_CQM_objective()"
   ]
  },
  {
   "cell_type": "markdown",
   "metadata": {},
   "source": [
    "The models are created as follows. "
   ]
  },
  {
   "cell_type": "code",
   "execution_count": null,
   "metadata": {},
   "outputs": [],
   "source": [
    "csp= f._get_csp()\n",
    "cqm=f._get_cqm()"
   ]
  },
  {
   "cell_type": "markdown",
   "metadata": {},
   "source": [
    "While the CQM can be processed directly by the Hybrithe CSP must first be transformed into a BQM. In order to fit the Problem to the modell it is necessary to adjust the following parameters:\n",
    "- max_graph_size: This parameters limits the number of variables that can be included in one constraint. In this case, the number of connections to and from one port. The original d-wave function dwavebinarycsp.stitch uses the function np.unpackbits from the numpy library. This only unpacks arrays from the size of 8 bits. Thus, the function all_possible() and the dtype of the matrix A in the file generation.py have been modified. Now, up to 32 connections between variables can be entered. "
   ]
  },
  {
   "cell_type": "code",
   "execution_count": null,
   "metadata": {},
   "outputs": [],
   "source": [
    "# Create BQM, max_graph_size gets bigger once more variables are included in one constraint\n",
    "import multiprocessing\n",
    "import time\n",
    "\n",
    "csp_stitchTimeout=False\n",
    "def stichFunction():\n",
    "    bqm = dwavebinarycsp.stitch(csp,max_graph_size=15)\n",
    "\n",
    "p = multiprocessing.Process(target=stichFunction, name=\"StichFunction\")\n",
    "p.start()\n",
    "\n",
    "# Timeout in x seconds seconds\n",
    "p.join(10)\n",
    "\n",
    "\n",
    "if p.is_alive():\n",
    "    print \"Stich-Function runs too loo long\"\n",
    "    # Terminate StitchFunction\n",
    "    p.terminate()\n",
    "    p.join()\n",
    "    csp_stitchTimeout=Tru"
   ]
  },
  {
   "cell_type": "markdown",
   "metadata": {},
   "source": [
    "### Results BQM"
   ]
  },
  {
   "cell_type": "markdown",
   "metadata": {},
   "source": [
    "The BQM is created by the stitch() function provided by d-wave. However, the larger the input data gets the longer is takes for the stitch() function to built the BQM. Within the function a graph is built with all variables. Using the sample data, a graph of 9 nodes and 36 edges is created and the BQM can be built in approximately 42 seconds. For a graph with 10 nodes, approximiately 15 minutes are needed.\n",
    "In conclusion, it is not practical to use the BQM model for real world problems. "
   ]
  },
  {
   "cell_type": "markdown",
   "metadata": {},
   "source": [
    "# Transfer to Quantum Sampler (Anna Ehrenberg, Nick Stuke)"
   ]
  },
  {
   "cell_type": "markdown",
   "metadata": {},
   "source": [
    "In this section, the before built models are tranferred to the quantum computer by using D-wave's Samplers."
   ]
  },
  {
   "cell_type": "markdown",
   "metadata": {},
   "source": [
    "## BQM-Sampling and Result-Selection (Anna Ehrenberg, Nick Stuke)"
   ]
  },
  {
   "cell_type": "markdown",
   "metadata": {},
   "source": [
    "So far, the model can find possible ways between two ports. In the following code, a penalty is added in order to penalize long distances. This way, the shortest route is selected. However, the number of stops is not taken into consideration. "
   ]
  },
  {
   "cell_type": "code",
   "execution_count": null,
   "metadata": {},
   "outputs": [],
   "source": [
    "if not csp_stitchTimeout:\n",
    "    # Add Penalty\n",
    "    penalty=0.01\n",
    "    for v in bqm.variables:\n",
    "        # Ignore auxiliary variables\n",
    "        if isinstance(v, str) and re.match(r'^aux\\d+$', v):\n",
    "            continue\n",
    "        split_v = v.split('-')\n",
    "        bqm.add_variable(v, penalty*float(split_v[2]))"
   ]
  },
  {
   "cell_type": "markdown",
   "metadata": {},
   "source": [
    "The sampler for BQMs is assigned."
   ]
  },
  {
   "cell_type": "code",
   "execution_count": null,
   "metadata": {},
   "outputs": [],
   "source": [
    "if not csp_stitchTimeout:\n",
    "    # define Sampler\n",
    "    sampler = EmbeddingComposite(DWaveSampler())"
   ]
  },
  {
   "cell_type": "markdown",
   "metadata": {},
   "source": [
    "The sampler is called with the input BQM, number of reads and chain strengths. All results are saved with the produced energy. The result with the lowest energy is expected to be the best result. "
   ]
  },
  {
   "cell_type": "code",
   "execution_count": null,
   "metadata": {},
   "outputs": [],
   "source": [
    "if not csp_stitchTimeout:\n",
    "    # run BQM on QPU\n",
    "    result = sampler.sample(bqm,\n",
    "                        num_reads=100,\n",
    "                        chain_strength=3,\n",
    "                        label='ferrylines')"
   ]
  },
  {
   "cell_type": "markdown",
   "metadata": {},
   "source": [
    "The results can be visualized online with the D-wave inspector."
   ]
  },
  {
   "cell_type": "code",
   "execution_count": null,
   "metadata": {},
   "outputs": [],
   "source": [
    "if not csp_stitchTimeout:\n",
    "    # visualize result\n",
    "    dwave.inspector.show(result)"
   ]
  },
  {
   "cell_type": "markdown",
   "metadata": {},
   "source": [
    "The final result is displayed."
   ]
  },
  {
   "cell_type": "code",
   "execution_count": null,
   "metadata": {},
   "outputs": [],
   "source": [
    "if not csp_stitchTimeout:\n",
    "    print(result.first.sample)"
   ]
  },
  {
   "cell_type": "markdown",
   "metadata": {},
   "source": [
    "## CQM-Sampling and Result-Selection (Nick Stuke)"
   ]
  },
  {
   "cell_type": "code",
   "execution_count": null,
   "metadata": {},
   "outputs": [],
   "source": [
    "sampler_cqm = LeapHybridCQMSampler()\n",
    "sample_set_cqm=sampler_cqm.sample_cqm(cqm)"
   ]
  },
  {
   "cell_type": "code",
   "execution_count": null,
   "metadata": {},
   "outputs": [],
   "source": [
    "n_samples = len(sample_set_cqm.record)\n",
    "feasible_samples = sample_set_cqm.filter(lambda d: d.is_feasible) "
   ]
  },
  {
   "cell_type": "code",
   "execution_count": null,
   "metadata": {},
   "outputs": [],
   "source": [
    "best_feasible_cqm_solution=DWaveSampler.sample\n",
    "if not feasible_samples: \n",
    "    raise Exception(\"No feasible solution could be found for this problem instance.\")\n",
    "else:\n",
    "    best_feasible_cqm_solution = feasible_samples.first\n",
    "    print(best_feasible_cqm_solution)"
   ]
  },
  {
   "cell_type": "markdown",
   "metadata": {},
   "source": [
    "# Shortest Way with classical Computing (Nick Stuke)"
   ]
  },
  {
   "cell_type": "markdown",
   "metadata": {},
   "source": [
    "This Chapter show an algorithm on a classical computer with no quantum-computer ressources. A common algorithm for the given problem is the Dijkstra-Algorthm\\[1\\](vgl. S.1).\n",
    "As a Greedy-Algorithm Dijkstra processes each node once, so with more nodes, it needs more process-time.\n",
    "A* is a much faster algorithm but don't find always the optimal solution.\\[2\\](vgl. S.2)\n",
    "Since the quantum computer should have exactly the strengths of quickly finding global minima, the Dijkstra algorithm is used in this notebook."
   ]
  },
  {
   "source": [
    "## Define Graph\n",
    "First of all, we have to create a graph. Therefore we iterate over every port and add the routes away from it to the graph-note. The graph is stored as as dictonary."
   ],
   "cell_type": "markdown",
   "metadata": {}
  },
  {
   "cell_type": "code",
   "execution_count": 41,
   "metadata": {},
   "outputs": [
    {
     "output_type": "stream",
     "name": "stdout",
     "text": [
      "{'Bremerhaven': {'Emden': 137.0, 'Kiel': 135.0, 'Aberdeen': 435.0}, 'Brunsbüttel': {'Bremerhaven': 81.0, 'Hamburg': 36.0, 'Kiel': 54.0, 'Rotterdam': 269.0, 'Aarhus': 187.0, 'Copenhagen': 216.0, 'Bornholm': 223.0, 'Gdansk': 398.0, 'Riga': 604.0}, 'Emden': {'Bremerhaven': 137.0}, 'Hamburg': {'Bremerhaven': 117.0, 'Brunsbüttel': 36.0, 'Kiel': 90.0, 'Lübeck': 187.0, 'Rostock': 174.0, 'Sassnitz': 145.0, 'Wilhelmshaven': 114.0, 'Wismar': 176.0, 'Antwerpen': 405.0, 'Rotterdam': 305.0}, 'Kiel': {'Bremerhaven': 135.0, 'Stralsund': 109.0, 'Rotterdam': 323.0, 'Stockholm': 497.0}, 'Lübeck': {'Stralsund': 93.0}, 'Rostock': {}, 'Sassnitz': {'Kiel': 145.0, 'Rostock': 92.0, 'Aarhus': 204.0, 'Copenhagen': 97.0, 'Bornholm': 52.0, 'Gdansk': 213.0, 'Klaipeda': 271.0, 'Riga': 497.0, 'Tallinn': 497.0}, 'Stralsund': {}, 'Wilhelmshaven': {}, 'Wismar': {'Bremerhaven': 585.0, 'Brunsbüttel': 140.0, 'Hamburg': 176.0, 'Kiel': 86.0, 'Rotterdam': 713.0, 'Aarhus': 160.0, 'Copenhagen': 139.0, 'Bornholm': 145.0, 'Gdansk': 327.0}, 'Antwerpen': {'Rotterdam': 149.0}, 'Rotterdam': {'Bremerhaven': 255.0, 'Kiel': 323.0, 'Copenhagen': 608.0, 'Riga': 1077.0, 'Bergen': 536.0, 'Calais': 129.0}, 'Aarhus': {}, 'Copenhagen': {'Gothenburg': 137.0}, 'Bornholm': {}, 'Gdansk': {}, 'Klaipeda': {}, 'Riga': {'Sassnitz': 497.0}, 'Tallinn': {}, 'Helsinki': {}, 'Oulu': {}, 'Mariehamn\\t': {}, 'Stockholm': {'St. Petersburg': 385.0}, 'Visby': {}, 'St. Petersburg': {'Stockholm': 385.0}, 'Gothenburg': {'Oslo': 163.0}, 'Bergen': {'Oslo': 378.0}, 'Oslo': {}, 'Stavanger': {}, 'Aberdeen': {'London': 431.0}, 'Immingham': {}, 'London': {}, 'Calais': {'Le Havre': 119.0}, 'Le Havre': {}}\n"
     ]
    }
   ],
   "source": [
    "# define Graph with distances for every Point\n",
    "graph={}\n",
    "for index,port in df_ports.iterrows():\n",
    "    routes=df_routes_withoutStardEnd[df_routes_withoutStardEnd['From']==port['From']]\n",
    "    distances={}\n",
    "    for i,r in routes.iterrows():\n",
    "        distances[r['To']] = r['Distance']\n",
    "    graph[port['From']] =distances\n",
    "print(graph)\n"
   ]
  },
  {
   "source": [
    "## Calculate shortest distance to start-port\n"
   ],
   "cell_type": "markdown",
   "metadata": {}
  },
  {
   "cell_type": "code",
   "execution_count": null,
   "metadata": {},
   "outputs": [],
   "source": [
    "queue = [departure]\n",
    "d = {node: {\"shortest distance\":float(\"inf\"), \"previous\":None} for node in graph}\n",
    "d[departure][\"shortest distance\"] = 0\n",
    "cpuTime_start=process_time() \n",
    "while queue:\n",
    "    current = queue.pop(0)\n",
    "    shortest_distance = d[current][\"shortest distance\"]\n",
    "    for neighbour in graph[current]:\n",
    "\n",
    "        dist_to_neighbour = graph[current][neighbour]\n",
    "\n",
    "        if shortest_distance + dist_to_neighbour < d[neighbour][\"shortest distance\"]:\n",
    "\n",
    "            d[neighbour] = {\n",
    "                \"shortest distance\": shortest_distance + dist_to_neighbour,\n",
    "                \"previous\": current\n",
    "            }\n",
    "            queue.append(neighbour)\n",
    "cpuTime_end=process_time()\n",
    "pp = pprint.PrettyPrinter(indent=4)\n",
    "pp.pprint(d)\n",
    "print()"
   ]
  },
  {
   "source": [
    "## Create Path with shortest distances"
   ],
   "cell_type": "markdown",
   "metadata": {}
  },
  {
   "cell_type": "code",
   "execution_count": null,
   "metadata": {},
   "outputs": [],
   "source": [
    "current = destination\n",
    "print('Destination: '+str(destination))\n",
    "print('Departure: '+str(departure))\n",
    "dji_path = [current]\n",
    "distance_sum=0.0\n",
    "while current != departure:\n",
    "    print(current)\n",
    "    current = d[current][\"previous\"]\n",
    "    dji_path.append(current)\n",
    "\n",
    "dji_path = dji_path[::-1]\n",
    "print('Distance: '+str(d[destination][\"shortest distance\"])+' Pfad: '+str(dji_path))"
   ]
  },
  {
   "cell_type": "markdown",
   "metadata": {},
   "source": [
    "# Result-Consideration (Nick Stuke)"
   ]
  },
  {
   "cell_type": "markdown",
   "metadata": {},
   "source": [
    "## Result-Homogenization\n",
    "\n",
    "In the following area, a brief processing of the results is carried out. This is required for easier presentation and does not change or add any information."
   ]
  },
  {
   "cell_type": "code",
   "execution_count": null,
   "metadata": {},
   "outputs": [],
   "source": [
    "result_csp=[departure]\n",
    "result_cqm=[departure]\n",
    "result_dji=dji_path\n",
    "cpuTime_dji=cpuTime_end-cpuTime_start\n",
    "\n",
    "# homogenization of cqm-solution\n",
    "solution=[]\n",
    "for s in best_feasible_cqm_solution.sample:\n",
    "    if (best_feasible_cqm_solution.sample[s]==1.0 and \n",
    "     s.find('end')==-1 and \n",
    "     s.find('start')==-1):\n",
    "        solution.append(s)\n",
    "currentP=departure\n",
    "while currentP!=destination:\n",
    "    for s in solution:\n",
    "        s=s.replace(\"'\",\"\").split('-')\n",
    "        if s[0].find(currentP)==0:\n",
    "            currentP=s[1]\n",
    "            result_cqm.append(s[1])\n",
    "            break\n",
    "\n",
    "# homogenization of csp-solution\n",
    "solution=[]\n",
    "for s in result.first.sample:\n",
    "    if (result.first.sample[s]==1 and \n",
    "     s.find('end')==-1 and \n",
    "     s.find('start')==-1):\n",
    "        solution.append(s)\n",
    "currentP=departure\n",
    "while currentP!=destination:\n",
    "    for s in solution:\n",
    "        s=s.split('-')\n",
    "        if s[0].find(currentP)==0:\n",
    "            currentP=s[1]\n",
    "            result_csp.append(s[1])\n",
    "            break\n"
   ]
  },
  {
   "source": [
    "## Result-Summary\n",
    "\n",
    "In the following, the results are presented in the form of a route from the start to the end destination. Which algorithm each belongs to is included in the Python output.\n"
   ],
   "cell_type": "markdown",
   "metadata": {}
  },
  {
   "cell_type": "code",
   "execution_count": null,
   "metadata": {},
   "outputs": [],
   "source": [
    "print('result-cqm: '+str(result_cqm))\n",
    "print('result-csp: '+str(result_csp))\n",
    "print('result-dji: '+str(result_dji))\n",
    "print('time-dji: '+str(cpuTime_dji))"
   ]
  },
  {
   "source": [
    "On a small set of data, all three algorithms were able to find the correct solution. Djikstra is considered a comparison here, since the solution is calculated individually and is therefore seen as correct. The calculation times are irrelevant.\n",
    "\n",
    "The situation is different with a larger data set. With the CSP, the stitch function took too long and was therefore aborted. The reason for the long execution time has already been explained in the execution of the sting function. The other two algorithms were able to calculate the route with negligible time."
   ],
   "cell_type": "markdown",
   "metadata": {}
  },
  {
   "source": [
    "# Conclusion and chances"
   ],
   "cell_type": "markdown",
   "metadata": {}
  },
  {
   "source": [
    "# Quellen"
   ],
   "cell_type": "markdown",
   "metadata": {}
  },
  {
   "source": [
    "\\[1\\] Broumi, Said, Assia Bakal, Mohamed Talea, Florentin Smarandache, und Luige Vladareanu. „Applying Dijkstra algorithm for solving neutrosophic shortest path problem“. In 2016 International Conference on Advanced Mechatronic Systems (ICAMechS), 412–16. Melbourne, Australia: IEEE, 2016. https://doi.org/10.1109/ICAMechS.2016.7813483.\n",
    "\n",
    "\\[2\\] Candra, Ade, Mohammad Andri Budiman, und Kevin Hartanto. „Dijkstra’s and A-Star in Finding the Shortest Path: a Tutorial“. In 2020 International Conference on Data Science, Artificial Intelligence, and Business Analytics (DATABIA), 28–32. Medan, Indonesia: IEEE, 2020. https://doi.org/10.1109/DATABIA50434.2020.9190342.\n"
   ],
   "cell_type": "markdown",
   "metadata": {}
  }
 ],
 "metadata": {
  "interpreter": {
   "hash": "4cd7ab41f5fca4b9b44701077e38c5ffd31fe66a6cab21e0214b68d958d0e462"
  },
  "kernelspec": {
   "name": "python3",
   "display_name": "Python 3.9.15 64-bit"
  },
  "language_info": {
   "codemirror_mode": {
    "name": "ipython",
    "version": 3
   },
   "file_extension": ".py",
   "mimetype": "text/x-python",
   "name": "python",
   "nbconvert_exporter": "python",
   "pygments_lexer": "ipython3",
   "version": "3.9.15"
  },
  "orig_nbformat": 4,
  "vscode": {
   "interpreter": {
    "hash": "1a67aca957aef3b8ba77a329b2e49205fd6e483562b4cf13d66942f6b2ebf41c"
   }
  }
 },
 "nbformat": 4,
 "nbformat_minor": 2
}