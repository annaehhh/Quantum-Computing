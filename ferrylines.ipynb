{
 "cells": [
  {
   "cell_type": "markdown",
   "metadata": {},
   "source": [
    "# Introduction"
   ]
  },
  {
   "cell_type": "markdown",
   "metadata": {},
   "source": [
    "Copyright\n",
    "\n",
    "Distribution"
   ]
  },
  {
   "cell_type": "markdown",
   "metadata": {},
   "source": [
    "In order to use the code the following libraries, classes and functions must be installed:\n",
    "1. Pandas\n",
    "2. Numpy\n",
    "3. RegEx\n",
    "4. D-wave Samplers as below\n",
    "5. Dimod modules as below"
   ]
  },
  {
   "cell_type": "code",
   "execution_count": 1,
   "metadata": {},
   "outputs": [],
   "source": [
    "import pandas as pd\n",
    "import numpy as np\n",
    "from dwave.system.samplers import DWaveSampler\n",
    "from dwave.system import LeapHybridCQMSampler\n",
    "from dwave.system.composites import EmbeddingComposite\n",
    "from dimod import quicksum\n",
    "from dimod import Binary\n",
    "from dimod import CQM\n",
    "import dwave.inspector\n",
    "import dwavebinarycsp\n",
    "import re\n",
    "import multiprocessing\n",
    "import time\n",
    "import pprint"
   ]
  },
  {
   "cell_type": "code",
   "execution_count": 2,
   "metadata": {},
   "outputs": [],
   "source": [
    "# Use static Departure and Destination?\n",
    "static_departDesti=True"
   ]
  },
  {
   "cell_type": "markdown",
   "metadata": {},
   "source": [
    "# Input and Preprocessing (Anna Ehrenberg)"
   ]
  },
  {
   "cell_type": "markdown",
   "metadata": {},
   "source": [
    "In this section all data input is entered, validated and preprocessed in order to meet further requirements. "
   ]
  },
  {
   "cell_type": "markdown",
   "metadata": {},
   "source": [
    "In this section the following input is proceeded:\n",
    "\n",
    "Input data file with information on ferry routes with\n",
    "- From: route start port (Column1)\n",
    "- To: route end port (Row1)\n",
    "- Distance: shortest direct distance between departure and arrival port (Number in matrix). If the connection is not possible, the distance is zero or no value is entered.\n"
   ]
  },
  {
   "cell_type": "markdown",
   "metadata": {},
   "source": [
    "### Input data file"
   ]
  },
  {
   "cell_type": "code",
   "execution_count": 3,
   "metadata": {},
   "outputs": [
    {
     "output_type": "execute_result",
     "data": {
      "text/plain": [
       "           Column1  Bremerhaven  Brunsbüttel  Emden  Hamburg   Kiel  Lübeck  \\\n",
       "0      Bremerhaven          0.0          NaN  137.0      NaN  135.0     NaN   \n",
       "1      Brunsbüttel         81.0          0.0    NaN     36.0   54.0     NaN   \n",
       "2            Emden        137.0          NaN    0.0      NaN    NaN     NaN   \n",
       "3          Hamburg        117.0         36.0    NaN      0.0   90.0   187.0   \n",
       "4             Kiel        135.0          NaN    NaN      NaN    0.0     NaN   \n",
       "5           Lübeck          NaN          NaN    NaN      NaN    NaN     0.0   \n",
       "6          Rostock          NaN          NaN    NaN      NaN    NaN     NaN   \n",
       "7         Sassnitz          NaN          NaN    NaN      NaN  145.0     NaN   \n",
       "8        Stralsund          NaN          NaN    NaN      NaN    NaN     NaN   \n",
       "9    Wilhelmshaven          NaN          NaN    NaN      NaN    NaN     NaN   \n",
       "10          Wismar        585.0        140.0    NaN    176.0   86.0     NaN   \n",
       "11       Antwerpen          NaN          NaN    NaN      NaN    NaN     NaN   \n",
       "12       Rotterdam        255.0          NaN    NaN      NaN  323.0     NaN   \n",
       "13          Aarhus          NaN          NaN    NaN      NaN    NaN     NaN   \n",
       "14      Copenhagen          NaN          NaN    NaN      NaN    NaN     NaN   \n",
       "15        Bornholm          NaN          NaN    NaN      NaN    NaN     NaN   \n",
       "16          Gdansk          NaN          NaN    NaN      NaN    NaN     NaN   \n",
       "17        Klaipeda          NaN          NaN    NaN      NaN    NaN     NaN   \n",
       "18            Riga          NaN          NaN    NaN      NaN    NaN     NaN   \n",
       "19         Tallinn          NaN          NaN    NaN      NaN    NaN     NaN   \n",
       "20        Helsinki          NaN          NaN    NaN      NaN    NaN     NaN   \n",
       "21            Oulu          NaN          NaN    NaN      NaN    NaN     NaN   \n",
       "22     Mariehamn\\t          NaN          NaN    NaN      NaN    NaN     NaN   \n",
       "23       Stockholm          NaN          NaN    NaN      NaN    NaN     NaN   \n",
       "24           Visby          NaN          NaN    NaN      NaN    NaN     NaN   \n",
       "25  St. Petersburg          NaN          NaN    NaN      NaN    NaN     NaN   \n",
       "26      Gothenburg          NaN          NaN    NaN      NaN    NaN     NaN   \n",
       "27          Bergen          NaN          NaN    NaN      NaN    NaN     NaN   \n",
       "28            Oslo          NaN          NaN    NaN      NaN    NaN     NaN   \n",
       "29       Stavanger          NaN          NaN    NaN      NaN    NaN     NaN   \n",
       "30        Aberdeen          NaN          NaN    NaN      NaN    NaN     NaN   \n",
       "31       Immingham          NaN          NaN    NaN      NaN    NaN     NaN   \n",
       "32          London          NaN          NaN    NaN      NaN    NaN     NaN   \n",
       "33          Calais          NaN          NaN    NaN      NaN    NaN     NaN   \n",
       "34        Le Havre          NaN          NaN    NaN      NaN    NaN     NaN   \n",
       "\n",
       "    Rostock  Sassnitz  Stralsund  ...  St. Petersburg  Gothenburg  Bergen  \\\n",
       "0       NaN       NaN        NaN  ...             NaN         NaN     NaN   \n",
       "1       NaN       NaN        NaN  ...             NaN         NaN     NaN   \n",
       "2       NaN       NaN        NaN  ...             NaN         NaN     NaN   \n",
       "3     174.0     145.0        NaN  ...             NaN         NaN     NaN   \n",
       "4       NaN       NaN      109.0  ...             NaN         NaN     NaN   \n",
       "5       NaN       NaN       93.0  ...             NaN         NaN     NaN   \n",
       "6       0.0       NaN        NaN  ...             NaN         NaN     NaN   \n",
       "7      92.0       0.0        NaN  ...             NaN         NaN     NaN   \n",
       "8       NaN       NaN        0.0  ...             NaN         NaN     NaN   \n",
       "9       NaN       NaN        NaN  ...             NaN         NaN     NaN   \n",
       "10      NaN       NaN        NaN  ...             NaN         NaN     NaN   \n",
       "11      NaN       NaN        NaN  ...             NaN         NaN     NaN   \n",
       "12      NaN       NaN        NaN  ...             NaN         NaN   536.0   \n",
       "13      NaN       NaN        NaN  ...             NaN         NaN     NaN   \n",
       "14      NaN       NaN        NaN  ...             NaN       137.0     NaN   \n",
       "15      NaN       NaN        NaN  ...             NaN         NaN     NaN   \n",
       "16      NaN       NaN        NaN  ...             NaN         NaN     NaN   \n",
       "17      NaN       NaN        NaN  ...             NaN         NaN     NaN   \n",
       "18      NaN     497.0        NaN  ...             NaN         NaN     NaN   \n",
       "19      NaN       NaN        NaN  ...             NaN         NaN     NaN   \n",
       "20      NaN       NaN        NaN  ...             NaN         NaN     NaN   \n",
       "21      NaN       NaN        NaN  ...             NaN         NaN     NaN   \n",
       "22      NaN       NaN        NaN  ...             NaN         NaN     NaN   \n",
       "23      NaN       NaN        NaN  ...           385.0         NaN     NaN   \n",
       "24      NaN       NaN        NaN  ...             NaN         NaN     NaN   \n",
       "25      NaN       NaN        NaN  ...             0.0         NaN     NaN   \n",
       "26      NaN       NaN        NaN  ...             NaN         0.0     NaN   \n",
       "27      NaN       NaN        NaN  ...             NaN         NaN     0.0   \n",
       "28      NaN       NaN        NaN  ...             NaN         NaN     NaN   \n",
       "29      NaN       NaN        NaN  ...             NaN         NaN     NaN   \n",
       "30      NaN       NaN        NaN  ...             NaN         NaN     NaN   \n",
       "31      NaN       NaN        NaN  ...             NaN         NaN     NaN   \n",
       "32      NaN       NaN        NaN  ...             NaN         NaN     NaN   \n",
       "33      NaN       NaN        NaN  ...             NaN         NaN     NaN   \n",
       "34      NaN       NaN        NaN  ...             NaN         NaN     NaN   \n",
       "\n",
       "     Oslo  Stavanger  Aberdeen  Immingham  London  Calais  Le Havre  \n",
       "0     NaN        NaN     435.0        NaN     NaN     NaN       NaN  \n",
       "1     NaN        NaN       NaN        NaN     NaN     NaN       NaN  \n",
       "2     NaN        NaN       NaN        NaN     NaN     NaN       NaN  \n",
       "3     NaN        NaN       NaN        NaN     NaN     NaN       NaN  \n",
       "4     NaN        NaN       NaN        NaN     NaN     NaN       NaN  \n",
       "5     NaN        NaN       NaN        NaN     NaN     NaN       NaN  \n",
       "6     NaN        NaN       NaN        NaN     NaN     NaN       NaN  \n",
       "7     NaN        NaN       NaN        NaN     NaN     NaN       NaN  \n",
       "8     NaN        NaN       NaN        NaN     NaN     NaN       NaN  \n",
       "9     NaN        NaN       NaN        NaN     NaN     NaN       NaN  \n",
       "10    NaN        NaN       NaN        NaN     NaN     NaN       NaN  \n",
       "11    NaN        NaN       NaN        NaN     NaN     NaN       NaN  \n",
       "12    NaN        NaN       NaN        NaN     NaN   129.0       NaN  \n",
       "13    NaN        NaN       NaN        NaN     NaN     NaN       NaN  \n",
       "14    NaN        NaN       NaN        NaN     NaN     NaN       NaN  \n",
       "15    NaN        NaN       NaN        NaN     NaN     NaN       NaN  \n",
       "16    NaN        NaN       NaN        NaN     NaN     NaN       NaN  \n",
       "17    NaN        NaN       NaN        NaN     NaN     NaN       NaN  \n",
       "18    NaN        NaN       NaN        NaN     NaN     NaN       NaN  \n",
       "19    NaN        NaN       NaN        NaN     NaN     NaN       NaN  \n",
       "20    NaN        NaN       NaN        NaN     NaN     NaN       NaN  \n",
       "21    NaN        NaN       NaN        NaN     NaN     NaN       NaN  \n",
       "22    NaN        NaN       NaN        NaN     NaN     NaN       NaN  \n",
       "23    NaN        NaN       NaN        NaN     NaN     NaN       NaN  \n",
       "24    NaN        NaN       NaN        NaN     NaN     NaN       NaN  \n",
       "25    NaN        NaN       NaN        NaN     NaN     NaN       NaN  \n",
       "26  163.0        NaN       NaN        NaN     NaN     NaN       NaN  \n",
       "27  378.0        NaN       NaN        NaN     NaN     NaN       NaN  \n",
       "28    0.0        NaN       NaN        NaN     NaN     NaN       NaN  \n",
       "29    NaN        0.0       NaN        NaN     NaN     NaN       NaN  \n",
       "30    NaN        NaN       0.0        NaN   431.0     NaN       NaN  \n",
       "31    NaN        NaN       NaN        0.0     NaN     NaN       NaN  \n",
       "32    NaN        NaN       NaN        NaN     0.0     NaN       NaN  \n",
       "33    NaN        NaN       NaN        NaN     NaN     0.0     119.0  \n",
       "34    NaN        NaN       NaN        NaN     NaN     NaN       0.0  \n",
       "\n",
       "[35 rows x 36 columns]"
      ],
      "text/html": "<div>\n<style scoped>\n    .dataframe tbody tr th:only-of-type {\n        vertical-align: middle;\n    }\n\n    .dataframe tbody tr th {\n        vertical-align: top;\n    }\n\n    .dataframe thead th {\n        text-align: right;\n    }\n</style>\n<table border=\"1\" class=\"dataframe\">\n  <thead>\n    <tr style=\"text-align: right;\">\n      <th></th>\n      <th>Column1</th>\n      <th>Bremerhaven</th>\n      <th>Brunsbüttel</th>\n      <th>Emden</th>\n      <th>Hamburg</th>\n      <th>Kiel</th>\n      <th>Lübeck</th>\n      <th>Rostock</th>\n      <th>Sassnitz</th>\n      <th>Stralsund</th>\n      <th>...</th>\n      <th>St. Petersburg</th>\n      <th>Gothenburg</th>\n      <th>Bergen</th>\n      <th>Oslo</th>\n      <th>Stavanger</th>\n      <th>Aberdeen</th>\n      <th>Immingham</th>\n      <th>London</th>\n      <th>Calais</th>\n      <th>Le Havre</th>\n    </tr>\n  </thead>\n  <tbody>\n    <tr>\n      <th>0</th>\n      <td>Bremerhaven</td>\n      <td>0.0</td>\n      <td>NaN</td>\n      <td>137.0</td>\n      <td>NaN</td>\n      <td>135.0</td>\n      <td>NaN</td>\n      <td>NaN</td>\n      <td>NaN</td>\n      <td>NaN</td>\n      <td>...</td>\n      <td>NaN</td>\n      <td>NaN</td>\n      <td>NaN</td>\n      <td>NaN</td>\n      <td>NaN</td>\n      <td>435.0</td>\n      <td>NaN</td>\n      <td>NaN</td>\n      <td>NaN</td>\n      <td>NaN</td>\n    </tr>\n    <tr>\n      <th>1</th>\n      <td>Brunsbüttel</td>\n      <td>81.0</td>\n      <td>0.0</td>\n      <td>NaN</td>\n      <td>36.0</td>\n      <td>54.0</td>\n      <td>NaN</td>\n      <td>NaN</td>\n      <td>NaN</td>\n      <td>NaN</td>\n      <td>...</td>\n      <td>NaN</td>\n      <td>NaN</td>\n      <td>NaN</td>\n      <td>NaN</td>\n      <td>NaN</td>\n      <td>NaN</td>\n      <td>NaN</td>\n      <td>NaN</td>\n      <td>NaN</td>\n      <td>NaN</td>\n    </tr>\n    <tr>\n      <th>2</th>\n      <td>Emden</td>\n      <td>137.0</td>\n      <td>NaN</td>\n      <td>0.0</td>\n      <td>NaN</td>\n      <td>NaN</td>\n      <td>NaN</td>\n      <td>NaN</td>\n      <td>NaN</td>\n      <td>NaN</td>\n      <td>...</td>\n      <td>NaN</td>\n      <td>NaN</td>\n      <td>NaN</td>\n      <td>NaN</td>\n      <td>NaN</td>\n      <td>NaN</td>\n      <td>NaN</td>\n      <td>NaN</td>\n      <td>NaN</td>\n      <td>NaN</td>\n    </tr>\n    <tr>\n      <th>3</th>\n      <td>Hamburg</td>\n      <td>117.0</td>\n      <td>36.0</td>\n      <td>NaN</td>\n      <td>0.0</td>\n      <td>90.0</td>\n      <td>187.0</td>\n      <td>174.0</td>\n      <td>145.0</td>\n      <td>NaN</td>\n      <td>...</td>\n      <td>NaN</td>\n      <td>NaN</td>\n      <td>NaN</td>\n      <td>NaN</td>\n      <td>NaN</td>\n      <td>NaN</td>\n      <td>NaN</td>\n      <td>NaN</td>\n      <td>NaN</td>\n      <td>NaN</td>\n    </tr>\n    <tr>\n      <th>4</th>\n      <td>Kiel</td>\n      <td>135.0</td>\n      <td>NaN</td>\n      <td>NaN</td>\n      <td>NaN</td>\n      <td>0.0</td>\n      <td>NaN</td>\n      <td>NaN</td>\n      <td>NaN</td>\n      <td>109.0</td>\n      <td>...</td>\n      <td>NaN</td>\n      <td>NaN</td>\n      <td>NaN</td>\n      <td>NaN</td>\n      <td>NaN</td>\n      <td>NaN</td>\n      <td>NaN</td>\n      <td>NaN</td>\n      <td>NaN</td>\n      <td>NaN</td>\n    </tr>\n    <tr>\n      <th>5</th>\n      <td>Lübeck</td>\n      <td>NaN</td>\n      <td>NaN</td>\n      <td>NaN</td>\n      <td>NaN</td>\n      <td>NaN</td>\n      <td>0.0</td>\n      <td>NaN</td>\n      <td>NaN</td>\n      <td>93.0</td>\n      <td>...</td>\n      <td>NaN</td>\n      <td>NaN</td>\n      <td>NaN</td>\n      <td>NaN</td>\n      <td>NaN</td>\n      <td>NaN</td>\n      <td>NaN</td>\n      <td>NaN</td>\n      <td>NaN</td>\n      <td>NaN</td>\n    </tr>\n    <tr>\n      <th>6</th>\n      <td>Rostock</td>\n      <td>NaN</td>\n      <td>NaN</td>\n      <td>NaN</td>\n      <td>NaN</td>\n      <td>NaN</td>\n      <td>NaN</td>\n      <td>0.0</td>\n      <td>NaN</td>\n      <td>NaN</td>\n      <td>...</td>\n      <td>NaN</td>\n      <td>NaN</td>\n      <td>NaN</td>\n      <td>NaN</td>\n      <td>NaN</td>\n      <td>NaN</td>\n      <td>NaN</td>\n      <td>NaN</td>\n      <td>NaN</td>\n      <td>NaN</td>\n    </tr>\n    <tr>\n      <th>7</th>\n      <td>Sassnitz</td>\n      <td>NaN</td>\n      <td>NaN</td>\n      <td>NaN</td>\n      <td>NaN</td>\n      <td>145.0</td>\n      <td>NaN</td>\n      <td>92.0</td>\n      <td>0.0</td>\n      <td>NaN</td>\n      <td>...</td>\n      <td>NaN</td>\n      <td>NaN</td>\n      <td>NaN</td>\n      <td>NaN</td>\n      <td>NaN</td>\n      <td>NaN</td>\n      <td>NaN</td>\n      <td>NaN</td>\n      <td>NaN</td>\n      <td>NaN</td>\n    </tr>\n    <tr>\n      <th>8</th>\n      <td>Stralsund</td>\n      <td>NaN</td>\n      <td>NaN</td>\n      <td>NaN</td>\n      <td>NaN</td>\n      <td>NaN</td>\n      <td>NaN</td>\n      <td>NaN</td>\n      <td>NaN</td>\n      <td>0.0</td>\n      <td>...</td>\n      <td>NaN</td>\n      <td>NaN</td>\n      <td>NaN</td>\n      <td>NaN</td>\n      <td>NaN</td>\n      <td>NaN</td>\n      <td>NaN</td>\n      <td>NaN</td>\n      <td>NaN</td>\n      <td>NaN</td>\n    </tr>\n    <tr>\n      <th>9</th>\n      <td>Wilhelmshaven</td>\n      <td>NaN</td>\n      <td>NaN</td>\n      <td>NaN</td>\n      <td>NaN</td>\n      <td>NaN</td>\n      <td>NaN</td>\n      <td>NaN</td>\n      <td>NaN</td>\n      <td>NaN</td>\n      <td>...</td>\n      <td>NaN</td>\n      <td>NaN</td>\n      <td>NaN</td>\n      <td>NaN</td>\n      <td>NaN</td>\n      <td>NaN</td>\n      <td>NaN</td>\n      <td>NaN</td>\n      <td>NaN</td>\n      <td>NaN</td>\n    </tr>\n    <tr>\n      <th>10</th>\n      <td>Wismar</td>\n      <td>585.0</td>\n      <td>140.0</td>\n      <td>NaN</td>\n      <td>176.0</td>\n      <td>86.0</td>\n      <td>NaN</td>\n      <td>NaN</td>\n      <td>NaN</td>\n      <td>NaN</td>\n      <td>...</td>\n      <td>NaN</td>\n      <td>NaN</td>\n      <td>NaN</td>\n      <td>NaN</td>\n      <td>NaN</td>\n      <td>NaN</td>\n      <td>NaN</td>\n      <td>NaN</td>\n      <td>NaN</td>\n      <td>NaN</td>\n    </tr>\n    <tr>\n      <th>11</th>\n      <td>Antwerpen</td>\n      <td>NaN</td>\n      <td>NaN</td>\n      <td>NaN</td>\n      <td>NaN</td>\n      <td>NaN</td>\n      <td>NaN</td>\n      <td>NaN</td>\n      <td>NaN</td>\n      <td>NaN</td>\n      <td>...</td>\n      <td>NaN</td>\n      <td>NaN</td>\n      <td>NaN</td>\n      <td>NaN</td>\n      <td>NaN</td>\n      <td>NaN</td>\n      <td>NaN</td>\n      <td>NaN</td>\n      <td>NaN</td>\n      <td>NaN</td>\n    </tr>\n    <tr>\n      <th>12</th>\n      <td>Rotterdam</td>\n      <td>255.0</td>\n      <td>NaN</td>\n      <td>NaN</td>\n      <td>NaN</td>\n      <td>323.0</td>\n      <td>NaN</td>\n      <td>NaN</td>\n      <td>NaN</td>\n      <td>NaN</td>\n      <td>...</td>\n      <td>NaN</td>\n      <td>NaN</td>\n      <td>536.0</td>\n      <td>NaN</td>\n      <td>NaN</td>\n      <td>NaN</td>\n      <td>NaN</td>\n      <td>NaN</td>\n      <td>129.0</td>\n      <td>NaN</td>\n    </tr>\n    <tr>\n      <th>13</th>\n      <td>Aarhus</td>\n      <td>NaN</td>\n      <td>NaN</td>\n      <td>NaN</td>\n      <td>NaN</td>\n      <td>NaN</td>\n      <td>NaN</td>\n      <td>NaN</td>\n      <td>NaN</td>\n      <td>NaN</td>\n      <td>...</td>\n      <td>NaN</td>\n      <td>NaN</td>\n      <td>NaN</td>\n      <td>NaN</td>\n      <td>NaN</td>\n      <td>NaN</td>\n      <td>NaN</td>\n      <td>NaN</td>\n      <td>NaN</td>\n      <td>NaN</td>\n    </tr>\n    <tr>\n      <th>14</th>\n      <td>Copenhagen</td>\n      <td>NaN</td>\n      <td>NaN</td>\n      <td>NaN</td>\n      <td>NaN</td>\n      <td>NaN</td>\n      <td>NaN</td>\n      <td>NaN</td>\n      <td>NaN</td>\n      <td>NaN</td>\n      <td>...</td>\n      <td>NaN</td>\n      <td>137.0</td>\n      <td>NaN</td>\n      <td>NaN</td>\n      <td>NaN</td>\n      <td>NaN</td>\n      <td>NaN</td>\n      <td>NaN</td>\n      <td>NaN</td>\n      <td>NaN</td>\n    </tr>\n    <tr>\n      <th>15</th>\n      <td>Bornholm</td>\n      <td>NaN</td>\n      <td>NaN</td>\n      <td>NaN</td>\n      <td>NaN</td>\n      <td>NaN</td>\n      <td>NaN</td>\n      <td>NaN</td>\n      <td>NaN</td>\n      <td>NaN</td>\n      <td>...</td>\n      <td>NaN</td>\n      <td>NaN</td>\n      <td>NaN</td>\n      <td>NaN</td>\n      <td>NaN</td>\n      <td>NaN</td>\n      <td>NaN</td>\n      <td>NaN</td>\n      <td>NaN</td>\n      <td>NaN</td>\n    </tr>\n    <tr>\n      <th>16</th>\n      <td>Gdansk</td>\n      <td>NaN</td>\n      <td>NaN</td>\n      <td>NaN</td>\n      <td>NaN</td>\n      <td>NaN</td>\n      <td>NaN</td>\n      <td>NaN</td>\n      <td>NaN</td>\n      <td>NaN</td>\n      <td>...</td>\n      <td>NaN</td>\n      <td>NaN</td>\n      <td>NaN</td>\n      <td>NaN</td>\n      <td>NaN</td>\n      <td>NaN</td>\n      <td>NaN</td>\n      <td>NaN</td>\n      <td>NaN</td>\n      <td>NaN</td>\n    </tr>\n    <tr>\n      <th>17</th>\n      <td>Klaipeda</td>\n      <td>NaN</td>\n      <td>NaN</td>\n      <td>NaN</td>\n      <td>NaN</td>\n      <td>NaN</td>\n      <td>NaN</td>\n      <td>NaN</td>\n      <td>NaN</td>\n      <td>NaN</td>\n      <td>...</td>\n      <td>NaN</td>\n      <td>NaN</td>\n      <td>NaN</td>\n      <td>NaN</td>\n      <td>NaN</td>\n      <td>NaN</td>\n      <td>NaN</td>\n      <td>NaN</td>\n      <td>NaN</td>\n      <td>NaN</td>\n    </tr>\n    <tr>\n      <th>18</th>\n      <td>Riga</td>\n      <td>NaN</td>\n      <td>NaN</td>\n      <td>NaN</td>\n      <td>NaN</td>\n      <td>NaN</td>\n      <td>NaN</td>\n      <td>NaN</td>\n      <td>497.0</td>\n      <td>NaN</td>\n      <td>...</td>\n      <td>NaN</td>\n      <td>NaN</td>\n      <td>NaN</td>\n      <td>NaN</td>\n      <td>NaN</td>\n      <td>NaN</td>\n      <td>NaN</td>\n      <td>NaN</td>\n      <td>NaN</td>\n      <td>NaN</td>\n    </tr>\n    <tr>\n      <th>19</th>\n      <td>Tallinn</td>\n      <td>NaN</td>\n      <td>NaN</td>\n      <td>NaN</td>\n      <td>NaN</td>\n      <td>NaN</td>\n      <td>NaN</td>\n      <td>NaN</td>\n      <td>NaN</td>\n      <td>NaN</td>\n      <td>...</td>\n      <td>NaN</td>\n      <td>NaN</td>\n      <td>NaN</td>\n      <td>NaN</td>\n      <td>NaN</td>\n      <td>NaN</td>\n      <td>NaN</td>\n      <td>NaN</td>\n      <td>NaN</td>\n      <td>NaN</td>\n    </tr>\n    <tr>\n      <th>20</th>\n      <td>Helsinki</td>\n      <td>NaN</td>\n      <td>NaN</td>\n      <td>NaN</td>\n      <td>NaN</td>\n      <td>NaN</td>\n      <td>NaN</td>\n      <td>NaN</td>\n      <td>NaN</td>\n      <td>NaN</td>\n      <td>...</td>\n      <td>NaN</td>\n      <td>NaN</td>\n      <td>NaN</td>\n      <td>NaN</td>\n      <td>NaN</td>\n      <td>NaN</td>\n      <td>NaN</td>\n      <td>NaN</td>\n      <td>NaN</td>\n      <td>NaN</td>\n    </tr>\n    <tr>\n      <th>21</th>\n      <td>Oulu</td>\n      <td>NaN</td>\n      <td>NaN</td>\n      <td>NaN</td>\n      <td>NaN</td>\n      <td>NaN</td>\n      <td>NaN</td>\n      <td>NaN</td>\n      <td>NaN</td>\n      <td>NaN</td>\n      <td>...</td>\n      <td>NaN</td>\n      <td>NaN</td>\n      <td>NaN</td>\n      <td>NaN</td>\n      <td>NaN</td>\n      <td>NaN</td>\n      <td>NaN</td>\n      <td>NaN</td>\n      <td>NaN</td>\n      <td>NaN</td>\n    </tr>\n    <tr>\n      <th>22</th>\n      <td>Mariehamn\\t</td>\n      <td>NaN</td>\n      <td>NaN</td>\n      <td>NaN</td>\n      <td>NaN</td>\n      <td>NaN</td>\n      <td>NaN</td>\n      <td>NaN</td>\n      <td>NaN</td>\n      <td>NaN</td>\n      <td>...</td>\n      <td>NaN</td>\n      <td>NaN</td>\n      <td>NaN</td>\n      <td>NaN</td>\n      <td>NaN</td>\n      <td>NaN</td>\n      <td>NaN</td>\n      <td>NaN</td>\n      <td>NaN</td>\n      <td>NaN</td>\n    </tr>\n    <tr>\n      <th>23</th>\n      <td>Stockholm</td>\n      <td>NaN</td>\n      <td>NaN</td>\n      <td>NaN</td>\n      <td>NaN</td>\n      <td>NaN</td>\n      <td>NaN</td>\n      <td>NaN</td>\n      <td>NaN</td>\n      <td>NaN</td>\n      <td>...</td>\n      <td>385.0</td>\n      <td>NaN</td>\n      <td>NaN</td>\n      <td>NaN</td>\n      <td>NaN</td>\n      <td>NaN</td>\n      <td>NaN</td>\n      <td>NaN</td>\n      <td>NaN</td>\n      <td>NaN</td>\n    </tr>\n    <tr>\n      <th>24</th>\n      <td>Visby</td>\n      <td>NaN</td>\n      <td>NaN</td>\n      <td>NaN</td>\n      <td>NaN</td>\n      <td>NaN</td>\n      <td>NaN</td>\n      <td>NaN</td>\n      <td>NaN</td>\n      <td>NaN</td>\n      <td>...</td>\n      <td>NaN</td>\n      <td>NaN</td>\n      <td>NaN</td>\n      <td>NaN</td>\n      <td>NaN</td>\n      <td>NaN</td>\n      <td>NaN</td>\n      <td>NaN</td>\n      <td>NaN</td>\n      <td>NaN</td>\n    </tr>\n    <tr>\n      <th>25</th>\n      <td>St. Petersburg</td>\n      <td>NaN</td>\n      <td>NaN</td>\n      <td>NaN</td>\n      <td>NaN</td>\n      <td>NaN</td>\n      <td>NaN</td>\n      <td>NaN</td>\n      <td>NaN</td>\n      <td>NaN</td>\n      <td>...</td>\n      <td>0.0</td>\n      <td>NaN</td>\n      <td>NaN</td>\n      <td>NaN</td>\n      <td>NaN</td>\n      <td>NaN</td>\n      <td>NaN</td>\n      <td>NaN</td>\n      <td>NaN</td>\n      <td>NaN</td>\n    </tr>\n    <tr>\n      <th>26</th>\n      <td>Gothenburg</td>\n      <td>NaN</td>\n      <td>NaN</td>\n      <td>NaN</td>\n      <td>NaN</td>\n      <td>NaN</td>\n      <td>NaN</td>\n      <td>NaN</td>\n      <td>NaN</td>\n      <td>NaN</td>\n      <td>...</td>\n      <td>NaN</td>\n      <td>0.0</td>\n      <td>NaN</td>\n      <td>163.0</td>\n      <td>NaN</td>\n      <td>NaN</td>\n      <td>NaN</td>\n      <td>NaN</td>\n      <td>NaN</td>\n      <td>NaN</td>\n    </tr>\n    <tr>\n      <th>27</th>\n      <td>Bergen</td>\n      <td>NaN</td>\n      <td>NaN</td>\n      <td>NaN</td>\n      <td>NaN</td>\n      <td>NaN</td>\n      <td>NaN</td>\n      <td>NaN</td>\n      <td>NaN</td>\n      <td>NaN</td>\n      <td>...</td>\n      <td>NaN</td>\n      <td>NaN</td>\n      <td>0.0</td>\n      <td>378.0</td>\n      <td>NaN</td>\n      <td>NaN</td>\n      <td>NaN</td>\n      <td>NaN</td>\n      <td>NaN</td>\n      <td>NaN</td>\n    </tr>\n    <tr>\n      <th>28</th>\n      <td>Oslo</td>\n      <td>NaN</td>\n      <td>NaN</td>\n      <td>NaN</td>\n      <td>NaN</td>\n      <td>NaN</td>\n      <td>NaN</td>\n      <td>NaN</td>\n      <td>NaN</td>\n      <td>NaN</td>\n      <td>...</td>\n      <td>NaN</td>\n      <td>NaN</td>\n      <td>NaN</td>\n      <td>0.0</td>\n      <td>NaN</td>\n      <td>NaN</td>\n      <td>NaN</td>\n      <td>NaN</td>\n      <td>NaN</td>\n      <td>NaN</td>\n    </tr>\n    <tr>\n      <th>29</th>\n      <td>Stavanger</td>\n      <td>NaN</td>\n      <td>NaN</td>\n      <td>NaN</td>\n      <td>NaN</td>\n      <td>NaN</td>\n      <td>NaN</td>\n      <td>NaN</td>\n      <td>NaN</td>\n      <td>NaN</td>\n      <td>...</td>\n      <td>NaN</td>\n      <td>NaN</td>\n      <td>NaN</td>\n      <td>NaN</td>\n      <td>0.0</td>\n      <td>NaN</td>\n      <td>NaN</td>\n      <td>NaN</td>\n      <td>NaN</td>\n      <td>NaN</td>\n    </tr>\n    <tr>\n      <th>30</th>\n      <td>Aberdeen</td>\n      <td>NaN</td>\n      <td>NaN</td>\n      <td>NaN</td>\n      <td>NaN</td>\n      <td>NaN</td>\n      <td>NaN</td>\n      <td>NaN</td>\n      <td>NaN</td>\n      <td>NaN</td>\n      <td>...</td>\n      <td>NaN</td>\n      <td>NaN</td>\n      <td>NaN</td>\n      <td>NaN</td>\n      <td>NaN</td>\n      <td>0.0</td>\n      <td>NaN</td>\n      <td>431.0</td>\n      <td>NaN</td>\n      <td>NaN</td>\n    </tr>\n    <tr>\n      <th>31</th>\n      <td>Immingham</td>\n      <td>NaN</td>\n      <td>NaN</td>\n      <td>NaN</td>\n      <td>NaN</td>\n      <td>NaN</td>\n      <td>NaN</td>\n      <td>NaN</td>\n      <td>NaN</td>\n      <td>NaN</td>\n      <td>...</td>\n      <td>NaN</td>\n      <td>NaN</td>\n      <td>NaN</td>\n      <td>NaN</td>\n      <td>NaN</td>\n      <td>NaN</td>\n      <td>0.0</td>\n      <td>NaN</td>\n      <td>NaN</td>\n      <td>NaN</td>\n    </tr>\n    <tr>\n      <th>32</th>\n      <td>London</td>\n      <td>NaN</td>\n      <td>NaN</td>\n      <td>NaN</td>\n      <td>NaN</td>\n      <td>NaN</td>\n      <td>NaN</td>\n      <td>NaN</td>\n      <td>NaN</td>\n      <td>NaN</td>\n      <td>...</td>\n      <td>NaN</td>\n      <td>NaN</td>\n      <td>NaN</td>\n      <td>NaN</td>\n      <td>NaN</td>\n      <td>NaN</td>\n      <td>NaN</td>\n      <td>0.0</td>\n      <td>NaN</td>\n      <td>NaN</td>\n    </tr>\n    <tr>\n      <th>33</th>\n      <td>Calais</td>\n      <td>NaN</td>\n      <td>NaN</td>\n      <td>NaN</td>\n      <td>NaN</td>\n      <td>NaN</td>\n      <td>NaN</td>\n      <td>NaN</td>\n      <td>NaN</td>\n      <td>NaN</td>\n      <td>...</td>\n      <td>NaN</td>\n      <td>NaN</td>\n      <td>NaN</td>\n      <td>NaN</td>\n      <td>NaN</td>\n      <td>NaN</td>\n      <td>NaN</td>\n      <td>NaN</td>\n      <td>0.0</td>\n      <td>119.0</td>\n    </tr>\n    <tr>\n      <th>34</th>\n      <td>Le Havre</td>\n      <td>NaN</td>\n      <td>NaN</td>\n      <td>NaN</td>\n      <td>NaN</td>\n      <td>NaN</td>\n      <td>NaN</td>\n      <td>NaN</td>\n      <td>NaN</td>\n      <td>NaN</td>\n      <td>...</td>\n      <td>NaN</td>\n      <td>NaN</td>\n      <td>NaN</td>\n      <td>NaN</td>\n      <td>NaN</td>\n      <td>NaN</td>\n      <td>NaN</td>\n      <td>NaN</td>\n      <td>NaN</td>\n      <td>0.0</td>\n    </tr>\n  </tbody>\n</table>\n<p>35 rows × 36 columns</p>\n</div>"
     },
     "metadata": {},
     "execution_count": 3
    }
   ],
   "source": [
    "df_ports = pd.read_csv(\"data_harbours_utf8.csv\", sep = \";\")\n",
    "df_ports_sample = pd.read_csv(\"sample_data_harbours_utf8.csv\", sep = \";\")\n",
    "df_ports"
   ]
  },
  {
   "cell_type": "markdown",
   "metadata": {},
   "source": [
    "### Formatting of data"
   ]
  },
  {
   "cell_type": "markdown",
   "metadata": {},
   "source": [
    "In order to formulate the problem in a format accessible by the D-Wave libraries the matrix data is restructured into an unstacked format. The new table contains of the follwoing columns:\n",
    "1. From\n",
    "2. To\n",
    "3. Distance\n",
    "After tranforming the format, only possible routes are included in the data."
   ]
  },
  {
   "cell_type": "code",
   "execution_count": 4,
   "metadata": {},
   "outputs": [
    {
     "output_type": "execute_result",
     "data": {
      "text/plain": [
       "           From           To  Distance\n",
       "0   Brunsbüttel  Bremerhaven      81.0\n",
       "1         Emden  Bremerhaven     137.0\n",
       "2       Hamburg  Bremerhaven     117.0\n",
       "3          Kiel  Bremerhaven     135.0\n",
       "4        Wismar  Bremerhaven     585.0\n",
       "..          ...          ...       ...\n",
       "56       Bergen         Oslo     378.0\n",
       "57  Bremerhaven     Aberdeen     435.0\n",
       "58     Aberdeen       London     431.0\n",
       "59    Rotterdam       Calais     129.0\n",
       "60       Calais     Le Havre     119.0\n",
       "\n",
       "[61 rows x 3 columns]"
      ],
      "text/html": "<div>\n<style scoped>\n    .dataframe tbody tr th:only-of-type {\n        vertical-align: middle;\n    }\n\n    .dataframe tbody tr th {\n        vertical-align: top;\n    }\n\n    .dataframe thead th {\n        text-align: right;\n    }\n</style>\n<table border=\"1\" class=\"dataframe\">\n  <thead>\n    <tr style=\"text-align: right;\">\n      <th></th>\n      <th>From</th>\n      <th>To</th>\n      <th>Distance</th>\n    </tr>\n  </thead>\n  <tbody>\n    <tr>\n      <th>0</th>\n      <td>Brunsbüttel</td>\n      <td>Bremerhaven</td>\n      <td>81.0</td>\n    </tr>\n    <tr>\n      <th>1</th>\n      <td>Emden</td>\n      <td>Bremerhaven</td>\n      <td>137.0</td>\n    </tr>\n    <tr>\n      <th>2</th>\n      <td>Hamburg</td>\n      <td>Bremerhaven</td>\n      <td>117.0</td>\n    </tr>\n    <tr>\n      <th>3</th>\n      <td>Kiel</td>\n      <td>Bremerhaven</td>\n      <td>135.0</td>\n    </tr>\n    <tr>\n      <th>4</th>\n      <td>Wismar</td>\n      <td>Bremerhaven</td>\n      <td>585.0</td>\n    </tr>\n    <tr>\n      <th>...</th>\n      <td>...</td>\n      <td>...</td>\n      <td>...</td>\n    </tr>\n    <tr>\n      <th>56</th>\n      <td>Bergen</td>\n      <td>Oslo</td>\n      <td>378.0</td>\n    </tr>\n    <tr>\n      <th>57</th>\n      <td>Bremerhaven</td>\n      <td>Aberdeen</td>\n      <td>435.0</td>\n    </tr>\n    <tr>\n      <th>58</th>\n      <td>Aberdeen</td>\n      <td>London</td>\n      <td>431.0</td>\n    </tr>\n    <tr>\n      <th>59</th>\n      <td>Rotterdam</td>\n      <td>Calais</td>\n      <td>129.0</td>\n    </tr>\n    <tr>\n      <th>60</th>\n      <td>Calais</td>\n      <td>Le Havre</td>\n      <td>119.0</td>\n    </tr>\n  </tbody>\n</table>\n<p>61 rows × 3 columns</p>\n</div>"
     },
     "metadata": {},
     "execution_count": 4
    }
   ],
   "source": [
    "def format_ports(ports):\n",
    "    # rename 'Column1' to 'From'\n",
    "    return ports.rename(columns={'Column1':\"From\"})\n",
    "df_ports    \t= format_ports(df_ports)\n",
    "df_ports_sample = format_ports(df_ports_sample)\n",
    "\n",
    "def create_routes(ports):\n",
    "    # transform end harbours in columns to rows\n",
    "    routes= pd.melt(ports,id_vars=['From'],var_name=\"To\",value_name='Distance')\n",
    "\n",
    "    # filter NaN-values\n",
    "    routes=routes[routes[\"Distance\"].notnull()]\n",
    "\n",
    "    # filter out 0.0 values\n",
    "    routes=routes[routes.Distance != 0]\n",
    "\n",
    "    #reset index\n",
    "    routes=routes.reset_index(drop=True)\n",
    "    return routes\n",
    "df_routes        = create_routes(df_ports)\n",
    "df_routes_sample = create_routes(df_ports_sample)\n",
    "\n",
    "df_routes_withoutStardEnd=df_routes\n",
    "df_routes_withoutStardEnd_sample=df_routes_sample\n",
    "df_routes"
   ]
  },
  {
   "cell_type": "markdown",
   "metadata": {},
   "source": [
    "### User input and validation of departure and destination harbour "
   ]
  },
  {
   "cell_type": "markdown",
   "metadata": {},
   "source": [
    "In this section the manual user input is requested and validated by the following criteria:\n",
    "1. departure and destination ports exist in the input file with connections\n",
    "2. departure port is not equal to destination port\n",
    "\n",
    "If input is invalid, the according error message is displayed."
   ]
  },
  {
   "cell_type": "code",
   "execution_count": 5,
   "metadata": {
    "tags": []
   },
   "outputs": [],
   "source": [
    "if static_departDesti:\n",
    "    departure=\"Brunsbüttel\"\n",
    "    destination=\"Emden\"\n",
    "else:\n",
    "    #Check whether the departure port is element of the input data\n",
    "    while True:\n",
    "        #Entering departure port\n",
    "        departure=input(str(\"Please enter departure port:\"))\n",
    "        if not departure in df_routes['From'].values:\n",
    "            print(\"Entered port is not defined as a depature port in the input file. Please enter valid departure port.\")\n",
    "            continue\n",
    "        else:\n",
    "            break\n",
    "\n",
    "    #Check whether the destination port is element of the input data and not equal to departure port\n",
    "    while True:\n",
    "        #Entering destination port\n",
    "        destination=input(str(\"Please enter destination port:\"))\n",
    "        if not destination in df_routes['To'].values:\n",
    "            print(\"Entered port is not defined as a destination port in the input file. Please enter destination valid port.\")\n",
    "            continue\n",
    "        if destination == departure:\n",
    "            print(\"Entered destination port is equal to departure port. Please enter valid destination port.\")\n",
    "            continue\n",
    "        else:\n",
    "            #we're happy with the value given.\n",
    "            break\n"
   ]
  },
  {
   "cell_type": "markdown",
   "metadata": {},
   "source": [
    "# Data Preparation for Quantum Computing (Anna Ehrenberg, Nick Stuke)"
   ]
  },
  {
   "cell_type": "markdown",
   "metadata": {},
   "source": [
    "In this section, all methods are defined that are later used to\n",
    "1. create Contraint Satisfaction Problem (CSP)\n",
    "2. formulate Binary Quadratic Model (BQM) as QUBO. "
   ]
  },
  {
   "cell_type": "markdown",
   "metadata": {},
   "source": [
    "A problem can be formulated in different ways in order to provide the quantum computer with it. In this example, the problem is formulated as a BQM in the form of a QUBO. The mathematical phrase can be attained by a support class called CSP or can directly be input. In this case, the problem will first be represented by a CSP. The CSP constitutes of \n",
    "1. all variables and \n",
    "2. constraints on the variables."
   ]
  },
  {
   "cell_type": "markdown",
   "metadata": {},
   "source": [
    "### Basic functions"
   ]
  },
  {
   "cell_type": "markdown",
   "metadata": {},
   "source": [
    "In order to simplify code in the constraints section, the following functions are defined. "
   ]
  },
  {
   "cell_type": "code",
   "execution_count": 6,
   "metadata": {},
   "outputs": [],
   "source": [
    "def sum_to_two_or_zero(*args):\n",
    "        \"\"\"Checks to see if the args sum to either 0 or 2.\n",
    "        \"\"\"\n",
    "        sum_value = sum(args)\n",
    "        return sum_value in [0, 2]\n",
    "        \n",
    "def sum_smaller_equal_one(*args):\n",
    "        \"\"\"Checks to see if the args sum to either smaller or equal to 1.\n",
    "        \"\"\"\n",
    "        sum_value = sum(args)\n",
    "        return sum_value in [0, 1]\n",
    "\n",
    "def get_labels(dataframe):\n",
    "        \"\"\"Returns a list of labels from a Dataframe of the format of the input file\"\"\"\n",
    "        labels=(dataframe['From']+'-'+dataframe['To']+'-'+dataframe['Distance'].astype(str)).values.tolist()\n",
    "        return labels"
   ]
  },
  {
   "cell_type": "markdown",
   "metadata": {},
   "source": [
    "### Definition class Ferryarea"
   ]
  },
  {
   "cell_type": "markdown",
   "metadata": {},
   "source": [
    "The class Ferryarea is defined as the geographical space in which the routes connect the ports.\n",
    "Each Ferryarea has a start and end point as well as ports and routes between those ports."
   ]
  },
  {
   "cell_type": "code",
   "execution_count": 26,
   "metadata": {},
   "outputs": [],
   "source": [
    "class Ferryarea:\n",
    "    def __init__(self,start,end,routes):\n",
    "        \"\"\" Initializes object of Type Ferryarea\"\"\"\n",
    "        #Instantiate\n",
    "        self.start=start\n",
    "        self.end=end\n",
    "        self.df_routes = routes\n",
    "        self.ports = pd.DataFrame({'ports':np.append(df_routes['To'].unique(),df_routes['From'].unique())}).drop_duplicates().values.tolist()\n",
    "        self.csp = dwavebinarycsp.ConstraintSatisfactionProblem(dwavebinarycsp.BINARY)\n",
    "        self.cqm = CQM()\n",
    "        self.objectiveDistances=0\n",
    "        #Add start and end route\n",
    "        self.df_routes= self.df_routes.append({'From':self.end, 'To':'end','Distance':0}, ignore_index=True)\n",
    "        self.df_routes= self.df_routes.append({'From':'start', 'To':self.start,'Distance':0}, ignore_index=True)\n",
    "        \n",
    "    def _get_csp(self):\n",
    "        return self.csp\n",
    "    def _get_cqm(self):\n",
    "        return self.cqm    \n",
    "    def _apply_valid_routes_constraint(self):\n",
    "        \"\"\"Creates constraints defining that every entered port has to be exited as well and that every port can only be entered and exited through one route.\"\"\"\n",
    "\n",
    "        for port in self.ports:\n",
    "            #assign to directions Dataframe a Dataframe containing only direction to and from the port\n",
    "            df_directions_from= self.df_routes[self.df_routes['From']==port[0]]\n",
    "            df_directions_to= self.df_routes[self.df_routes['To']==port[0]]\n",
    "            df_directions= pd.concat([df_directions_to,df_directions_from])\n",
    "            \n",
    "            #creates sets of labels as basis for constraint defintion\n",
    "            directions_all = set(get_labels(df_directions))\n",
    "            \n",
    "            #set((df_directions['From']+'-'+df_directions['To']+'-'+df_directions['Distance'].astype(str)).values.tolist())\n",
    "            directions_to= set(get_labels(df_directions_to))\n",
    "            \n",
    "            #set((df_directions_to['From']+'-'+df_directions_to['To']+'-'+df_directions_to['Distance'].astype(str)).values.tolist())\n",
    "            directions_from= set(get_labels(df_directions_from))\n",
    "            #set((df_directions_from['From']+'-'+df_directions_from['To']+'-'+df_directions_from['Distance'].astype(str)).values.tolist())\n",
    "              \n",
    "            x={r: Binary(\n",
    "                \"%r\" %r\n",
    "            )for r in directions_all}\n",
    "\n",
    "            for d in directions_all:\n",
    "                distance=float(d.split('-')[2])\n",
    "                self.objectiveDistances=self.objectiveDistances+distance*x[d]\n",
    "            \n",
    "            self.cqm.add_constraint(\n",
    "                quicksum([x[tod] for tod in directions_to])\n",
    "                -\n",
    "                quicksum([x[fromd] for fromd in directions_from]) \n",
    "                == 0)\n",
    "            \n",
    "            #add constraint sum_to_two_or_zero\n",
    "            self.csp.add_constraint(sum_to_two_or_zero,directions_all)\n",
    "\n",
    "            #add constraint 'To' sum_to_zero_or_one\n",
    "            self.csp.add_constraint(sum_smaller_equal_one,directions_to)\n",
    "            \n",
    "            #add constraint 'From' sum_to_zero_or_one\n",
    "            self.csp.add_constraint(sum_smaller_equal_one, directions_from)\n",
    "\n",
    "    def _set_CQM_objective(self):\n",
    "        self.cqm.set_objective(self.objectiveDistances)\n",
    "        \n",
    "    def _set_start_and_end(self):\n",
    "        \"\"\"Sets the values of the departure and destination port to 1 and all other start and end possibilities to 0\n",
    "        \"\"\" #all other possibilities do not have to be 0. However, this is expected to descrease calculation time\n",
    "\n",
    "        #select all start and end routes\n",
    "        df_routes_to_fix= pd.concat(\n",
    "            [self.df_routes[self.df_routes['From']=='start'],self.df_routes[self.df_routes['To']=='end']]\n",
    "            )\n",
    "        count=0\n",
    "\n",
    "        for i in df_routes_to_fix.values:\n",
    "            label= get_labels(df_routes_to_fix.iloc[[count]])\n",
    "            if (df_routes_to_fix['To'].iloc[count])==self.start:\n",
    "                #sets departure to 1\n",
    "                self.csp.fix_variable(label[0],1)\n",
    "            elif (df_routes_to_fix['From'].iloc[count])==self.end:\n",
    "                #sets destination to 1\n",
    "                self.csp.fix_variable(label[0],1)\n",
    "            else:\n",
    "                #sets departure and destination to 0\n",
    "                self.csp.fix_variable(label[0],0)\n",
    "            count=count+1\n",
    "\n",
    "        self.cqm.fix_variable(\"'start-\"+self.start+\"-0.0'\",1)\n",
    "        self.cqm.fix_variable(\"'\"+self.end+\"-end-0.0'\",1)\n",
    "       "
   ]
  },
  {
   "cell_type": "markdown",
   "metadata": {},
   "source": [
    "### Initialization of Ferryarea"
   ]
  },
  {
   "cell_type": "markdown",
   "metadata": {},
   "source": [
    "In this section, a Ferryarea is initialized with departure and destination port and the routes from the input file. It is used to create the models that are later handed to the Quantum Samplers. \n",
    "\n",
    "There are two Samplers used in this case:\n",
    "\n",
    "1. Quantum Sampler: This sampler only computes on the quantum computer. It requires a binary quadratic model as input. In this case, the BQM is built by a Constraint Satisfaction Problem. This is a model provided by dwave in order to built a BQM. First, all variables and constraints must be added. The variables in this example will represent the routes between two ports. For example, the route Port1-Port2-Distance12 can be used (1) or not (0). \n",
    "A set of support variables is needed in order to represent the entered departure and destination port. Therefor, artificial routes from \"start\" port to the departure port and to \"end\" port from the destination port are created in the following code. \n",
    "\n",
    "2. Hybrid Sampler: The Hybrid Sampler is a blend of quantum computer and a classical computer. It requires a constraint quadratic model (CQM) as input. Compared to the BQM, it uses integers instead of binary values. Similar to the BQM, constraints are added and variables such as the start and end are fixed. Additionally, an objective is defined. In this case, the objective is to minimize the traveled distance between start and end port."
   ]
  },
  {
   "cell_type": "code",
   "execution_count": 8,
   "metadata": {},
   "outputs": [
    {
     "output_type": "stream",
     "name": "stderr",
     "text": [
      "/tmp/ipykernel_226/3859620962.py:13: FutureWarning: The frame.append method is deprecated and will be removed from pandas in a future version. Use pandas.concat instead.\n  self.df_routes= self.df_routes.append({'From':self.end, 'To':'end','Distance':0}, ignore_index=True)\n/tmp/ipykernel_226/3859620962.py:14: FutureWarning: The frame.append method is deprecated and will be removed from pandas in a future version. Use pandas.concat instead.\n  self.df_routes= self.df_routes.append({'From':'start', 'To':self.start,'Distance':0}, ignore_index=True)\n"
     ]
    }
   ],
   "source": [
    "f=Ferryarea(start=departure,end=destination,routes=df_routes)"
   ]
  },
  {
   "cell_type": "markdown",
   "metadata": {},
   "source": [
    "Two constraints ensure, that the problem is displayed correctly:\n",
    "1. All routes connected to one port have to sum up to 0 or 2. This ensures that every port that is entered is exited as well.\n",
    "2. The routes are one-way. This means it is possible to go from one port to another but not back the same way. With the first constraint is would be possible to take two routes where the port is listed in the \"from\" column. This means, it would be exited twice but never approached. Thus, another constraint is needed to ensure that ports are approached only once and existed only once. "
   ]
  },
  {
   "cell_type": "code",
   "execution_count": 9,
   "metadata": {},
   "outputs": [],
   "source": [
    "f._apply_valid_routes_constraint()"
   ]
  },
  {
   "cell_type": "markdown",
   "metadata": {},
   "source": [
    "After all constraints are applied, start and end routes are fixed to 1. "
   ]
  },
  {
   "cell_type": "code",
   "execution_count": 10,
   "metadata": {},
   "outputs": [],
   "source": [
    "f._set_start_and_end()"
   ]
  },
  {
   "cell_type": "markdown",
   "metadata": {},
   "source": [
    "In addition, the objective for the CQM is defined."
   ]
  },
  {
   "cell_type": "code",
   "execution_count": 11,
   "metadata": {},
   "outputs": [],
   "source": [
    "f._set_CQM_objective()"
   ]
  },
  {
   "cell_type": "markdown",
   "metadata": {},
   "source": [
    "The models are created as follows. "
   ]
  },
  {
   "cell_type": "code",
   "execution_count": 12,
   "metadata": {},
   "outputs": [],
   "source": [
    "csp= f._get_csp()\n",
    "cqm=f._get_cqm()"
   ]
  },
  {
   "cell_type": "markdown",
   "metadata": {},
   "source": [
    "While the CQM can be processed directly by the Hybrithe CSP must first be transformed into a BQM. In order to fit the Problem to the modell it is necessary to adjust the following parameters:\n",
    "- max_graph_size: This parameters limits the number of variables that can be included in one constraint. In this case, the number of connections to and from one port. The original d-wave function dwavebinarycsp.stitch uses the function np.unpackbits from the numpy library. This only unpacks arrays from the size of 8 bits. Thus, the function all_possible() and the dtype of the matrix A in the file generation.py have been modified. Now, up to 32 connections between variables can be entered. "
   ]
  },
  {
   "cell_type": "code",
   "execution_count": 13,
   "metadata": {},
   "outputs": [
    {
     "output_type": "stream",
     "name": "stdout",
     "text": [
      "Stich-Function runs too loo long\n"
     ]
    }
   ],
   "source": [
    "# Create BQM, max_graph_size gets bigger once more variables are included in one constraint\n",
    "\n",
    "def stich_function(inputCsp):\n",
    "    timeout=False\n",
    "    bqm=None\n",
    "    def runStich():\n",
    "        #bqm = dwavebinarycsp.stitch(inputCsp,max_graph_size=12)\n",
    "        time.sleep(15)\n",
    "\n",
    "    p = multiprocessing.Process(target=runStich, name=\"StichFunction\")\n",
    "    p.start()\n",
    "\n",
    "    # Timeout in x seconds seconds\n",
    "    p.join(10)\n",
    "\n",
    "    if p.is_alive():\n",
    "        print(\"Stich-Function runs too loo long\")\n",
    "        # Terminate StitchFunction\n",
    "        p.terminate()\n",
    "        p.join()\n",
    "        timeout=True\n",
    "    return timeout, bqm\n",
    "\n",
    "csp_stitchTimeout, bqm = stich_function(csp)\n"
   ]
  },
  {
   "cell_type": "markdown",
   "metadata": {},
   "source": [
    "### Results BQM"
   ]
  },
  {
   "cell_type": "markdown",
   "metadata": {},
   "source": [
    "The BQM is created by the stitch() function provided by d-wave. However, the larger the input data gets the longer is takes for the stitch() function to built the BQM. Within the function a graph is built with all variables. Using the sample data, a graph of 9 nodes and 36 edges is created and the BQM can be built in approximately 42 seconds. For a graph with 10 nodes, approximiately 15 minutes are needed.\n",
    "In conclusion, it is not practical to use the BQM model for real world problems. "
   ]
  },
  {
   "cell_type": "markdown",
   "metadata": {},
   "source": [
    "# Transfer to Quantum Sampler (Anna Ehrenberg, Nick Stuke)"
   ]
  },
  {
   "cell_type": "markdown",
   "metadata": {},
   "source": [
    "In this section, the before built models are tranferred to the quantum computer by using D-wave's Samplers."
   ]
  },
  {
   "cell_type": "markdown",
   "metadata": {},
   "source": [
    "## BQM-Sampling and Result-Selection (Anna Ehrenberg, Nick Stuke)"
   ]
  },
  {
   "cell_type": "markdown",
   "metadata": {},
   "source": [
    "So far, the model can find possible ways between two ports. In the following code, a penalty is added in order to penalize long distances. This way, the shortest route is selected. However, the number of stops is not taken into consideration. "
   ]
  },
  {
   "cell_type": "code",
   "execution_count": 14,
   "metadata": {},
   "outputs": [],
   "source": [
    "def addPenalty(bqm, csp_stitchTimeout):\n",
    "    if not csp_stitchTimeout:\n",
    "        # Add Penalty\n",
    "        penalty=0.01\n",
    "        for v in bqm.variables:\n",
    "            # Ignore auxiliary variables\n",
    "            if isinstance(v, str) and re.match(r'^aux\\d+$', v):\n",
    "                continue\n",
    "            split_v = v.split('-')\n",
    "            bqm.add_variable(v, penalty*float(split_v[2]))\n",
    "\n",
    "if not csp_stitchTimeout:\n",
    "    bqm=addPenalty(bqm,csp_stitchTimeout)"
   ]
  },
  {
   "cell_type": "markdown",
   "metadata": {},
   "source": [
    "The sampler for BQMs is assigned."
   ]
  },
  {
   "cell_type": "code",
   "execution_count": 15,
   "metadata": {},
   "outputs": [],
   "source": [
    "# define Sampler\n",
    "sampler = EmbeddingComposite(DWaveSampler())"
   ]
  },
  {
   "cell_type": "markdown",
   "metadata": {},
   "source": [
    "The sampler is called with the input BQM, number of reads and chain strengths. All results are saved with the produced energy. The result with the lowest energy is expected to be the best result. "
   ]
  },
  {
   "cell_type": "code",
   "execution_count": 16,
   "metadata": {},
   "outputs": [],
   "source": [
    "if not csp_stitchTimeout:\n",
    "    # run BQM on QPU\n",
    "    result = sampler.sample(bqm,\n",
    "                        num_reads=100,\n",
    "                        chain_strength=3,\n",
    "                        label='ferrylines')"
   ]
  },
  {
   "cell_type": "markdown",
   "metadata": {},
   "source": [
    "The results can be visualized online with the D-wave inspector."
   ]
  },
  {
   "cell_type": "code",
   "execution_count": 17,
   "metadata": {},
   "outputs": [],
   "source": [
    "if not csp_stitchTimeout:\n",
    "    # visualize result\n",
    "    dwave.inspector.show(result)"
   ]
  },
  {
   "cell_type": "markdown",
   "metadata": {},
   "source": [
    "The final result is displayed."
   ]
  },
  {
   "cell_type": "code",
   "execution_count": 18,
   "metadata": {},
   "outputs": [],
   "source": [
    "if not csp_stitchTimeout:\n",
    "    print(result.first.sample)"
   ]
  },
  {
   "cell_type": "markdown",
   "metadata": {},
   "source": [
    "## CQM-Sampling and Result-Selection (Nick Stuke)"
   ]
  },
  {
   "cell_type": "code",
   "execution_count": 19,
   "metadata": {},
   "outputs": [],
   "source": [
    "sampler_cqm = LeapHybridCQMSampler()\n",
    "sample_set_cqm=sampler_cqm.sample_cqm(cqm)"
   ]
  },
  {
   "cell_type": "code",
   "execution_count": 20,
   "metadata": {},
   "outputs": [],
   "source": [
    "n_samples = len(sample_set_cqm.record)\n",
    "feasible_samples = sample_set_cqm.filter(lambda d: d.is_feasible) "
   ]
  },
  {
   "cell_type": "code",
   "execution_count": 21,
   "metadata": {},
   "outputs": [
    {
     "output_type": "stream",
     "name": "stdout",
     "text": [
      "Sample(sample={\"'Aberdeen-London-431.0'\": 0.0, \"'Antwerpen-Rotterdam-149.0'\": 0.0, \"'Bergen-Oslo-378.0'\": 0.0, \"'Bremerhaven-Aberdeen-435.0'\": 0.0, \"'Bremerhaven-Emden-137.0'\": 1.0, \"'Bremerhaven-Kiel-135.0'\": 0.0, \"'Brunsbüttel-Aarhus-187.0'\": 0.0, \"'Brunsbüttel-Bornholm-223.0'\": 0.0, \"'Brunsbüttel-Bremerhaven-81.0'\": 1.0, \"'Brunsbüttel-Copenhagen-216.0'\": 0.0, \"'Brunsbüttel-Gdansk-398.0'\": 0.0, \"'Brunsbüttel-Hamburg-36.0'\": 0.0, \"'Brunsbüttel-Kiel-54.0'\": 0.0, \"'Brunsbüttel-Riga-604.0'\": 0.0, \"'Brunsbüttel-Rotterdam-269.0'\": 0.0, \"'Calais-Le Havre-119.0'\": 0.0, \"'Copenhagen-Gothenburg-137.0'\": 0.0, \"'Emden-Bremerhaven-137.0'\": 0.0, \"'Emden-end-0.0'\": 1.0, \"'Gothenburg-Oslo-163.0'\": 0.0, \"'Hamburg-Antwerpen-405.0'\": 0.0, \"'Hamburg-Bremerhaven-117.0'\": 0.0, \"'Hamburg-Brunsbüttel-36.0'\": 0.0, \"'Hamburg-Kiel-90.0'\": 0.0, \"'Hamburg-Lübeck-187.0'\": 0.0, \"'Hamburg-Rostock-174.0'\": 0.0, \"'Hamburg-Rotterdam-305.0'\": 0.0, \"'Hamburg-Sassnitz-145.0'\": 0.0, \"'Hamburg-Wilhelmshaven-114.0'\": 0.0, \"'Hamburg-Wismar-176.0'\": 0.0, \"'Kiel-Bremerhaven-135.0'\": 0.0, \"'Kiel-Rotterdam-323.0'\": 0.0, \"'Kiel-Stockholm-497.0'\": 0.0, \"'Kiel-Stralsund-109.0'\": 0.0, \"'Lübeck-Stralsund-93.0'\": 0.0, \"'Riga-Sassnitz-497.0'\": 0.0, \"'Rotterdam-Bergen-536.0'\": 0.0, \"'Rotterdam-Bremerhaven-255.0'\": 0.0, \"'Rotterdam-Calais-129.0'\": 0.0, \"'Rotterdam-Copenhagen-608.0'\": 0.0, \"'Rotterdam-Kiel-323.0'\": 0.0, \"'Rotterdam-Riga-1077.0'\": 0.0, \"'Sassnitz-Aarhus-204.0'\": 0.0, \"'Sassnitz-Bornholm-52.0'\": 0.0, \"'Sassnitz-Copenhagen-97.0'\": 0.0, \"'Sassnitz-Gdansk-213.0'\": 0.0, \"'Sassnitz-Kiel-145.0'\": 0.0, \"'Sassnitz-Klaipeda-271.0'\": 0.0, \"'Sassnitz-Riga-497.0'\": 0.0, \"'Sassnitz-Rostock-92.0'\": 0.0, \"'Sassnitz-Tallinn-497.0'\": 0.0, \"'St. Petersburg-Stockholm-385.0'\": 0.0, \"'Stockholm-St. Petersburg-385.0'\": 0.0, \"'Wismar-Aarhus-160.0'\": 0.0, \"'Wismar-Bornholm-145.0'\": 0.0, \"'Wismar-Bremerhaven-585.0'\": 0.0, \"'Wismar-Brunsbüttel-140.0'\": 0.0, \"'Wismar-Copenhagen-139.0'\": 0.0, \"'Wismar-Gdansk-327.0'\": 0.0, \"'Wismar-Hamburg-176.0'\": 0.0, \"'Wismar-Kiel-86.0'\": 0.0, \"'Wismar-Rotterdam-713.0'\": 0.0, \"'start-Brunsbüttel-0.0'\": 1.0}, energy=436.0, num_occurrences=1, is_satisfied=array([ True,  True,  True,  True,  True,  True,  True,  True,  True,\n        True,  True,  True,  True,  True,  True,  True,  True,  True,\n        True,  True,  True,  True,  True,  True,  True,  True,  True,\n        True,  True]), is_feasible=True)\n"
     ]
    }
   ],
   "source": [
    "best_feasible_cqm_solution=DWaveSampler.sample\n",
    "if not feasible_samples: \n",
    "    raise Exception(\"No feasible solution could be found for this problem instance.\")\n",
    "else:\n",
    "    best_feasible_cqm_solution = feasible_samples.first\n",
    "    print(best_feasible_cqm_solution)"
   ]
  },
  {
   "cell_type": "markdown",
   "metadata": {},
   "source": [
    "# Shortest Way with classical Computing (Nick Stuke)"
   ]
  },
  {
   "cell_type": "markdown",
   "metadata": {},
   "source": [
    "This Chapter show an algorithm on a classical computer with no quantum-computer ressources. A common algorithm for the given problem is the Dijkstra-Algorthm\\[1\\](vgl. S.1).\n",
    "As a Greedy-Algorithm Dijkstra processes each node once, so with more nodes, it needs more process-time.\n",
    "A* is a much faster algorithm but don't find always the optimal solution.\\[2\\](vgl. S.2)\n",
    "Since the quantum computer should have exactly the strengths of quickly finding global minima, the Dijkstra algorithm is used in this notebook, so that we have a correct result as a control."
   ]
  },
  {
   "source": [
    "## Define Graph\n",
    "First of all, we have to create a graph. Therefore we iterate over every port and add the routes away from it to the graph-note. The graph is stored as as dictonary."
   ],
   "cell_type": "markdown",
   "metadata": {}
  },
  {
   "cell_type": "code",
   "execution_count": 22,
   "metadata": {},
   "outputs": [
    {
     "output_type": "stream",
     "name": "stdout",
     "text": [
      "{'Bremerhaven': {'Emden': 137.0, 'Kiel': 135.0, 'Aberdeen': 435.0}, 'Brunsbüttel': {'Bremerhaven': 81.0, 'Hamburg': 36.0, 'Kiel': 54.0, 'Rotterdam': 269.0, 'Aarhus': 187.0, 'Copenhagen': 216.0, 'Bornholm': 223.0, 'Gdansk': 398.0, 'Riga': 604.0}, 'Emden': {'Bremerhaven': 137.0}, 'Hamburg': {'Bremerhaven': 117.0, 'Brunsbüttel': 36.0, 'Kiel': 90.0, 'Lübeck': 187.0, 'Rostock': 174.0, 'Sassnitz': 145.0, 'Wilhelmshaven': 114.0, 'Wismar': 176.0, 'Antwerpen': 405.0, 'Rotterdam': 305.0}, 'Kiel': {'Bremerhaven': 135.0, 'Stralsund': 109.0, 'Rotterdam': 323.0, 'Stockholm': 497.0}, 'Lübeck': {'Stralsund': 93.0}, 'Rostock': {}, 'Sassnitz': {'Kiel': 145.0, 'Rostock': 92.0, 'Aarhus': 204.0, 'Copenhagen': 97.0, 'Bornholm': 52.0, 'Gdansk': 213.0, 'Klaipeda': 271.0, 'Riga': 497.0, 'Tallinn': 497.0}, 'Stralsund': {}, 'Wilhelmshaven': {}, 'Wismar': {'Bremerhaven': 585.0, 'Brunsbüttel': 140.0, 'Hamburg': 176.0, 'Kiel': 86.0, 'Rotterdam': 713.0, 'Aarhus': 160.0, 'Copenhagen': 139.0, 'Bornholm': 145.0, 'Gdansk': 327.0}, 'Antwerpen': {'Rotterdam': 149.0}, 'Rotterdam': {'Bremerhaven': 255.0, 'Kiel': 323.0, 'Copenhagen': 608.0, 'Riga': 1077.0, 'Bergen': 536.0, 'Calais': 129.0}, 'Aarhus': {}, 'Copenhagen': {'Gothenburg': 137.0}, 'Bornholm': {}, 'Gdansk': {}, 'Klaipeda': {}, 'Riga': {'Sassnitz': 497.0}, 'Tallinn': {}, 'Helsinki': {}, 'Oulu': {}, 'Mariehamn\\t': {}, 'Stockholm': {'St. Petersburg': 385.0}, 'Visby': {}, 'St. Petersburg': {'Stockholm': 385.0}, 'Gothenburg': {'Oslo': 163.0}, 'Bergen': {'Oslo': 378.0}, 'Oslo': {}, 'Stavanger': {}, 'Aberdeen': {'London': 431.0}, 'Immingham': {}, 'London': {}, 'Calais': {'Le Havre': 119.0}, 'Le Havre': {}}\n"
     ]
    }
   ],
   "source": [
    "# define Graph with distances for every Point\n",
    "def defineGraph(ports,routes):\n",
    "    graph={}\n",
    "    for index,port in ports.iterrows():\n",
    "        port_routes=routes[routes['From']==port['From']]\n",
    "        distances={}\n",
    "        for i,r in port_routes.iterrows():\n",
    "            distances[r['To']] = r['Distance']\n",
    "        graph[port['From']] =distances\n",
    "    print(graph)\n",
    "    return graph\n",
    "graph=defineGraph(df_ports,df_routes_withoutStardEnd)\n"
   ]
  },
  {
   "source": [
    "## Calculate shortest distance to start-port\n",
    "The code below contains the dijkstra alogrithm. For each port, it is checked how far the shortest distance to the starting port is and which port is next on the shortest way to the starting port. Therefore, \n"
   ],
   "cell_type": "markdown",
   "metadata": {}
  },
  {
   "cell_type": "code",
   "execution_count": 23,
   "metadata": {},
   "outputs": [
    {
     "output_type": "stream",
     "name": "stdout",
     "text": [
      "{   'Aarhus': {'previous': 'Brunsbüttel', 'shortest distance': 187.0},\n    'Aberdeen': {'previous': 'Bremerhaven', 'shortest distance': 516.0},\n    'Antwerpen': {'previous': 'Hamburg', 'shortest distance': 441.0},\n    'Bergen': {'previous': 'Rotterdam', 'shortest distance': 805.0},\n    'Bornholm': {'previous': 'Brunsbüttel', 'shortest distance': 223.0},\n    'Bremerhaven': {'previous': 'Brunsbüttel', 'shortest distance': 81.0},\n    'Brunsbüttel': {'previous': None, 'shortest distance': 0},\n    'Calais': {'previous': 'Rotterdam', 'shortest distance': 398.0},\n    'Copenhagen': {'previous': 'Brunsbüttel', 'shortest distance': 216.0},\n    'Emden': {'previous': 'Bremerhaven', 'shortest distance': 218.0},\n    'Gdansk': {'previous': 'Sassnitz', 'shortest distance': 394.0},\n    'Gothenburg': {'previous': 'Copenhagen', 'shortest distance': 353.0},\n    'Hamburg': {'previous': 'Brunsbüttel', 'shortest distance': 36.0},\n    'Helsinki': {'previous': None, 'shortest distance': inf},\n    'Immingham': {'previous': None, 'shortest distance': inf},\n    'Kiel': {'previous': 'Brunsbüttel', 'shortest distance': 54.0},\n    'Klaipeda': {'previous': 'Sassnitz', 'shortest distance': 452.0},\n    'Le Havre': {'previous': 'Calais', 'shortest distance': 517.0},\n    'London': {'previous': 'Aberdeen', 'shortest distance': 947.0},\n    'Lübeck': {'previous': 'Hamburg', 'shortest distance': 223.0},\n    'Mariehamn\\t': {'previous': None, 'shortest distance': inf},\n    'Oslo': {'previous': 'Gothenburg', 'shortest distance': 516.0},\n    'Oulu': {'previous': None, 'shortest distance': inf},\n    'Riga': {'previous': 'Brunsbüttel', 'shortest distance': 604.0},\n    'Rostock': {'previous': 'Hamburg', 'shortest distance': 210.0},\n    'Rotterdam': {'previous': 'Brunsbüttel', 'shortest distance': 269.0},\n    'Sassnitz': {'previous': 'Hamburg', 'shortest distance': 181.0},\n    'St. Petersburg': {'previous': 'Stockholm', 'shortest distance': 936.0},\n    'Stavanger': {'previous': None, 'shortest distance': inf},\n    'Stockholm': {'previous': 'Kiel', 'shortest distance': 551.0},\n    'Stralsund': {'previous': 'Kiel', 'shortest distance': 163.0},\n    'Tallinn': {'previous': 'Sassnitz', 'shortest distance': 678.0},\n    'Visby': {'previous': None, 'shortest distance': inf},\n    'Wilhelmshaven': {'previous': 'Hamburg', 'shortest distance': 150.0},\n    'Wismar': {'previous': 'Hamburg', 'shortest distance': 212.0}}\n\n"
     ]
    }
   ],
   "source": [
    "def calcShortestDistances(depart,graph):\n",
    "    queue = [depart]\n",
    "    d = {node: {\"shortest distance\":float(\"inf\"), \"previous\":None} for node in graph}\n",
    "    d[depart][\"shortest distance\"] = 0\n",
    "    cpuTime_start=time.process_time() \n",
    "    while queue:\n",
    "        current = queue.pop(0)\n",
    "        shortest_distance = d[current][\"shortest distance\"]\n",
    "        for neighbour in graph[current]:\n",
    "\n",
    "            dist_to_neighbour = graph[current][neighbour]\n",
    "\n",
    "            if shortest_distance + dist_to_neighbour < d[neighbour][\"shortest distance\"]:\n",
    "\n",
    "                d[neighbour] = {\n",
    "                    \"shortest distance\": shortest_distance + dist_to_neighbour,\n",
    "                    \"previous\": current\n",
    "                }\n",
    "                queue.append(neighbour)\n",
    "    cpuTime_end=time.process_time()\n",
    "    cpuTime=cpuTime_end-cpuTime_start\n",
    "    pp = pprint.PrettyPrinter(indent=4)\n",
    "    pp.pprint(d)\n",
    "    print()\n",
    "    return d,cpuTime\n",
    "\n",
    "d, djiCalcTime=calcShortestDistances(departure,graph)"
   ]
  },
  {
   "source": [
    "## Create Path with shortest distances"
   ],
   "cell_type": "markdown",
   "metadata": {}
  },
  {
   "cell_type": "code",
   "execution_count": 24,
   "metadata": {},
   "outputs": [
    {
     "output_type": "stream",
     "name": "stdout",
     "text": [
      "Destination: Emden\nDeparture: Brunsbüttel\nEmden\nBremerhaven\nDistance: 218.0 Pfad: ['Brunsbüttel', 'Bremerhaven', 'Emden']\n"
     ]
    }
   ],
   "source": [
    "def buildPath(d,dest,depart):\n",
    "    current = dest\n",
    "    print('Destination: '+str(dest))\n",
    "    print('Departure: '+str(depart))\n",
    "    dji_path = [current]\n",
    "    distance_sum=0.0\n",
    "    while current != depart:\n",
    "        print(current)\n",
    "        current = d[current][\"previous\"]\n",
    "        dji_path.append(current)\n",
    "\n",
    "    dji_path = dji_path[::-1]\n",
    "    print('Distance: '+str(d[destination][\"shortest distance\"])+' Pfad: '+str(dji_path))\n",
    "    return dji_path\n",
    "\n",
    "dji_path=buildPath(d,destination,departure)"
   ]
  },
  {
   "cell_type": "markdown",
   "metadata": {},
   "source": [
    "# Result-Consideration (Nick Stuke)"
   ]
  },
  {
   "cell_type": "code",
   "execution_count": 29,
   "metadata": {},
   "outputs": [
    {
     "output_type": "stream",
     "name": "stderr",
     "text": [
      "/tmp/ipykernel_226/1478815527.py:13: FutureWarning: The frame.append method is deprecated and will be removed from pandas in a future version. Use pandas.concat instead.\n",
      "  self.df_routes= self.df_routes.append({'From':self.end, 'To':'end','Distance':0}, ignore_index=True)\n",
      "/tmp/ipykernel_226/1478815527.py:14: FutureWarning: The frame.append method is deprecated and will be removed from pandas in a future version. Use pandas.concat instead.\n",
      "  self.df_routes= self.df_routes.append({'From':'start', 'To':self.start,'Distance':0}, ignore_index=True)\n",
      "Stich-Function runs too loo long\n",
      "Sample(sample={\"'Bremerhaven-Emden-137.0'\": 0.0, \"'Bremerhaven-Hamburg-50.0'\": 1.0, \"'Brunsbüttel-Bremerhaven-81.0'\": 0.0, \"'Brunsbüttel-Hamburg-36.0'\": 0.0, \"'Brunsbüttel-Kiel-54.0'\": 0.0, \"'Brunsbüttel-end-0.0'\": 0.0, \"'Emden-Bremerhaven-137.0'\": 0.0, \"'Hamburg-Bremerhaven-117.0'\": 0.0, \"'Hamburg-Brunsbüttel-36.0'\": 1.0, \"'Hamburg-Kiel-90.0'\": 0.0, \"'Kiel-Bremerhaven-135.0'\": 0.0, \"'start-Bremerhaven-0.0'\": 1.0}, energy=172.0, num_occurrences=1, is_satisfied=array([ True,  True,  True,  True,  True,  True,  True,  True,  True,\n",
      "        True,  True,  True,  True,  True,  True,  True,  True,  True,\n",
      "        True,  True,  True,  True,  True,  True,  True,  True,  True,\n",
      "        True,  True]), is_feasible=True)\n",
      "{'Bremerhaven': {'Emden': 137.0, 'Hamburg': 50.0}, 'Brunsbüttel': {'Bremerhaven': 81.0, 'Hamburg': 36.0, 'Kiel': 54.0}, 'Emden': {'Bremerhaven': 137.0}, 'Hamburg': {'Bremerhaven': 117.0, 'Brunsbüttel': 36.0, 'Kiel': 90.0}, 'Kiel': {'Bremerhaven': 135.0}}\n",
      "{   'Bremerhaven': {'previous': None, 'shortest distance': 0},\n",
      "    'Brunsbüttel': {'previous': 'Hamburg', 'shortest distance': 86.0},\n",
      "    'Emden': {'previous': 'Bremerhaven', 'shortest distance': 137.0},\n",
      "    'Hamburg': {'previous': 'Bremerhaven', 'shortest distance': 50.0},\n",
      "    'Kiel': {'previous': 'Hamburg', 'shortest distance': 140.0}}\n",
      "\n",
      "Destination: Brunsbüttel\n",
      "Departure: Bremerhaven\n",
      "Brunsbüttel\n",
      "Hamburg\n",
      "Distance: 137.0 Pfad: ['Bremerhaven', 'Hamburg', 'Brunsbüttel']\n"
     ]
    }
   ],
   "source": [
    "departure_sample=\"Bremerhaven\"\n",
    "destination_sample=\"Brunsbüttel\"\n",
    "f_sample=Ferryarea(start=departure_sample,end=destination_sample,routes=df_routes_sample)\n",
    "f_sample._apply_valid_routes_constraint()\n",
    "f_sample._set_start_and_end()\n",
    "f_sample._set_CQM_objective()\n",
    "csp_sample= f_sample._get_csp()\n",
    "cqm_sample=f_sample._get_cqm()\n",
    "\n",
    "\n",
    "csp_stitchTimeout_sample, bqm_sample = stich_function(csp_sample)\n",
    "if not csp_stitchTimeout_sample:\n",
    "    bqm_sample=addPenalty(bqm_sample,csp_stitchTimeout_sample)\n",
    "if not csp_stitchTimeout_sample:\n",
    "    # run BQM on QPU\n",
    "    result_sample = sampler.sample(bqm_sample,\n",
    "                        num_reads=100,\n",
    "                        chain_strength=3,\n",
    "                        label='ferrylines')\n",
    "\t\t\t\t\t\t\n",
    "\n",
    "sample_set_cqm_sample=sampler_cqm.sample_cqm(cqm_sample)\n",
    "n_samples_sample = len(sample_set_cqm_sample.record)\n",
    "feasible_samples_sample = sample_set_cqm_sample.filter(lambda d: d.is_feasible) \n",
    "best_feasible_cqm_solution_sample=DWaveSampler.sample\n",
    "if not feasible_samples_sample: \n",
    "    raise Exception(\"No feasible solution could be found for this problem instance.\")\n",
    "else:\n",
    "    best_feasible_cqm_solution_sample = feasible_samples_sample.first\n",
    "    print(best_feasible_cqm_solution_sample)\n",
    "\t\n",
    "\n",
    "graph_sample=defineGraph(df_ports_sample,df_routes_withoutStardEnd_sample)\n",
    "d_sample, djiCalcTime_sample=calcShortestDistances(departure_sample,graph_sample)\n",
    "dji_path_sample=buildPath(d_sample,destination_sample,departure_sample)\n"
   ]
  },
  {
   "cell_type": "markdown",
   "metadata": {},
   "source": [
    "## Result-Homogenization\n",
    "\n",
    "In the following area, a brief processing of the results is carried out. This is required for easier presentation and does not change or add any information."
   ]
  },
  {
   "cell_type": "code",
   "execution_count": 30,
   "metadata": {},
   "outputs": [
    {
     "output_type": "execute_result",
     "data": {
      "text/plain": [
       "1.0"
      ]
     },
     "metadata": {},
     "execution_count": 30
    }
   ],
   "source": []
  },
  {
   "cell_type": "code",
   "execution_count": 39,
   "metadata": {},
   "outputs": [
    {
     "output_type": "stream",
     "name": "stdout",
     "text": [
      "Sample(sample={\"'Aberdeen-London-431.0'\": 0.0, \"'Antwerpen-Rotterdam-149.0'\": 0.0, \"'Bergen-Oslo-378.0'\": 0.0, \"'Bremerhaven-Aberdeen-435.0'\": 0.0, \"'Bremerhaven-Emden-137.0'\": 1.0, \"'Bremerhaven-Kiel-135.0'\": 0.0, \"'Brunsbüttel-Aarhus-187.0'\": 0.0, \"'Brunsbüttel-Bornholm-223.0'\": 0.0, \"'Brunsbüttel-Bremerhaven-81.0'\": 1.0, \"'Brunsbüttel-Copenhagen-216.0'\": 0.0, \"'Brunsbüttel-Gdansk-398.0'\": 0.0, \"'Brunsbüttel-Hamburg-36.0'\": 0.0, \"'Brunsbüttel-Kiel-54.0'\": 0.0, \"'Brunsbüttel-Riga-604.0'\": 0.0, \"'Brunsbüttel-Rotterdam-269.0'\": 0.0, \"'Calais-Le Havre-119.0'\": 0.0, \"'Copenhagen-Gothenburg-137.0'\": 0.0, \"'Emden-Bremerhaven-137.0'\": 0.0, \"'Emden-end-0.0'\": 1.0, \"'Gothenburg-Oslo-163.0'\": 0.0, \"'Hamburg-Antwerpen-405.0'\": 0.0, \"'Hamburg-Bremerhaven-117.0'\": 0.0, \"'Hamburg-Brunsbüttel-36.0'\": 0.0, \"'Hamburg-Kiel-90.0'\": 0.0, \"'Hamburg-Lübeck-187.0'\": 0.0, \"'Hamburg-Rostock-174.0'\": 0.0, \"'Hamburg-Rotterdam-305.0'\": 0.0, \"'Hamburg-Sassnitz-145.0'\": 0.0, \"'Hamburg-Wilhelmshaven-114.0'\": 0.0, \"'Hamburg-Wismar-176.0'\": 0.0, \"'Kiel-Bremerhaven-135.0'\": 0.0, \"'Kiel-Rotterdam-323.0'\": 0.0, \"'Kiel-Stockholm-497.0'\": 0.0, \"'Kiel-Stralsund-109.0'\": 0.0, \"'Lübeck-Stralsund-93.0'\": 0.0, \"'Riga-Sassnitz-497.0'\": 0.0, \"'Rotterdam-Bergen-536.0'\": 0.0, \"'Rotterdam-Bremerhaven-255.0'\": 0.0, \"'Rotterdam-Calais-129.0'\": 0.0, \"'Rotterdam-Copenhagen-608.0'\": 0.0, \"'Rotterdam-Kiel-323.0'\": 0.0, \"'Rotterdam-Riga-1077.0'\": 0.0, \"'Sassnitz-Aarhus-204.0'\": 0.0, \"'Sassnitz-Bornholm-52.0'\": 0.0, \"'Sassnitz-Copenhagen-97.0'\": 0.0, \"'Sassnitz-Gdansk-213.0'\": 0.0, \"'Sassnitz-Kiel-145.0'\": 0.0, \"'Sassnitz-Klaipeda-271.0'\": 0.0, \"'Sassnitz-Riga-497.0'\": 0.0, \"'Sassnitz-Rostock-92.0'\": 0.0, \"'Sassnitz-Tallinn-497.0'\": 0.0, \"'St. Petersburg-Stockholm-385.0'\": 0.0, \"'Stockholm-St. Petersburg-385.0'\": 0.0, \"'Wismar-Aarhus-160.0'\": 0.0, \"'Wismar-Bornholm-145.0'\": 0.0, \"'Wismar-Bremerhaven-585.0'\": 0.0, \"'Wismar-Brunsbüttel-140.0'\": 0.0, \"'Wismar-Copenhagen-139.0'\": 0.0, \"'Wismar-Gdansk-327.0'\": 0.0, \"'Wismar-Hamburg-176.0'\": 0.0, \"'Wismar-Kiel-86.0'\": 0.0, \"'Wismar-Rotterdam-713.0'\": 0.0, \"'start-Brunsbüttel-0.0'\": 1.0}, energy=436.0, num_occurrences=1, is_satisfied=array([ True,  True,  True,  True,  True,  True,  True,  True,  True,\n        True,  True,  True,  True,  True,  True,  True,  True,  True,\n        True,  True,  True,  True,  True,  True,  True,  True,  True,\n        True,  True]), is_feasible=True)\nResult:   ['Brunsbüttel', 'Bremerhaven', 'Emden']\n"
     ]
    },
    {
     "output_type": "error",
     "ename": "NameError",
     "evalue": "name 'result' is not defined",
     "traceback": [
      "\u001b[0;31m---------------------------------------------------------------------------\u001b[0m",
      "\u001b[0;31mNameError\u001b[0m                                 Traceback (most recent call last)",
      "Cell \u001b[0;32mIn[39], line 45\u001b[0m\n\u001b[1;32m     43\u001b[0m \u001b[38;5;66;03m# homogenization of csp-solution\u001b[39;00m\n\u001b[1;32m     44\u001b[0m solution\u001b[38;5;241m=\u001b[39m[]\n\u001b[0;32m---> 45\u001b[0m \u001b[38;5;28;01mfor\u001b[39;00m s \u001b[38;5;129;01min\u001b[39;00m \u001b[43mresult\u001b[49m\u001b[38;5;241m.\u001b[39mfirst\u001b[38;5;241m.\u001b[39msample:\n\u001b[1;32m     46\u001b[0m     \u001b[38;5;28;01mif\u001b[39;00m (result\u001b[38;5;241m.\u001b[39mfirst\u001b[38;5;241m.\u001b[39msample[s]\u001b[38;5;241m==\u001b[39m\u001b[38;5;241m1\u001b[39m \u001b[38;5;129;01mand\u001b[39;00m \n\u001b[1;32m     47\u001b[0m      s\u001b[38;5;241m.\u001b[39mfind(\u001b[38;5;124m'\u001b[39m\u001b[38;5;124mend\u001b[39m\u001b[38;5;124m'\u001b[39m)\u001b[38;5;241m==\u001b[39m\u001b[38;5;241m-\u001b[39m\u001b[38;5;241m1\u001b[39m \u001b[38;5;129;01mand\u001b[39;00m \n\u001b[1;32m     48\u001b[0m      s\u001b[38;5;241m.\u001b[39mfind(\u001b[38;5;124m'\u001b[39m\u001b[38;5;124mstart\u001b[39m\u001b[38;5;124m'\u001b[39m)\u001b[38;5;241m==\u001b[39m\u001b[38;5;241m-\u001b[39m\u001b[38;5;241m1\u001b[39m):\n\u001b[1;32m     49\u001b[0m         solution\u001b[38;5;241m.\u001b[39mappend(s)\n",
      "\u001b[0;31mNameError\u001b[0m: name 'result' is not defined"
     ]
    }
   ],
   "source": [
    "result_csp=[departure]\n",
    "#result_cqm=[departure]\n",
    "result_dji=dji_path\n",
    "\n",
    "def buildSolutionPath(solutionSet,depart,desti):\n",
    "    result=[depart]\n",
    "    solution=[]\n",
    "    for s in solutionSet.sample:\n",
    "        if (solutionSet.sample[s]==float(1) and \n",
    "         s.find('end')==-1 and \n",
    "         s.find('start')==-1):\n",
    "            solution.append(s)\n",
    "    currentP=depart\n",
    "    while currentP!=desti:\n",
    "        for s in solution:\n",
    "            s=s.replace(\"'\",\"\").split('-')\n",
    "            if s[0].find(currentP)==0:\n",
    "                currentP=s[1]\n",
    "                result.append(s[1])\n",
    "                break\n",
    "    return result\n",
    "result_cqm=buildSolutionPath(best_feasible_cqm_solution,departure,destination)\n",
    "if()\n",
    "print('Result:   '+str(result_cqm))\n",
    "\n",
    "\n",
    "# homogenization of cqm-solution\n",
    "solution=[]\n",
    "for s in best_feasible_cqm_solution.sample:\n",
    "    if (best_feasible_cqm_solution.sample[s]==1.0 and \n",
    "     s.find('end')==-1 and \n",
    "     s.find('start')==-1):\n",
    "        solution.append(s)\n",
    "currentP=departure\n",
    "while currentP!=destination:\n",
    "    for s in solution:\n",
    "        s=s.replace(\"'\",\"\").split('-')\n",
    "        if s[0].find(currentP)==0:\n",
    "            currentP=s[1]\n",
    "            result_cqm.append(s[1])\n",
    "            break\n",
    "\n",
    "# homogenization of csp-solution\n",
    "solution=[]\n",
    "for s in result.first.sample:\n",
    "    if (result.first.sample[s]==1 and \n",
    "     s.find('end')==-1 and \n",
    "     s.find('start')==-1):\n",
    "        solution.append(s)\n",
    "currentP=departure\n",
    "while currentP!=destination:\n",
    "    for s in solution:\n",
    "        s=s.split('-')\n",
    "        if s[0].find(currentP)==0:\n",
    "            currentP=s[1]\n",
    "            result_csp.append(s[1])\n",
    "            break\n"
   ]
  },
  {
   "source": [
    "## Result-Summary\n",
    "\n",
    "In the following, the results are presented in the form of a route from the start to the end destination. Which algorithm each belongs to is included in the Python output.\n"
   ],
   "cell_type": "markdown",
   "metadata": {}
  },
  {
   "cell_type": "code",
   "execution_count": null,
   "metadata": {},
   "outputs": [],
   "source": [
    "print('result-cqm: '+str(result_cqm))\n",
    "print('result-csp: '+str(result_csp))\n",
    "print('result-dji: '+str(result_dji))\n",
    "print('time-dji: '+str(cpuTime_dji))"
   ]
  },
  {
   "source": [
    "On a small set of data, all three algorithms were able to find the correct solution. Djikstra is considered a comparison here, since the solution is calculated individually and is therefore seen as correct. The calculation times are irrelevant.\n",
    "\n",
    "The situation is different with a larger data set. With the CSP, the stitch function took too long and was therefore aborted. The reason for the long execution time has already been explained in the execution of the sting function. The other two algorithms were able to calculate the route with negligible time."
   ],
   "cell_type": "markdown",
   "metadata": {}
  },
  {
   "source": [
    "# Conclusion and chances"
   ],
   "cell_type": "markdown",
   "metadata": {}
  },
  {
   "source": [
    "# Quellen"
   ],
   "cell_type": "markdown",
   "metadata": {}
  },
  {
   "source": [
    "\\[1\\] Broumi, Said, Assia Bakal, Mohamed Talea, Florentin Smarandache, und Luige Vladareanu. „Applying Dijkstra algorithm for solving neutrosophic shortest path problem“. In 2016 International Conference on Advanced Mechatronic Systems (ICAMechS), 412–16. Melbourne, Australia: IEEE, 2016. https://doi.org/10.1109/ICAMechS.2016.7813483.\n",
    "\n",
    "\\[2\\] Candra, Ade, Mohammad Andri Budiman, und Kevin Hartanto. „Dijkstra’s and A-Star in Finding the Shortest Path: a Tutorial“. In 2020 International Conference on Data Science, Artificial Intelligence, and Business Analytics (DATABIA), 28–32. Medan, Indonesia: IEEE, 2020. https://doi.org/10.1109/DATABIA50434.2020.9190342.\n"
   ],
   "cell_type": "markdown",
   "metadata": {}
  }
 ],
 "metadata": {
  "interpreter": {
   "hash": "4cd7ab41f5fca4b9b44701077e38c5ffd31fe66a6cab21e0214b68d958d0e462"
  },
  "kernelspec": {
   "name": "python3",
   "display_name": "Python 3.9.15 64-bit"
  },
  "language_info": {
   "codemirror_mode": {
    "name": "ipython",
    "version": 3
   },
   "file_extension": ".py",
   "mimetype": "text/x-python",
   "name": "python",
   "nbconvert_exporter": "python",
   "pygments_lexer": "ipython3",
   "version": "3.9.15"
  },
  "orig_nbformat": 4,
  "vscode": {
   "interpreter": {
    "hash": "1a67aca957aef3b8ba77a329b2e49205fd6e483562b4cf13d66942f6b2ebf41c"
   }
  }
 },
 "nbformat": 4,
 "nbformat_minor": 2
}