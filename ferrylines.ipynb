{
 "cells": [
  {
   "attachments": {},
   "cell_type": "markdown",
   "metadata": {},
   "source": [
    "# Shipping route optimization with D'wave quantum computing"
   ]
  },
  {
   "attachments": {},
   "cell_type": "markdown",
   "metadata": {},
   "source": [
    "# Introduction and about this code (Nick Stuke)"
   ]
  },
  {
   "attachments": {},
   "cell_type": "markdown",
   "metadata": {},
   "source": [
    "Quantum computers have been in development for quite a while. They are intended to solve various problems that scale too violently even for supercomputers. Thus, D'Wave has already started its development since 1999 on quantum computers.\\[3\\] The aim of this Jupyter notebook is to check the current state of the art for feasibility. For this we will try to solve an example on the quantum computers and processes provided by D'Wave. In the following, we will therefore use the D'Wave software libraries, which are intended to enable efficient use with quantum computers.\n",
    "\n",
    "The example is a shipping route optimization. A CSV list is given as input, in which the connections of the various ports are listed. The goal is to find the shortest route from a starting port to the ending port. The list is in the data_harbours_utf8.csv dataset. An output of the route is therefore expected.\n",
    "\n",
    "We will try to solve this example using D'Wave's methods. We use two different methods for this: Constrained Statisfaction Problem(CSP) and Constrained Quadratic Model(CQM). With these two methods, we have the option of either providing direct input to the quantum computer or using D'Wave's hybrid process.\n",
    "In addition, we will look for the optimal solution with classic algorithms in order to have a validation of the result.\n",
    "\n",
    "## Remark\n",
    "\n",
    "This code was written in such a way that the best possible understanding can be conveyed. The goal wasn't to write good code for production purposes. Therefore, redundant parts and further gaps are possible and present.\n",
    "\n",
    "When executing the code, the environment from the venv folder must be used. This is because code changes were made to the packages to make them work."
   ]
  },
  {
   "attachments": {},
   "cell_type": "markdown",
   "metadata": {},
   "source": [
    "# Packages-Import Area\n",
    "\n",
    "In order to use the code the following libraries, classes and functions must be installed:"
   ]
  },
  {
   "cell_type": "code",
   "execution_count": 29,
   "metadata": {},
   "outputs": [],
   "source": [
    "from __future__ import print_function\n",
    "import pandas as pd\n",
    "import numpy as np\n",
    "from dwave.system.samplers import DWaveSampler\n",
    "from dwave.system import LeapHybridCQMSampler\n",
    "from dwave.system.composites import EmbeddingComposite\n",
    "from dimod import quicksum\n",
    "from dimod import Binary\n",
    "from dimod import CQM\n",
    "import dwave.inspector\n",
    "import dwavebinarycsp\n",
    "import re\n",
    "import multiprocessing\n",
    "import time\n",
    "import pprint\n",
    "import sys\n",
    "import threading\n",
    "from time import sleep\n",
    "import _thread as thread"
   ]
  },
  {
   "cell_type": "code",
   "execution_count": null,
   "metadata": {},
   "outputs": [],
   "source": [
    "# Use static Departure and Destination?\n",
    "static_departDesti=True"
   ]
  },
  {
   "cell_type": "markdown",
   "metadata": {},
   "source": [
    "# Input and Preprocessing (Anna Ehrenberg)"
   ]
  },
  {
   "cell_type": "markdown",
   "metadata": {},
   "source": [
    "In this section all data input is entered, validated and preprocessed in order to meet further requirements. "
   ]
  },
  {
   "attachments": {},
   "cell_type": "markdown",
   "metadata": {},
   "source": [
    "In this section the following input is proceeded:\n",
    "\n",
    "Input data file with information on ferry routes with\n",
    "- From: route start port (Column1)\n",
    "- To: route end port (Row1)\n",
    "- Distance: shortest direct distance between departure and arrival port (Number in matrix). If the connection is not possible, the distance is zero or no value is entered.\n",
    "\n",
    "Both a large and a small data set are read in as input.\n"
   ]
  },
  {
   "cell_type": "markdown",
   "metadata": {},
   "source": [
    "### Input data file"
   ]
  },
  {
   "cell_type": "code",
   "execution_count": null,
   "metadata": {},
   "outputs": [],
   "source": [
    "df_ports = pd.read_csv(\"data_harbours_utf8.csv\", sep = \";\")\n",
    "df_ports_sample = pd.read_csv(\"sample_data_harbours_utf8.csv\", sep = \";\")\n",
    "df_ports"
   ]
  },
  {
   "cell_type": "markdown",
   "metadata": {},
   "source": [
    "### Formatting of data"
   ]
  },
  {
   "cell_type": "markdown",
   "metadata": {},
   "source": [
    "In order to formulate the problem in a format accessible by the D-Wave libraries the matrix data is restructured into an unstacked format. The new table contains of the follwoing columns:\n",
    "1. From\n",
    "2. To\n",
    "3. Distance\n",
    "After tranforming the format, only possible routes are included in the data."
   ]
  },
  {
   "cell_type": "code",
   "execution_count": null,
   "metadata": {},
   "outputs": [],
   "source": [
    "def format_ports(ports):\n",
    "    # rename 'Column1' to 'From'\n",
    "    return ports.rename(columns={'Column1':\"From\"})\n",
    "df_ports    \t= format_ports(df_ports)\n",
    "df_ports_sample = format_ports(df_ports_sample)\n",
    "\n",
    "def create_routes(ports):\n",
    "    # transform end harbours in columns to rows\n",
    "    routes= pd.melt(ports,id_vars=['From'],var_name=\"To\",value_name='Distance')\n",
    "\n",
    "    # filter NaN-values\n",
    "    routes=routes[routes[\"Distance\"].notnull()]\n",
    "\n",
    "    # filter out 0.0 values\n",
    "    routes=routes[routes.Distance != 0]\n",
    "\n",
    "    #reset index\n",
    "    routes=routes.reset_index(drop=True)\n",
    "    return routes\n",
    "df_routes        = create_routes(df_ports)\n",
    "df_routes_sample = create_routes(df_ports_sample)\n",
    "\n",
    "df_routes_withoutStardEnd=df_routes\n",
    "df_routes_withoutStardEnd_sample=df_routes_sample\n",
    "df_routes"
   ]
  },
  {
   "cell_type": "markdown",
   "metadata": {},
   "source": [
    "### User input and validation of departure and destination harbour "
   ]
  },
  {
   "cell_type": "markdown",
   "metadata": {},
   "source": [
    "In this section the manual user input is requested and validated by the following criteria:\n",
    "1. departure and destination ports exist in the input file with connections\n",
    "2. departure port is not equal to destination port\n",
    "\n",
    "If input is invalid, the according error message is displayed."
   ]
  },
  {
   "cell_type": "code",
   "execution_count": null,
   "metadata": {
    "tags": []
   },
   "outputs": [],
   "source": [
    "if static_departDesti:\n",
    "    departure=\"Brunsbüttel\"\n",
    "    destination=\"Emden\"\n",
    "else:\n",
    "    #Check whether the departure port is element of the input data\n",
    "    while True:\n",
    "        #Entering departure port\n",
    "        departure=input(str(\"Please enter departure port:\"))\n",
    "        if not departure in df_routes['From'].values:\n",
    "            print(\"Entered port is not defined as a depature port in the input file. Please enter valid departure port.\")\n",
    "            continue\n",
    "        else:\n",
    "            break\n",
    "\n",
    "    #Check whether the destination port is element of the input data and not equal to departure port\n",
    "    while True:\n",
    "        #Entering destination port\n",
    "        destination=input(str(\"Please enter destination port:\"))\n",
    "        if not destination in df_routes['To'].values:\n",
    "            print(\"Entered port is not defined as a destination port in the input file. Please enter destination valid port.\")\n",
    "            continue\n",
    "        if destination == departure:\n",
    "            print(\"Entered destination port is equal to departure port. Please enter valid destination port.\")\n",
    "            continue\n",
    "        else:\n",
    "            #we're happy with the value given.\n",
    "            break\n"
   ]
  },
  {
   "cell_type": "markdown",
   "metadata": {},
   "source": [
    "# Data Preparation for Quantum Computing (Anna Ehrenberg, Nick Stuke)"
   ]
  },
  {
   "attachments": {},
   "cell_type": "markdown",
   "metadata": {},
   "source": [
    "In this section, all methods are defined that are later used to\n",
    "1. create Constraint Satisfaction Problem (CSP)\n",
    "2. create Constraint Quadratic Model (CQM)\n",
    "3. formulate Binary Quadratic Model (BQM) as QUBO. \n",
    "4. add Penalty to the BQM"
   ]
  },
  {
   "attachments": {},
   "cell_type": "markdown",
   "metadata": {},
   "source": [
    "The basic structure of the CSP and CQM is formulated in the Ferryarea class. How the formulation of this works is then explained below for the respective function calls. The CSP is then reformulated into the BQM. In this example, the problem is formulated as a BQM in the form of a QUBO. Finally, we modify the BQM so that longer distances are penalized."
   ]
  },
  {
   "attachments": {},
   "cell_type": "markdown",
   "metadata": {},
   "source": [
    "### Basic functions for CSP"
   ]
  },
  {
   "cell_type": "markdown",
   "metadata": {},
   "source": [
    "In order to simplify code in the constraints section, the following functions are defined. "
   ]
  },
  {
   "cell_type": "code",
   "execution_count": null,
   "metadata": {},
   "outputs": [],
   "source": [
    "def sum_to_two_or_zero(*args):\n",
    "        \"\"\"Checks to see if the args sum to either 0 or 2.\n",
    "        \"\"\"\n",
    "        sum_value = sum(args)\n",
    "        return sum_value in [0, 2]\n",
    "        \n",
    "def sum_smaller_equal_one(*args):\n",
    "        \"\"\"Checks to see if the args sum to either smaller or equal to 1.\n",
    "        \"\"\"\n",
    "        sum_value = sum(args)\n",
    "        return sum_value in [0, 1]\n",
    "\n",
    "def get_labels(dataframe):\n",
    "        \"\"\"Returns a list of labels from a Dataframe of the format of the input file\"\"\"\n",
    "        labels=(dataframe['From']+'-'+dataframe['To']+'-'+dataframe['Distance'].astype(str)).values.tolist()\n",
    "        return labels"
   ]
  },
  {
   "cell_type": "markdown",
   "metadata": {},
   "source": [
    "### Definition class Ferryarea"
   ]
  },
  {
   "cell_type": "code",
   "execution_count": null,
   "metadata": {},
   "outputs": [],
   "source": [
    "class Ferryarea:\n",
    "    def __init__(self,start,end,routes):\n",
    "        \"\"\" Initializes object of Type Ferryarea\"\"\"\n",
    "        #Instantiate\n",
    "        self.start=start\n",
    "        self.end=end\n",
    "        self.df_routes = routes\n",
    "        self.ports = pd.DataFrame({'ports':np.append(self.df_routes['To'].unique(),self.df_routes['From'].unique())}).drop_duplicates().values.tolist()\n",
    "        self.csp = dwavebinarycsp.ConstraintSatisfactionProblem(dwavebinarycsp.BINARY)\n",
    "        self.cqm = CQM()\n",
    "        self.objectiveDistances=0\n",
    "        #Add start and end route\n",
    "        self.df_routes= self.df_routes.append({'From':self.end, 'To':'end','Distance':0}, ignore_index=True)\n",
    "        self.df_routes= self.df_routes.append({'From':'start', 'To':self.start,'Distance':0}, ignore_index=True)\n",
    "        \n",
    "    def _get_csp(self):\n",
    "        return self.csp\n",
    "    def _get_cqm(self):\n",
    "        return self.cqm    \n",
    "    def _apply_valid_routes_constraint(self):\n",
    "        \"\"\"Creates constraints defining that every entered port has to be exited as well and that every port can only be entered and exited through one route.\"\"\"\n",
    "\n",
    "        for port in self.ports:\n",
    "            #assign to directions Dataframe a Dataframe containing only direction to and from the port\n",
    "            df_directions_from= self.df_routes[self.df_routes['From']==port[0]]\n",
    "            df_directions_to= self.df_routes[self.df_routes['To']==port[0]]\n",
    "            df_directions= pd.concat([df_directions_to,df_directions_from])\n",
    "            \n",
    "            #creates sets of labels as basis for constraint defintion\n",
    "            directions_all = set(get_labels(df_directions))\n",
    "            \n",
    "            directions_to= set(get_labels(df_directions_to))\n",
    "            \n",
    "            directions_from= set(get_labels(df_directions_from))\n",
    "              \n",
    "            x={r: Binary(\n",
    "                \"%r\" %r\n",
    "            )for r in directions_all}\n",
    "\n",
    "            for d in directions_all:\n",
    "                distance=float(d.split('-')[2])\n",
    "                self.objectiveDistances=self.objectiveDistances+distance*x[d]\n",
    "            \n",
    "            self.cqm.add_constraint(\n",
    "                quicksum([x[tod] for tod in directions_to])\n",
    "                -\n",
    "                quicksum([x[fromd] for fromd in directions_from]) \n",
    "                == 0)\n",
    "            \n",
    "            #add constraint sum_to_two_or_zero \n",
    "            self.csp.add_constraint(sum_to_two_or_zero,directions_all)\n",
    "\n",
    "            #add constraint 'To' sum_to_zero_or_one\n",
    "            self.csp.add_constraint(sum_smaller_equal_one,directions_to)\n",
    "            \n",
    "            #add constraint 'From' sum_to_zero_or_one\n",
    "            self.csp.add_constraint(sum_smaller_equal_one, directions_from)\n",
    "\n",
    "    def _set_CQM_objective(self):\n",
    "        self.cqm.set_objective(self.objectiveDistances)\n",
    "        \n",
    "    def _set_start_and_end(self):\n",
    "        \"\"\"Sets the values of the departure and destination port to 1 and all other start and end possibilities to 0\n",
    "        \"\"\" #all other possibilities do not have to be 0. However, this is expected to descrease calculation time\n",
    "\n",
    "        #select all start and end routes\n",
    "        df_routes_to_fix= pd.concat(\n",
    "            [self.df_routes[self.df_routes['From']=='start'],self.df_routes[self.df_routes['To']=='end']]\n",
    "            )\n",
    "        count=0\n",
    "\n",
    "        for i in df_routes_to_fix.values:\n",
    "            label= get_labels(df_routes_to_fix.iloc[[count]])\n",
    "            if (df_routes_to_fix['To'].iloc[count])==self.start:\n",
    "                #sets departure to 1\n",
    "                self.csp.fix_variable(label[0],1)\n",
    "            elif (df_routes_to_fix['From'].iloc[count])==self.end:\n",
    "                #sets destination to 1\n",
    "                self.csp.fix_variable(label[0],1)\n",
    "            else:\n",
    "                #sets departure and destination to 0\n",
    "                self.csp.fix_variable(label[0],0)\n",
    "            count=count+1\n",
    "\n",
    "        self.cqm.fix_variable(\"'start-\"+self.start+\"-0.0'\",1)\n",
    "        self.cqm.fix_variable(\"'\"+self.end+\"-end-0.0'\",1)\n",
    "       "
   ]
  },
  {
   "attachments": {},
   "cell_type": "markdown",
   "metadata": {},
   "source": [
    "First we initialize the class \"Ferry Area\". For this, the possible routes and the start and end port are transferred.\n",
    "Both the CSP and the CQM require constraints with variables to return a solution. Since we want to find out the shortest route, these are our variables, each encoded in binary. If a route is to be used, the variable has the value (1) and if not used, the value (0). Choosing the ports as variables makes less sense, as this can create ambiguity.\n",
    "\n",
    "If we want to tell the CQM or CSP which port is the departure or destination, we need to fix certain variables. Since we chose routes as variables, two more artificial routes are added during initiation. One route to the starting port with distance 0 and one away from the ending port. We can fix these variables later on."
   ]
  },
  {
   "cell_type": "code",
   "execution_count": null,
   "metadata": {},
   "outputs": [],
   "source": [
    "f=Ferryarea(start=departure,end=destination,routes=df_routes)"
   ]
  },
  {
   "attachments": {},
   "cell_type": "markdown",
   "metadata": {},
   "source": [
    "The constraints are now set below.\n",
    "\n",
    "For the CSP, two constraints ensure, that the problem is displayed correctly:\n",
    "1. All routes connected to one port have to sum up to 0 or 2. This ensures that every port that is entered is exited as well.\n",
    "2. The routes are one-way. This means it is possible to go from one port to another but not back the same way. With the first constraint is would be possible to take two routes where the port is listed in the \"from\" column. This means, it would be exited twice but never approached. Thus, another constraint is needed to ensure that ports are approached only once and existed only once. \n",
    "\n",
    "For the CQM we only need one constraint. In addition, we can already carry out preliminary work on the optimization function:\n",
    "1. The following must apply to each port: (The sum of all outgoing routes)-(The sum of all incoming routes) must be equal to 0. This ensures that there are always the same number of incoming and outgoing routes. So whether the port is approached (both 1) or not (both 0). Larger numbers can later be excluded by the optimization function, since otherwise the route would be longer.\n",
    "2. Since each port is already iterated over, we also build the optimization function. As a result we get the sum of all distances of the routes depending on their binary value. Given two routes with distance 12 and 15, we would have the following function: f=route1*12+route2*15 where route1 and route2 can take the value 0 or 1 depending on whether they are used.\n"
   ]
  },
  {
   "cell_type": "code",
   "execution_count": null,
   "metadata": {},
   "outputs": [],
   "source": [
    "f._apply_valid_routes_constraint()"
   ]
  },
  {
   "cell_type": "markdown",
   "metadata": {},
   "source": [
    "After all constraints are applied, start and end routes are fixed to 1. "
   ]
  },
  {
   "cell_type": "code",
   "execution_count": null,
   "metadata": {},
   "outputs": [],
   "source": [
    "f._set_start_and_end()"
   ]
  },
  {
   "cell_type": "markdown",
   "metadata": {},
   "source": [
    "In addition, the objective for the CQM is defined."
   ]
  },
  {
   "cell_type": "code",
   "execution_count": null,
   "metadata": {},
   "outputs": [],
   "source": [
    "f._set_CQM_objective()"
   ]
  },
  {
   "attachments": {},
   "cell_type": "markdown",
   "metadata": {},
   "source": [
    "Now the two defined models are called from the class"
   ]
  },
  {
   "cell_type": "code",
   "execution_count": null,
   "metadata": {},
   "outputs": [],
   "source": [
    "csp= f._get_csp()\n",
    "cqm=f._get_cqm()"
   ]
  },
  {
   "attachments": {},
   "cell_type": "markdown",
   "metadata": {},
   "source": [
    "While the CQM can be processed directly by the hybrid process, CSP must first be transformed into a BQM. In order to fit the Problem to the modell it is necessary to adjust the following parameters:\n",
    "- max_graph_size: This parameters limits the number of variables that can be included in one constraint. In this case, the number of connections to and from one port. The original d-wave function dwavebinarycsp.stitch uses the function np.unpackbits from the numpy library. This only unpacks arrays from the size of 8 bits. Thus, the function all_possible() and the dtype of the matrix A in the file generation.py have been modified. Now, up to 32 connections between variables can be entered. \n",
    "\n",
    "The following code also has a time limit because D'Wave's CSP function takes a long time depending on the amount of input. Processing stops after 5 minutes."
   ]
  },
  {
   "cell_type": "code",
   "execution_count": null,
   "metadata": {},
   "outputs": [],
   "source": [
    "def quit_function(fn_name):\n",
    "    sys.stderr.flush() \n",
    "    thread.interrupt_main()\n",
    "def exit_after(s):\n",
    "    def outer(fn):\n",
    "        def inner(*args, **kwargs):\n",
    "            timer = threading.Timer(s, quit_function, args=[fn.__name__])\n",
    "            timer.start()\n",
    "            try:\n",
    "                result = fn(*args, **kwargs)\n",
    "            finally:\n",
    "                timer.cancel()\n",
    "            return result\n",
    "        return inner\n",
    "    return outer\n",
    "\n",
    "\n",
    "def stich_function(inputCsp, graph_size):\n",
    "    timeout=False\n",
    "    bqm=None\n",
    "\n",
    "    @exit_after(120)\n",
    "    def runStich(csp, graph_size):\n",
    "        stitchReturn = dwavebinarycsp.stitch(csp,max_graph_size=graph_size)\n",
    "        return stitchReturn\n",
    "\n",
    "    try:\n",
    "        bqm = runStich(inputCsp,graph_size)\n",
    "    except KeyboardInterrupt:\n",
    "        timeout=True\n",
    "        print(\"Stich-Function runs too loo long\")\n",
    "    return timeout, bqm\n",
    "\n",
    "\n",
    "csp_stitchTimeout, bqm = stich_function(csp,12)\n",
    "    "
   ]
  },
  {
   "cell_type": "markdown",
   "metadata": {},
   "source": [
    "### Results BQM"
   ]
  },
  {
   "cell_type": "markdown",
   "metadata": {},
   "source": [
    "The BQM is created by the stitch() function provided by d-wave. However, the larger the input data gets the longer is takes for the stitch() function to built the BQM. Within the function a graph is built with all variables. Using the sample data, a graph of 9 nodes and 36 edges is created and the BQM can be built in approximately 42 seconds. For a graph with 10 nodes, approximiately 15 minutes are needed.\n",
    "In conclusion, it is not practical to use the BQM model for real world problems. "
   ]
  },
  {
   "cell_type": "markdown",
   "metadata": {},
   "source": [
    "So far, the model can find possible ways between two ports. In the following code, a penalty is added in order to penalize long distances. This way, the shortest route is selected. However, the number of stops is not taken into consideration. "
   ]
  },
  {
   "cell_type": "code",
   "execution_count": null,
   "metadata": {},
   "outputs": [],
   "source": [
    "def addPenalty(inputBqm, csp_stitchTimeout):\n",
    "    if not csp_stitchTimeout:\n",
    "        # Add Penalty\n",
    "        penalty=0.01\n",
    "        for v in inputBqm.variables:\n",
    "            # Ignore auxiliary variables\n",
    "            if isinstance(v, str) and re.match(r'^aux\\d+$', v):\n",
    "                continue\n",
    "            split_v = v.split('-')\n",
    "            inputBqm.add_variable(v, penalty*float(split_v[2]))\n",
    "    return inputBqm\n",
    "\n",
    "if not csp_stitchTimeout:\n",
    "    bqm=addPenalty(bqm,csp_stitchTimeout)"
   ]
  },
  {
   "attachments": {},
   "cell_type": "markdown",
   "metadata": {},
   "source": [
    "# Transfer to Quantum Sampler (Anna Ehrenberg, Nick Stuke)"
   ]
  },
  {
   "cell_type": "markdown",
   "metadata": {},
   "source": [
    "In this section, the before built models are tranferred to the quantum computer by using D-wave's Samplers."
   ]
  },
  {
   "cell_type": "markdown",
   "metadata": {},
   "source": [
    "## BQM-Sampling and Result-Selection (Anna Ehrenberg, Nick Stuke)"
   ]
  },
  {
   "cell_type": "markdown",
   "metadata": {},
   "source": [
    "The sampler for BQMs is assigned."
   ]
  },
  {
   "cell_type": "code",
   "execution_count": null,
   "metadata": {},
   "outputs": [],
   "source": [
    "# define Sampler\n",
    "sampler = EmbeddingComposite(DWaveSampler())"
   ]
  },
  {
   "attachments": {},
   "cell_type": "markdown",
   "metadata": {},
   "source": [
    "The sampler is called with the input BQM, number of reads and chain strengths. All results are saved with the produced energy. The result with the lowest energy is expected to be the best result. \n",
    "\n",
    "The \"num_reads\" and \"chain_strength\" parameters were set according to a standard.\n",
    "\n",
    "The \"Chain_strength\" must be fixed depending on the input value. A general guide is the highest absolute value. The chain strength should be set just above. The chain strength is there when the problem graph cannot be mapped onto the qubits of the quantum computer, so that two qubits then assume the same state due to the highest possible negative value and are therefore considered one qubit. This is how new connections can be created.\n",
    "\n",
    "With the \"num_reads\" the scattering of the energy histogram has to be looked at. If the energy values are close together, several processes have to be run through. Num_reads reflects the number of quantum annealing processes. The further apart different solutions with the energy level are, the easier it is for the quantum computer to assume the lowest energy state."
   ]
  },
  {
   "cell_type": "code",
   "execution_count": null,
   "metadata": {},
   "outputs": [],
   "source": [
    "def sample_bqm(inputBqm, sampler):\n",
    "    cpuTime_start=time.process_time() \n",
    "    result = sampler.sample(inputBqm,\n",
    "                        num_reads=100,\n",
    "                        chain_strength=3,\n",
    "                        label='ferrylines')\n",
    "    cpuTime_end=time.process_time()\n",
    "    cpuTime=cpuTime_end-cpuTime_start\n",
    "    return result, cpuTime\n",
    "calcTime_csp=0\n",
    "if not csp_stitchTimeout:\n",
    "    # run BQM on QPU\n",
    "    result,calcTime_csp = sample_bqm(bqm,sampler)"
   ]
  },
  {
   "attachments": {},
   "cell_type": "markdown",
   "metadata": {},
   "source": [
    "The results can be visualized online with the D-wave inspector. This is not saved in the notebook, but must be executed in order for this to be visible."
   ]
  },
  {
   "cell_type": "code",
   "execution_count": null,
   "metadata": {},
   "outputs": [],
   "source": [
    "if not csp_stitchTimeout:\n",
    "    # visualize result\n",
    "    dwave.inspector.show(result)"
   ]
  },
  {
   "cell_type": "markdown",
   "metadata": {},
   "source": [
    "The final result is displayed."
   ]
  },
  {
   "cell_type": "code",
   "execution_count": null,
   "metadata": {},
   "outputs": [],
   "source": [
    "if not csp_stitchTimeout:\n",
    "    print(result.first.sample)"
   ]
  },
  {
   "cell_type": "markdown",
   "metadata": {},
   "source": [
    "## CQM-Sampling and Result-Selection (Nick Stuke)\n",
    "\n",
    "\n"
   ]
  },
  {
   "attachments": {},
   "cell_type": "markdown",
   "metadata": {},
   "source": [
    "Now the CQM is running. Since it runs through the hybrid process at D'Wave, no further parameters need to be specified here. The following code only measures the processing time, how long the process takes."
   ]
  },
  {
   "cell_type": "code",
   "execution_count": null,
   "metadata": {},
   "outputs": [],
   "source": [
    "sampler_cqm = LeapHybridCQMSampler()\n",
    "def sample_cqm(cqm, sampler):\n",
    "    cpuTime_start=time.process_time() \n",
    "    sample_set=sampler_cqm.sample_cqm(cqm)\n",
    "    cpuTime_end=time.process_time()\n",
    "    cpuTime=cpuTime_end-cpuTime_start\n",
    "    return sample_set, cpuTime\n",
    "sample_set_cqm, calcTime_cqm=sample_cqm(cqm,sampler_cqm)"
   ]
  },
  {
   "attachments": {},
   "cell_type": "markdown",
   "metadata": {},
   "source": [
    "Then the best solution is found. If no valid solution can be found with the set constraints, an exception is thrown."
   ]
  },
  {
   "cell_type": "code",
   "execution_count": null,
   "metadata": {},
   "outputs": [],
   "source": [
    "n_samples = len(sample_set_cqm.record)\n",
    "feasible_samples = sample_set_cqm.filter(lambda d: d.is_feasible) \n",
    "best_feasible_cqm_solution=DWaveSampler.sample\n",
    "if not feasible_samples: \n",
    "    raise Exception(\"No feasible solution could be found for this problem instance.\")\n",
    "else:\n",
    "    best_feasible_cqm_solution = feasible_samples.first\n",
    "    print(best_feasible_cqm_solution)\n",
    "best_feasible_cqm_solution"
   ]
  },
  {
   "cell_type": "markdown",
   "metadata": {},
   "source": [
    "# Shortest Way with classical Computing (Nick Stuke)"
   ]
  },
  {
   "cell_type": "markdown",
   "metadata": {},
   "source": [
    "This Chapter show an algorithm on a classical computer with no quantum-computer ressources. A common algorithm for the given problem is the Dijkstra-Algorthm\\[1\\](vgl. S.1).\n",
    "As a Greedy-Algorithm Dijkstra processes each node once, so with more nodes, it needs more process-time.\n",
    "A* is a much faster algorithm but don't find always the optimal solution.\\[2\\](vgl. S.2)\n",
    "Since the quantum computer should have exactly the strengths of quickly finding global minima, the Dijkstra algorithm is used in this notebook, so that we have a correct result as a control."
   ]
  },
  {
   "cell_type": "markdown",
   "metadata": {},
   "source": [
    "## Define Graph\n",
    "First of all, we have to create a graph. Therefore we iterate over every port and add the routes away from it to the graph-note. The graph is stored as as dictonary."
   ]
  },
  {
   "cell_type": "code",
   "execution_count": null,
   "metadata": {},
   "outputs": [],
   "source": [
    "# define Graph with distances for every Point\n",
    "def defineGraph(ports,routes):\n",
    "    graph={}\n",
    "    for index,port in ports.iterrows():\n",
    "        port_routes=routes[routes['From']==port['From']]\n",
    "        distances={}\n",
    "        for i,r in port_routes.iterrows():\n",
    "            distances[r['To']] = r['Distance']\n",
    "        graph[port['From']] =distances\n",
    "    print(graph)\n",
    "    return graph\n",
    "graph=defineGraph(df_ports,df_routes_withoutStardEnd)\n"
   ]
  },
  {
   "attachments": {},
   "cell_type": "markdown",
   "metadata": {},
   "source": [
    "## Calculate shortest distance to start-port\n",
    "The code below contains the dijkstra alogrithm. For each port, it is checked how far the shortest distance to the starting port is and which port is next on the shortest way to the starting port. \n"
   ]
  },
  {
   "cell_type": "code",
   "execution_count": null,
   "metadata": {},
   "outputs": [],
   "source": [
    "def calcShortestDistances(depart,graph):\n",
    "    queue = [depart]\n",
    "    d = {node: {\"shortest distance\":float(\"inf\"), \"previous\":None} for node in graph}\n",
    "    d[depart][\"shortest distance\"] = 0\n",
    "    cpuTime_start=time.process_time() \n",
    "    while queue:\n",
    "        current = queue.pop(0)\n",
    "        shortest_distance = d[current][\"shortest distance\"]\n",
    "        for neighbour in graph[current]:\n",
    "\n",
    "            dist_to_neighbour = graph[current][neighbour]\n",
    "\n",
    "            if shortest_distance + dist_to_neighbour < d[neighbour][\"shortest distance\"]:\n",
    "\n",
    "                d[neighbour] = {\n",
    "                    \"shortest distance\": shortest_distance + dist_to_neighbour,\n",
    "                    \"previous\": current\n",
    "                }\n",
    "                queue.append(neighbour)\n",
    "    cpuTime_end=time.process_time()\n",
    "    cpuTime=cpuTime_end-cpuTime_start\n",
    "    pp = pprint.PrettyPrinter(indent=4)\n",
    "    pp.pprint(d)\n",
    "    print() \n",
    "    return d,cpuTime\n",
    "\n",
    "d, calcTime_dji=calcShortestDistances(departure,graph)"
   ]
  },
  {
   "cell_type": "markdown",
   "metadata": {},
   "source": [
    "## Create Path with shortest distances\n",
    "\n",
    "The previous code now determined the shortest route to the starting port for all ports. In the following, the route is now defined based on these determined values. \n",
    "Starting with the port of destination, the next port to the port of departure is determined. Every Port is packed in a list, which reflects the optimal route.\n"
   ]
  },
  {
   "cell_type": "code",
   "execution_count": null,
   "metadata": {},
   "outputs": [],
   "source": [
    "def buildPath(d,dest,depart):\n",
    "    current = dest\n",
    "    print('Destination: '+str(dest))\n",
    "    print('Departure: '+str(depart))\n",
    "    dji_path = [current]\n",
    "    distance_sum=0.0\n",
    "    while current != depart:\n",
    "        print(current)\n",
    "        current = d[current][\"previous\"]\n",
    "        dji_path.append(current)\n",
    "\n",
    "    dji_path = dji_path[::-1]\n",
    "    print('Distance: '+str(d[destination][\"shortest distance\"])+' Pfad: '+str(dji_path))\n",
    "    return dji_path\n",
    "\n",
    "dji_path=buildPath(d,destination,departure)"
   ]
  },
  {
   "cell_type": "markdown",
   "metadata": {},
   "source": [
    "# Result-Consideration (Nick Stuke)"
   ]
  },
  {
   "cell_type": "markdown",
   "metadata": {},
   "source": [
    "## Additional Result-Production\n",
    "\n",
    "In the code below, more results are produced to allow comparison of processing. A smaller amount of data is used for this. The aim is to identify possible changes in processing based on different amounts of data.\n",
    "The same code as before is used, so no further explanation is given."
   ]
  },
  {
   "cell_type": "code",
   "execution_count": null,
   "metadata": {},
   "outputs": [],
   "source": [
    "departure_sample=\"Bremerhaven\"\n",
    "destination_sample=\"Brunsbüttel\"\n",
    "f_sample=Ferryarea(start=departure_sample,end=destination_sample,routes=df_routes_sample)\n",
    "f_sample._apply_valid_routes_constraint()\n",
    "f_sample._set_start_and_end()\n",
    "f_sample._set_CQM_objective()\n",
    "csp_sample= f_sample._get_csp()\n",
    "cqm_sample=f_sample._get_cqm()\n",
    "csp_stitchTimeout_sample, bqm_sample = stich_function(csp_sample,10)\n",
    "if not csp_stitchTimeout_sample:\n",
    "\n",
    "    bqm_sample=addPenalty(bqm_sample,csp_stitchTimeout_sample)\n",
    "calcTime_csp_sample=0\n",
    "\n",
    "if not csp_stitchTimeout_sample:\n",
    "    # run BQM on QPU\n",
    "    result_sample,calcTime_csp_sample = sample_bqm(bqm_sample,sampler)\n",
    "sample_set_cqm_sample, calcTime_cqm_sample=sample_cqm(cqm_sample,sampler_cqm)\n",
    "n_samples_sample = len(sample_set_cqm_sample.record)\n",
    "feasible_samples_sample = sample_set_cqm_sample.filter(lambda d: d.is_feasible) \n",
    "best_feasible_cqm_solution_sample=DWaveSampler.sample\n",
    "if not feasible_samples_sample: \n",
    "    raise Exception(\"No feasible solution could be found for this problem instance.\")\n",
    "else:\n",
    "    best_feasible_cqm_solution_sample = feasible_samples_sample.first\n",
    "    print(best_feasible_cqm_solution_sample)\n",
    "graph_sample=defineGraph(df_ports_sample,df_routes_withoutStardEnd_sample)\n",
    "d_sample, calcTime_dji_sample=calcShortestDistances(departure_sample,graph_sample)\n",
    "dji_path_sample=buildPath(d_sample,destination_sample,departure_sample)\n"
   ]
  },
  {
   "cell_type": "markdown",
   "metadata": {},
   "source": [
    "## Result-Homogenization\n",
    "\n",
    "In the following area, a brief processing of the results is carried out. This is required for easier presentation and does not change or add any information."
   ]
  },
  {
   "cell_type": "code",
   "execution_count": null,
   "metadata": {},
   "outputs": [],
   "source": [
    "result_dji=dji_path\n",
    "result_dji_sample=dji_path_sample\n",
    "\n",
    "def buildSolutionPath(solutionSet,depart,desti):\n",
    "    result=[depart]\n",
    "    solution=[]\n",
    "    for s in solutionSet.sample:\n",
    "        if (solutionSet.sample[s]==float(1) and \n",
    "         s.find('end')==-1 and \n",
    "         s.find('start')==-1):\n",
    "            solution.append(s)\n",
    "    currentP=depart\n",
    "    while currentP!=desti:\n",
    "        for s in solution:\n",
    "            s=s.replace(\"'\",\"\").split('-')\n",
    "            if s[0].find(currentP)==0:\n",
    "                currentP=s[1]\n",
    "                result.append(s[1])\n",
    "                break\n",
    "    return result\n",
    "result_cqm=buildSolutionPath(best_feasible_cqm_solution,departure,destination)\n",
    "result_cqm_sample=buildSolutionPath(best_feasible_cqm_solution_sample,departure_sample,destination_sample)\n",
    "result_csp=['Timeout']\n",
    "if not csp_stitchTimeout:\n",
    "    result_csp=buildSolutionPath(result.first,departure,destination)\n",
    "result_csp_sample=['Timeout']\n",
    "if not csp_stitchTimeout_sample:\n",
    "    result_csp_sample=buildSolutionPath(result_sample.first,departure_sample,destination_sample)\n"
   ]
  },
  {
   "cell_type": "markdown",
   "metadata": {},
   "source": [
    "## Result-Summary\n",
    "\n",
    "In the following, the results are presented in the form of a route from the start to the end destination. Which algorithm each belongs to is included in the Python output.\n"
   ]
  },
  {
   "cell_type": "code",
   "execution_count": null,
   "metadata": {},
   "outputs": [],
   "source": [
    "print('Result-CQM: '+str(result_cqm))\n",
    "print('Result-CSP: '+str(result_csp))\n",
    "print('Result-Dijkstra: '+str(result_dji))\n",
    "print('Result-CQM_Sample: '+str(result_cqm_sample))\n",
    "print('Result-CSP_sample: '+str(result_csp_sample))\n",
    "print('Result-Dijkstra_Sample: '+str(result_dji_sample))\n"
   ]
  },
  {
   "cell_type": "markdown",
   "metadata": {},
   "source": [
    "The following code contains the required processing times in milliseconds for the different variants. The times only include the search for the solution. Times for problem formulation are not included."
   ]
  },
  {
   "cell_type": "code",
   "execution_count": null,
   "metadata": {},
   "outputs": [],
   "source": [
    "print('Process Time for CQM: '+str(calcTime_cqm))\n",
    "print('Process Time for CSP: '+str(calcTime_csp))\n",
    "print('Process Time for Dijkstra: '+str(calcTime_dji))\n",
    "print('Process Time for CQM-Sample: '+str(calcTime_cqm_sample))\n",
    "print('Process Time for CSP-Sample: '+str(calcTime_csp_sample))\n",
    "print('Process Time for Dijkstra-Sample: '+str(calcTime_dji_sample))\n"
   ]
  },
  {
   "attachments": {},
   "cell_type": "markdown",
   "metadata": {},
   "source": [
    "On a small set of data, all three algorithms were able to find the correct solution. Djikstra is considered a comparison here, since the solution is calculated individually and is therefore seen as correct. The processing times are not relevant because they are too short.\n",
    "\n",
    "The situation is different with a larger data set. With the CSP, the stitch function took too long and was therefore aborted. The reason for the long execution time has already been explained in the execution of the stitch-function. The other two algorithms were able to calculate the route with negligible time.In order to see a difference in time, a significantly larger data set would have to be read."
   ]
  },
  {
   "attachments": {},
   "cell_type": "markdown",
   "metadata": {},
   "source": [
    "# Conclusion (Nick Stuke)\n",
    "\n",
    "As can be seen, quantum computing can already be created with problems. With the small example of the ferry route optimization, the desired solution could be determined with the CQM model using quantum computing. A solution could also be found with the CSP for the small data set, but with the large data set you can see that it leads to scaling problems and runtimes that are too long. Thus, there is a barrier in creating the optimization function in the case of the CSP. More research would have to be done here in the direction of creating an optimization function.\n",
    "In order for the statement as to whether quantum computing can already be used in practice to be answered, one would also have to work with larger data and with exponentially scaling problems.\n",
    "\n",
    "So, yes, you can solve problems today with quantum computers. To what extent and what limitations there are still needs to be worked out further."
   ]
  },
  {
   "cell_type": "markdown",
   "metadata": {},
   "source": [
    "# Quellen"
   ]
  },
  {
   "attachments": {},
   "cell_type": "markdown",
   "metadata": {},
   "source": [
    "\\[1\\] Broumi, Said, Assia Bakal, Mohamed Talea, Florentin Smarandache, und Luige Vladareanu. „Applying Dijkstra algorithm for solving neutrosophic shortest path problem“. In 2016 International Conference on Advanced Mechatronic Systems (ICAMechS), 412–16. Melbourne, Australia: IEEE, 2016. https://doi.org/10.1109/ICAMechS.2016.7813483.\n",
    "\n",
    "\\[2\\] Candra, Ade, Mohammad Andri Budiman, und Kevin Hartanto. „Dijkstra’s and A-Star in Finding the Shortest Path: a Tutorial“. In 2020 International Conference on Data Science, Artificial Intelligence, and Business Analytics (DATABIA), 28–32. Medan, Indonesia: IEEE, 2020. https://doi.org/10.1109/DATABIA50434.2020.9190342.\n",
    "\n",
    "\\[3\\] „Welcome to D-Wave — D-Wave System Documentation documentation“. Zugegriffen 13. Januar 2023. https://docs.dwavesys.com/docs/latest/c_gs_1.html.\n"
   ]
  }
 ],
 "metadata": {
  "kernelspec": {
   "display_name": "Python 3",
   "language": "python",
   "name": "python3"
  },
  "language_info": {
   "codemirror_mode": {
    "name": "ipython",
    "version": 3
   },
   "file_extension": ".py",
   "mimetype": "text/x-python",
   "name": "python",
   "nbconvert_exporter": "python",
   "pygments_lexer": "ipython3",
   "version": "3.11.1"
  },
  "orig_nbformat": 4,
  "vscode": {
   "interpreter": {
    "hash": "0a34f7ed8db7ebda8d4f5117b4ff20fdd4f5bddea297d34df06b27db3d49dfe0"
   }
  }
 },
 "nbformat": 4,
 "nbformat_minor": 2
}
