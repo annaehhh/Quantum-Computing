{
 "cells": [
  {
   "cell_type": "markdown",
   "metadata": {},
   "source": [
    "# Introduction"
   ]
  },
  {
   "cell_type": "markdown",
   "metadata": {},
   "source": [
    "Copyright\n",
    "\n",
    "Distribution"
   ]
  },
  {
   "cell_type": "markdown",
   "metadata": {},
   "source": [
    "In order to use the code the following libraries must be installed:\n",
    "1. Pandas"
   ]
  },
  {
   "cell_type": "code",
   "execution_count": null,
   "metadata": {},
   "outputs": [],
   "source": [
    "import pandas as pd\n",
    "import numpy as np\n",
    "from dwave.system.samplers import DWaveSampler\n",
    "from dwave.system.composites import EmbeddingComposite\n",
    "import dwave.inspector\n",
    "import dwavebinarycsp\n"
   ]
  },
  {
   "cell_type": "markdown",
   "metadata": {},
   "source": [
    "# Input and Preprocessing"
   ]
  },
  {
   "cell_type": "markdown",
   "metadata": {},
   "source": [
    "In this section all data input is entered, validated and preprocessed in order to meet further requirements. "
   ]
  },
  {
   "cell_type": "markdown",
   "metadata": {},
   "source": [
    "### Input data file"
   ]
  },
  {
   "cell_type": "markdown",
   "metadata": {},
   "source": [
    "In this section the following input is proceeded:\n",
    "1. Input data file with information on ferry routes with\n",
    "    - From: route start port\n",
    "    - To: route end port\n",
    "    - Distance: shortest direct distance between departure and arrival port"
   ]
  },
  {
   "cell_type": "code",
   "execution_count": null,
   "metadata": {},
   "outputs": [],
   "source": [
    "df_ports = pd.read_csv(\"sample_data_harbours_utf8.csv\", sep = \";\")\n",
    "df_ports"
   ]
  },
  {
   "cell_type": "markdown",
   "metadata": {},
   "source": [
    "### Formatting of connection data"
   ]
  },
  {
   "cell_type": "markdown",
   "metadata": {},
   "source": [
    "In order to formulate the problem in a format accessible by the D-Wave libraries the matrix data is restructured to contain the information in an unstacked format. "
   ]
  },
  {
   "cell_type": "code",
   "execution_count": null,
   "metadata": {},
   "outputs": [],
   "source": [
    "# rename 'Column1' to 'From'\n",
    "df_ports=df_ports.rename(columns={'Column1':\"From\"})\n",
    "\n",
    "# transform end harbours in columns to rows\n",
    "df_routes= pd.melt(df_ports,id_vars=['From'],var_name=\"To\",value_name='Distance')\n",
    "\n",
    "# filter NaN-values\n",
    "df_routes=df_routes[df_routes[\"Distance\"].notnull()]\n",
    "\n",
    "# filter out 0.0 values\n",
    "df_routes=df_routes[df_routes.Distance != 0]\n",
    "\n",
    "#reset index\n",
    "df_routes=df_routes.reset_index(drop=True)\n",
    "df_routes_withoutStardEnd=df_routes\n",
    "df_routes"
   ]
  },
  {
   "cell_type": "markdown",
   "metadata": {},
   "source": [
    "### User input and validation of departure and destination harbour "
   ]
  },
  {
   "cell_type": "markdown",
   "metadata": {},
   "source": [
    "In this section the manual input is requested and validated by the following criteria:\n",
    "1. departure and destination harbour are part of the input \n",
    "\n",
    "If input is invalid, the according error message is displayed."
   ]
  },
  {
   "cell_type": "code",
   "execution_count": null,
   "metadata": {
    "tags": []
   },
   "outputs": [],
   "source": [
    "#Check whether the departure harbour is element of the input data\n",
    "while True:\n",
    "    #Entering departure harbour\n",
    "    departure=input(str(\"Please enter departure port:\"))\n",
    "    if not departure in df_routes['From'].values:\n",
    "        print(\"Entered port is not defined as a depature port in the input file. Please enter valid departure port.\")\n",
    "        continue\n",
    "    else:\n",
    "        break\n",
    "\n",
    "#Check whether the destination harbour is element of the input data\n",
    "while True:\n",
    "    #Entering destination harbour\n",
    "    destination=input(str(\"Please enter destination port:\"))\n",
    "    if not destination in df_routes['To'].values:\n",
    "        print(\"Entered port is not defined as a destination port in the input file. Please enter destination valid port.\")\n",
    "        continue\n",
    "    if destination == departure:\n",
    "        print(\"Entered destination port is equal to departure port. Please enter valid destination port.\")\n",
    "        continue\n",
    "    else:\n",
    "        #we're happy with the value given.\n",
    "        #we're ready to exit the loop.\n",
    "        break\n"
   ]
  },
  {
   "cell_type": "markdown",
   "metadata": {},
   "source": [
    "### Data enhancement of connection data"
   ]
  },
  {
   "cell_type": "markdown",
   "metadata": {},
   "source": [
    "A problem can be formulated in different ways in order to provide the quantum computer with it. In this example, the problem is formulated as a binary quadratic model (BQM) in the form of a QUBO. The mathematical phrase can be attained by a support class called Constraint Satisfaction Problem (CSP) or can directly be input. In this case, the problem will first be represented by a CSP. The CSP constitutes of \n",
    "1. all variables and \n",
    "2. constraints on the variables. \n",
    "\n",
    "As the variables in this example will represent the routes between two ports a set of support variables is needed in order to represent the entered departure and destination port. Therefor, artificial routes from \"start\" port to each real port and to \"end\" port from each real port are created in the following code. \n"
   ]
  },
  {
   "cell_type": "code",
   "execution_count": null,
   "metadata": {},
   "outputs": [],
   "source": [
    "df_starts = pd.DataFrame({'From':'start', 'To':df_routes['From'].unique(),'Distance':0})\n",
    "df_ends = pd.DataFrame({'From':df_routes['To'].unique(), 'To':'end','Distance':0})\n",
    "df_routes= pd.concat([df_starts,df_routes,df_ends])\n",
    "df_routes"
   ]
  },
  {
   "cell_type": "markdown",
   "metadata": {},
   "source": [
    "# Data Preparation for Quantum Computing (Definition of Classes)"
   ]
  },
  {
   "cell_type": "markdown",
   "metadata": {},
   "source": [
    "In this section, all methods are defined that are later used to\n",
    "1. create Contraint Satisfaction Problem (CSP)\n",
    "2. formulate Binary Quadratic Model (BQM) as QUBO. "
   ]
  },
  {
   "cell_type": "markdown",
   "metadata": {},
   "source": [
    "### Basic functions"
   ]
  },
  {
   "cell_type": "code",
   "execution_count": null,
   "metadata": {},
   "outputs": [],
   "source": [
    "def sum_to_two_or_zero(*args):\n",
    "        \"\"\"Checks to see if the args sum to either 0 or 2.\n",
    "        \"\"\"\n",
    "        sum_value = sum(args)\n",
    "        return sum_value in [0, 2]\n",
    "        \n",
    "def sum_smaller_equal_one(*args):\n",
    "        \"\"\"Checks to see if the args sum to either smaller or equal to 1.\n",
    "        \"\"\"\n",
    "        sum_value = sum(args)\n",
    "        return sum_value in [0, 1]\n",
    "\n",
    "def get_labels(dataframe):\n",
    "        \"\"\"Returns a list of labels from a Dataframe of the format of the input file\"\"\"\n",
    "        labels=(dataframe['From']+'-'+dataframe['To']+'-'+dataframe['Distance'].astype(str)).values.tolist()\n",
    "        return labels"
   ]
  },
  {
   "cell_type": "markdown",
   "metadata": {},
   "source": [
    "### Definition class Ferry"
   ]
  },
  {
   "cell_type": "code",
   "execution_count": null,
   "metadata": {},
   "outputs": [],
   "source": [
    "class Ferryarea:\n",
    "    def __init__(self,start,end,routes):\n",
    "        \"\"\" Initializes object of Type Ferryarea\"\"\"\n",
    "        #Instantiate\n",
    "        self.start=start\n",
    "        self.end=end\n",
    "        self.df_routes = routes#df_routes.values.tolist()\n",
    "        self.ports = pd.DataFrame({'ports':np.append(df_routes['To'].unique(),df_routes['From'].unique())}).drop_duplicates().values.tolist()\n",
    "        self.csp = dwavebinarycsp.ConstraintSatisfactionProblem(dwavebinarycsp.BINARY)\n",
    "        \n",
    "    def _get_csp(self):\n",
    "        return self.csp    \n",
    "    def _apply_valid_routes_constraint(self):\n",
    "        \"\"\"Creates constraints defining that every entered port has to be exited as well and that every port can only be entered and exited through one route.\"\"\"\n",
    "\n",
    "        for port in self.ports:\n",
    "            #assign to directions Dataframe a Dataframe containing only direction to and from the port\n",
    "            df_directions_from= self.df_routes[self.df_routes['From']==port[0]]\n",
    "            df_directions_to= self.df_routes[self.df_routes['To']==port[0]]\n",
    "            df_directions= pd.concat([df_directions_to,df_directions_from])\n",
    "            \n",
    "            #creates sets of labels as basis for constraint defintion\n",
    "            directions_all = set(get_labels(df_directions))\n",
    "            \n",
    "            #set((df_directions['From']+'-'+df_directions['To']+'-'+df_directions['Distance'].astype(str)).values.tolist())\n",
    "            directions_to= set(get_labels(df_directions_to))\n",
    "            #set((df_directions_to['From']+'-'+df_directions_to['To']+'-'+df_directions_to['Distance'].astype(str)).values.tolist())\n",
    "            directions_from= set(get_labels(df_directions_from))\n",
    "            #set((df_directions_from['From']+'-'+df_directions_from['To']+'-'+df_directions_from['Distance'].astype(str)).values.tolist())\n",
    "              \n",
    "            \n",
    "            #add constraint sum_to_two_or_zero\n",
    "            self.csp.add_constraint(sum_to_two_or_zero,directions_all)\n",
    "\n",
    "            #add constraint 'To' sum_to_zero_or_one\n",
    "            self.csp.add_constraint(sum_smaller_equal_one,directions_to)\n",
    "\n",
    "            #add constraint 'From' sum_to_zero_or_one\n",
    "            self.csp.add_constraint(sum_smaller_equal_one, directions_from)\n",
    "            \n",
    "        print(self.csp.constraints)\n",
    "    def _set_start_and_end(self):\n",
    "        \"\"\"Sets the values of the departure and destination port to 1 and all other start and end possibilities to 0\n",
    "        \"\"\" #all other possibilies do not have to be 0. However, this is expected to descrease calculation time\n",
    "\n",
    "        #select all start and end routes\n",
    "        df_routes_to_fix= pd.concat([self.df_routes[self.df_routes['From']=='start'],self.df_routes[self.df_routes['To']=='end']])\n",
    "        print(df_routes_to_fix)\n",
    "        count=0\n",
    "\n",
    "        for i in df_routes_to_fix.values:\n",
    "            \n",
    "            #print(\"type:\", type(df_routes_to_fix[count]))\n",
    "            print(\"label of:\", df_routes_to_fix.iloc[count])\n",
    "\n",
    "            label= get_labels(df_routes_to_fix.iloc[[count]])\n",
    "            print('Label:',label)\n",
    "            if (df_routes_to_fix['To'].iloc[count])==self.start:\n",
    "                #sets departure to 1\n",
    "                self.csp.fix_variable(label[0],1)\n",
    "            elif (df_routes_to_fix['From'].iloc[count])==self.end:\n",
    "                #sets destination to 1\n",
    "                self.csp.fix_variable(label[0],1)\n",
    "            else:\n",
    "                #sets departure and destination to 0\n",
    "                self.csp.fix_variable(label[0],0)\n",
    "            count=count+1\n",
    "        #set start\n",
    "            #self.csp.fix_variable('start-'+self.start+'-0.0',1)\n",
    "\n",
    "        #set end\n",
    "            #self.csp.fix_variable(self.end+'-end-0.0',1)\n",
    "\n",
    "        #set all other starts and ends to 0\n",
    "       \n"
   ]
  },
  {
   "cell_type": "markdown",
   "metadata": {},
   "source": [
    "### Initialization of Ferryarea"
   ]
  },
  {
   "cell_type": "code",
   "execution_count": null,
   "metadata": {},
   "outputs": [],
   "source": [
    "f=Ferryarea(start=departure,end=destination,routes=df_routes)\n",
    "f._apply_valid_routes_constraint()\n",
    "f._set_start_and_end()\n",
    "csp= f._get_csp()"
   ]
  },
  {
   "cell_type": "markdown",
   "metadata": {},
   "source": [
    "# Creation of BQM and Transfer to Quantum Sampler"
   ]
  },
  {
   "cell_type": "code",
   "execution_count": null,
   "metadata": {},
   "outputs": [],
   "source": [
    "# Create BQM\n",
    "bqm = dwavebinarycsp.stitch(csp)"
   ]
  },
  {
   "cell_type": "code",
   "execution_count": null,
   "metadata": {},
   "outputs": [],
   "source": [
    "# Add Penalty\n",
    "penalty=0.01\n",
    "for v in bqm.variables:\n",
    "    split_v = v.split(‘-’)\n",
    "    bqm.add_variable(v, (penalty*split_v[2]))\n"
   ]
  },
  {
   "cell_type": "code",
   "execution_count": null,
   "metadata": {},
   "outputs": [],
   "source": [
    "# define Sampler\n",
    "sampler = EmbeddingComposite(DWaveSampler())\n"
   ]
  },
  {
   "cell_type": "code",
   "execution_count": null,
   "metadata": {},
   "outputs": [],
   "source": [
    "# run BQM on QPU\n",
    "result = sampler.sample(bqm,\n",
    "                        num_reads=100,\n",
    "                        chain_strength=1,\n",
    "                        label='ferrylines')"
   ]
  },
  {
   "cell_type": "code",
   "execution_count": null,
   "metadata": {},
   "outputs": [],
   "source": [
    "# visualize result\n",
    "print(result.first.sample)"
   ]
  },
  {
   "source": [
    "# Shortest Way with Dijkstra-Algorithm"
   ],
   "cell_type": "markdown",
   "metadata": {}
  },
  {
   "source": [
    "Dijkstra Algorithm"
   ],
   "cell_type": "markdown",
   "metadata": {}
  },
  {
   "cell_type": "code",
   "execution_count": null,
   "metadata": {},
   "outputs": [],
   "source": [
    "# define Graph with distances for every Point\n",
    "graph={}\n",
    "for index,port in df_ports.iterrows():\n",
    "    routes=df_routes_withoutStardEnd[df_routes_withoutStardEnd['From']==port['From']]\n",
    "    distances={}\n",
    "    for i,r in routes.iterrows():\n",
    "        distances[r['To']] = r['Distance']\n",
    "    graph[port['From']] =distances\n",
    "print(graph)\n"
   ]
  },
  {
   "cell_type": "code",
   "execution_count": null,
   "metadata": {},
   "outputs": [],
   "source": [
    "import pprint\n",
    "pp = pprint.PrettyPrinter(indent=4)"
   ]
  },
  {
   "cell_type": "code",
   "execution_count": null,
   "metadata": {},
   "outputs": [],
   "source": [
    "queue = [depature]\n",
    "d = {node: {\"shortest distance\":float(\"inf\"), \"previous\":None} for node in graph}\n",
    "d[depature][\"shortest distance\"] = 0\n",
    "while queue:\n",
    "    current = queue.pop(0)\n",
    "    shortest_distance = d[current][\"shortest distance\"]\n",
    "    for neighbour in graph[current]:\n",
    "\n",
    "        dist_to_neighbour = graph[current][neighbour]\n",
    "\n",
    "        if shortest_distance + dist_to_neighbour < d[neighbour][\"shortest distance\"]:\n",
    "\n",
    "            d[neighbour] = {\n",
    "                \"shortest distance\": shortest_distance + dist_to_neighbour,\n",
    "                \"previous\": current\n",
    "            }\n",
    "            queue.append(neighbour)\n",
    "print(d)\n",
    "pp.pprint(d)\n",
    "print()"
   ]
  },
  {
   "cell_type": "code",
   "execution_count": null,
   "metadata": {},
   "outputs": [],
   "source": [
    "current = destination\n",
    "path = [current]\n",
    "distance_sum=0.0\n",
    "while current != depature:\n",
    "    current = d[current][\"previous\"]\n",
    "    path.append(current)\n",
    "\n",
    "path = path[::-1]\n",
    "print('Distance: '+str(d[destination][\"shortest distance\"])+' Pfad: '+str(path))"
   ]
  },
  {
   "cell_type": "code",
   "execution_count": null,
   "metadata": {},
   "outputs": [],
   "source": []
  }
 ],
 "metadata": {
  "kernelspec": {
   "name": "python3",
   "display_name": "Python 3.9.15 64-bit"
  },
  "language_info": {
   "codemirror_mode": {
    "name": "ipython",
    "version": 3
   },
   "file_extension": ".py",
   "mimetype": "text/x-python",
   "name": "python",
   "nbconvert_exporter": "python",
   "pygments_lexer": "ipython3",
   "version": "3.9.15"
  },
  "orig_nbformat": 4,
  "vscode": {
   "interpreter": {
    "hash": "1a67aca957aef3b8ba77a329b2e49205fd6e483562b4cf13d66942f6b2ebf41c"
   }
  },
  "interpreter": {
   "hash": "4cd7ab41f5fca4b9b44701077e38c5ffd31fe66a6cab21e0214b68d958d0e462"
  }
 },
 "nbformat": 4,
 "nbformat_minor": 2
}