{
 "cells": [
  {
   "cell_type": "markdown",
   "metadata": {},
   "source": [
    "# Introduction"
   ]
  },
  {
   "cell_type": "markdown",
   "metadata": {},
   "source": [
    "Copyright\n",
    "\n",
    "Distribution"
   ]
  },
  {
   "cell_type": "markdown",
   "metadata": {},
   "source": [
    "In order to use the code the following libraries must be installed:\n",
    "1. Pandas"
   ]
  },
  {
   "cell_type": "code",
   "execution_count": 1,
   "metadata": {},
   "outputs": [],
   "source": [
    "import pandas as pd"
   ]
  },
  {
   "cell_type": "markdown",
   "metadata": {},
   "source": [
    "# Input"
   ]
  },
  {
   "cell_type": "markdown",
   "metadata": {},
   "source": [
    "In this section the following inputs are proceeded:\n",
    "1. Input data file with information on ferry connections with\n",
    "    - From: connection start harbour\n",
    "    - To: connection end harbour\n",
    "    - Distance: shortest direct distance between departure and arrival harbours"
   ]
  },
  {
   "cell_type": "code",
   "execution_count": 3,
   "metadata": {},
   "outputs": [],
   "source": [
    "df_harbours = pd.read_csv(\"data_harbours_utf8.csv\", sep = \";\")"
   ]
  },
  {
   "cell_type": "markdown",
   "metadata": {},
   "source": [
    "2. Manual terminal input and validation of \n",
    "    - Departure: overall itinerary departure ferry harbour \n",
    "    - Destination: overall itinerary arrival ferry harbour"
   ]
  },
  {
   "cell_type": "code",
   "execution_count": null,
   "metadata": {},
   "outputs": [],
   "source": [
    "#Entering departure and arrival harbour\n",
    "departure=  input(str(\"Please enter start harbour:\"))\n",
    "destination= input(str(\"Please enter destination harbour:\"))\n",
    "\n",
    "#Validating whether the entered harbours exist in the input file\n"
   ]
  },
  {
   "cell_type": "markdown",
   "metadata": {},
   "source": [
    "# Preprocessing"
   ]
  },
  {
   "cell_type": "markdown",
   "metadata": {},
   "source": [
    "In order to formulate the problem in a format accessible by the D-Wave libraries the matrix data is restructured to contain the information in an unstacked format. "
   ]
  },
  {
   "cell_type": "code",
   "execution_count": 5,
   "metadata": {},
   "outputs": [
    {
     "data": {
      "text/html": [
       "<div>\n",
       "<style scoped>\n",
       "    .dataframe tbody tr th:only-of-type {\n",
       "        vertical-align: middle;\n",
       "    }\n",
       "\n",
       "    .dataframe tbody tr th {\n",
       "        vertical-align: top;\n",
       "    }\n",
       "\n",
       "    .dataframe thead th {\n",
       "        text-align: right;\n",
       "    }\n",
       "</style>\n",
       "<table border=\"1\" class=\"dataframe\">\n",
       "  <thead>\n",
       "    <tr style=\"text-align: right;\">\n",
       "      <th></th>\n",
       "      <th>From</th>\n",
       "      <th>To</th>\n",
       "      <th>Distance</th>\n",
       "    </tr>\n",
       "  </thead>\n",
       "  <tbody>\n",
       "    <tr>\n",
       "      <th>0</th>\n",
       "      <td>Brunsbüttel</td>\n",
       "      <td>Bremerhaven</td>\n",
       "      <td>81.0</td>\n",
       "    </tr>\n",
       "    <tr>\n",
       "      <th>1</th>\n",
       "      <td>Emden</td>\n",
       "      <td>Bremerhaven</td>\n",
       "      <td>137.0</td>\n",
       "    </tr>\n",
       "    <tr>\n",
       "      <th>2</th>\n",
       "      <td>Hamburg</td>\n",
       "      <td>Bremerhaven</td>\n",
       "      <td>117.0</td>\n",
       "    </tr>\n",
       "    <tr>\n",
       "      <th>3</th>\n",
       "      <td>Kiel</td>\n",
       "      <td>Bremerhaven</td>\n",
       "      <td>135.0</td>\n",
       "    </tr>\n",
       "    <tr>\n",
       "      <th>4</th>\n",
       "      <td>Wismar</td>\n",
       "      <td>Bremerhaven</td>\n",
       "      <td>585.0</td>\n",
       "    </tr>\n",
       "    <tr>\n",
       "      <th>...</th>\n",
       "      <td>...</td>\n",
       "      <td>...</td>\n",
       "      <td>...</td>\n",
       "    </tr>\n",
       "    <tr>\n",
       "      <th>78</th>\n",
       "      <td>Hamburg</td>\n",
       "      <td>Immingham</td>\n",
       "      <td>376.0</td>\n",
       "    </tr>\n",
       "    <tr>\n",
       "      <th>79</th>\n",
       "      <td>Hamburg</td>\n",
       "      <td>London</td>\n",
       "      <td>428.0</td>\n",
       "    </tr>\n",
       "    <tr>\n",
       "      <th>80</th>\n",
       "      <td>Aberdeen</td>\n",
       "      <td>London</td>\n",
       "      <td>431.0</td>\n",
       "    </tr>\n",
       "    <tr>\n",
       "      <th>81</th>\n",
       "      <td>Rotterdam</td>\n",
       "      <td>Calais</td>\n",
       "      <td>129.0</td>\n",
       "    </tr>\n",
       "    <tr>\n",
       "      <th>82</th>\n",
       "      <td>Calais</td>\n",
       "      <td>Le Havre</td>\n",
       "      <td>119.0</td>\n",
       "    </tr>\n",
       "  </tbody>\n",
       "</table>\n",
       "<p>83 rows × 3 columns</p>\n",
       "</div>"
      ],
      "text/plain": [
       "           From           To  Distance\n",
       "0   Brunsbüttel  Bremerhaven      81.0\n",
       "1         Emden  Bremerhaven     137.0\n",
       "2       Hamburg  Bremerhaven     117.0\n",
       "3          Kiel  Bremerhaven     135.0\n",
       "4        Wismar  Bremerhaven     585.0\n",
       "..          ...          ...       ...\n",
       "78      Hamburg    Immingham     376.0\n",
       "79      Hamburg       London     428.0\n",
       "80     Aberdeen       London     431.0\n",
       "81    Rotterdam       Calais     129.0\n",
       "82       Calais     Le Havre     119.0\n",
       "\n",
       "[83 rows x 3 columns]"
      ]
     },
     "execution_count": 5,
     "metadata": {},
     "output_type": "execute_result"
    }
   ],
   "source": [
    "# rename 'Column1' to 'From'\n",
    "df_harbours=df_harbours.rename(columns={'Column1':\"From\"})\n",
    "\n",
    "# transform end harbours in columns to rows\n",
    "df_connections= pd.melt(df_harbours,id_vars=['From'],var_name=\"To\",value_name='Distance')\n",
    "\n",
    "# filter NaN-values\n",
    "df_connections=df_connections[df_connections[\"Distance\"].notnull()]\n",
    "\n",
    "# filter out 0.0 values\n",
    "df_connections=df_connections[df_connections.Distance != 0]\n",
    "\n",
    "#reset index\n",
    "df_connections=df_connections.reset_index(drop=True)\n",
    "df_connections"
   ]
  },
  {
   "cell_type": "markdown",
   "metadata": {},
   "source": [
    "# Input validation\n"
   ]
  },
  {
   "cell_type": "markdown",
   "metadata": {},
   "source": [
    "In this section the manual input is validated by the following criteria:\n",
    "1. departure and destination harbour are part of the input "
   ]
  }
 ],
 "metadata": {
  "kernelspec": {
   "display_name": "Python 3.10.1 ('venv': venv)",
   "language": "python",
   "name": "python3"
  },
  "language_info": {
   "codemirror_mode": {
    "name": "ipython",
    "version": 3
   },
   "file_extension": ".py",
   "mimetype": "text/x-python",
   "name": "python",
   "nbconvert_exporter": "python",
   "pygments_lexer": "ipython3",
   "version": "3.10.1"
  },
  "orig_nbformat": 4,
  "vscode": {
   "interpreter": {
    "hash": "1a67aca957aef3b8ba77a329b2e49205fd6e483562b4cf13d66942f6b2ebf41c"
   }
  }
 },
 "nbformat": 4,
 "nbformat_minor": 2
}
