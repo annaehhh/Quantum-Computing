{
 "cells": [
  {
   "cell_type": "markdown",
   "metadata": {},
   "source": [
    "# Introduction"
   ]
  },
  {
   "cell_type": "markdown",
   "metadata": {},
   "source": [
    "Copyright\n",
    "\n",
    "Distribution"
   ]
  },
  {
   "cell_type": "markdown",
   "metadata": {},
   "source": [
    "In order to use the code the following libraries must be installed:\n",
    "1. Pandas"
   ]
  },
  {
   "cell_type": "code",
   "execution_count": 235,
   "metadata": {},
   "outputs": [],
   "source": [
    "import pandas as pd\n",
    "import numpy as np\n",
    "from dwave.system.samplers import DWaveSampler\n",
    "from dwave.system.composites import EmbeddingComposite\n",
    "import dwave.inspector\n",
    "import dwavebinarycsp\n"
   ]
  },
  {
   "cell_type": "markdown",
   "metadata": {},
   "source": [
    "# Input and Preprocessing"
   ]
  },
  {
   "cell_type": "markdown",
   "metadata": {},
   "source": [
    "In this section all data input is entered, validated and preprocessed in order to meet further requirements. "
   ]
  },
  {
   "cell_type": "markdown",
   "metadata": {},
   "source": [
    "### Input data file"
   ]
  },
  {
   "cell_type": "markdown",
   "metadata": {},
   "source": [
    "In this section the following input is proceeded:\n",
    "1. Input data file with information on ferry routes with\n",
    "    - From: route start port\n",
    "    - To: route end port\n",
    "    - Distance: shortest direct distance between departure and arrival port"
   ]
  },
  {
   "cell_type": "code",
   "execution_count": 236,
   "metadata": {},
   "outputs": [
    {
     "data": {
      "text/html": [
       "<div>\n",
       "<style scoped>\n",
       "    .dataframe tbody tr th:only-of-type {\n",
       "        vertical-align: middle;\n",
       "    }\n",
       "\n",
       "    .dataframe tbody tr th {\n",
       "        vertical-align: top;\n",
       "    }\n",
       "\n",
       "    .dataframe thead th {\n",
       "        text-align: right;\n",
       "    }\n",
       "</style>\n",
       "<table border=\"1\" class=\"dataframe\">\n",
       "  <thead>\n",
       "    <tr style=\"text-align: right;\">\n",
       "      <th></th>\n",
       "      <th>Column1</th>\n",
       "      <th>Bremerhaven</th>\n",
       "      <th>Brunsbüttel</th>\n",
       "      <th>Emden</th>\n",
       "      <th>Hamburg</th>\n",
       "      <th>Kiel</th>\n",
       "    </tr>\n",
       "  </thead>\n",
       "  <tbody>\n",
       "    <tr>\n",
       "      <th>0</th>\n",
       "      <td>Bremerhaven</td>\n",
       "      <td>0</td>\n",
       "      <td>NaN</td>\n",
       "      <td>137.0</td>\n",
       "      <td>NaN</td>\n",
       "      <td>135.0</td>\n",
       "    </tr>\n",
       "    <tr>\n",
       "      <th>1</th>\n",
       "      <td>Brunsbüttel</td>\n",
       "      <td>81</td>\n",
       "      <td>0.0</td>\n",
       "      <td>NaN</td>\n",
       "      <td>36.0</td>\n",
       "      <td>54.0</td>\n",
       "    </tr>\n",
       "    <tr>\n",
       "      <th>2</th>\n",
       "      <td>Emden</td>\n",
       "      <td>137</td>\n",
       "      <td>NaN</td>\n",
       "      <td>0.0</td>\n",
       "      <td>NaN</td>\n",
       "      <td>NaN</td>\n",
       "    </tr>\n",
       "    <tr>\n",
       "      <th>3</th>\n",
       "      <td>Hamburg</td>\n",
       "      <td>117</td>\n",
       "      <td>36.0</td>\n",
       "      <td>NaN</td>\n",
       "      <td>0.0</td>\n",
       "      <td>90.0</td>\n",
       "    </tr>\n",
       "    <tr>\n",
       "      <th>4</th>\n",
       "      <td>Kiel</td>\n",
       "      <td>135</td>\n",
       "      <td>NaN</td>\n",
       "      <td>NaN</td>\n",
       "      <td>NaN</td>\n",
       "      <td>0.0</td>\n",
       "    </tr>\n",
       "  </tbody>\n",
       "</table>\n",
       "</div>"
      ],
      "text/plain": [
       "       Column1  Bremerhaven  Brunsbüttel  Emden  Hamburg   Kiel\n",
       "0  Bremerhaven            0          NaN  137.0      NaN  135.0\n",
       "1  Brunsbüttel           81          0.0    NaN     36.0   54.0\n",
       "2        Emden          137          NaN    0.0      NaN    NaN\n",
       "3      Hamburg          117         36.0    NaN      0.0   90.0\n",
       "4         Kiel          135          NaN    NaN      NaN    0.0"
      ]
     },
     "execution_count": 236,
     "metadata": {},
     "output_type": "execute_result"
    }
   ],
   "source": [
    "df_ports = pd.read_csv(\"sample_data_harbours_utf8.csv\", sep = \";\")\n",
    "df_ports"
   ]
  },
  {
   "cell_type": "markdown",
   "metadata": {},
   "source": [
    "### Formatting of connection data"
   ]
  },
  {
   "cell_type": "markdown",
   "metadata": {},
   "source": [
    "In order to formulate the problem in a format accessible by the D-Wave libraries the matrix data is restructured to contain the information in an unstacked format. "
   ]
  },
  {
   "cell_type": "code",
   "execution_count": 237,
   "metadata": {},
   "outputs": [
    {
     "data": {
      "text/html": [
       "<div>\n",
       "<style scoped>\n",
       "    .dataframe tbody tr th:only-of-type {\n",
       "        vertical-align: middle;\n",
       "    }\n",
       "\n",
       "    .dataframe tbody tr th {\n",
       "        vertical-align: top;\n",
       "    }\n",
       "\n",
       "    .dataframe thead th {\n",
       "        text-align: right;\n",
       "    }\n",
       "</style>\n",
       "<table border=\"1\" class=\"dataframe\">\n",
       "  <thead>\n",
       "    <tr style=\"text-align: right;\">\n",
       "      <th></th>\n",
       "      <th>From</th>\n",
       "      <th>To</th>\n",
       "      <th>Distance</th>\n",
       "    </tr>\n",
       "  </thead>\n",
       "  <tbody>\n",
       "    <tr>\n",
       "      <th>0</th>\n",
       "      <td>Brunsbüttel</td>\n",
       "      <td>Bremerhaven</td>\n",
       "      <td>81.0</td>\n",
       "    </tr>\n",
       "    <tr>\n",
       "      <th>1</th>\n",
       "      <td>Emden</td>\n",
       "      <td>Bremerhaven</td>\n",
       "      <td>137.0</td>\n",
       "    </tr>\n",
       "    <tr>\n",
       "      <th>2</th>\n",
       "      <td>Hamburg</td>\n",
       "      <td>Bremerhaven</td>\n",
       "      <td>117.0</td>\n",
       "    </tr>\n",
       "    <tr>\n",
       "      <th>3</th>\n",
       "      <td>Kiel</td>\n",
       "      <td>Bremerhaven</td>\n",
       "      <td>135.0</td>\n",
       "    </tr>\n",
       "    <tr>\n",
       "      <th>4</th>\n",
       "      <td>Hamburg</td>\n",
       "      <td>Brunsbüttel</td>\n",
       "      <td>36.0</td>\n",
       "    </tr>\n",
       "    <tr>\n",
       "      <th>5</th>\n",
       "      <td>Bremerhaven</td>\n",
       "      <td>Emden</td>\n",
       "      <td>137.0</td>\n",
       "    </tr>\n",
       "    <tr>\n",
       "      <th>6</th>\n",
       "      <td>Brunsbüttel</td>\n",
       "      <td>Hamburg</td>\n",
       "      <td>36.0</td>\n",
       "    </tr>\n",
       "    <tr>\n",
       "      <th>7</th>\n",
       "      <td>Bremerhaven</td>\n",
       "      <td>Kiel</td>\n",
       "      <td>135.0</td>\n",
       "    </tr>\n",
       "    <tr>\n",
       "      <th>8</th>\n",
       "      <td>Brunsbüttel</td>\n",
       "      <td>Kiel</td>\n",
       "      <td>54.0</td>\n",
       "    </tr>\n",
       "    <tr>\n",
       "      <th>9</th>\n",
       "      <td>Hamburg</td>\n",
       "      <td>Kiel</td>\n",
       "      <td>90.0</td>\n",
       "    </tr>\n",
       "  </tbody>\n",
       "</table>\n",
       "</div>"
      ],
      "text/plain": [
       "          From           To  Distance\n",
       "0  Brunsbüttel  Bremerhaven      81.0\n",
       "1        Emden  Bremerhaven     137.0\n",
       "2      Hamburg  Bremerhaven     117.0\n",
       "3         Kiel  Bremerhaven     135.0\n",
       "4      Hamburg  Brunsbüttel      36.0\n",
       "5  Bremerhaven        Emden     137.0\n",
       "6  Brunsbüttel      Hamburg      36.0\n",
       "7  Bremerhaven         Kiel     135.0\n",
       "8  Brunsbüttel         Kiel      54.0\n",
       "9      Hamburg         Kiel      90.0"
      ]
     },
     "execution_count": 237,
     "metadata": {},
     "output_type": "execute_result"
    }
   ],
   "source": [
    "# rename 'Column1' to 'From'\n",
    "df_ports=df_ports.rename(columns={'Column1':\"From\"})\n",
    "\n",
    "# transform end harbours in columns to rows\n",
    "df_routes= pd.melt(df_ports,id_vars=['From'],var_name=\"To\",value_name='Distance')\n",
    "\n",
    "# filter NaN-values\n",
    "df_routes=df_routes[df_routes[\"Distance\"].notnull()]\n",
    "\n",
    "# filter out 0.0 values\n",
    "df_routes=df_routes[df_routes.Distance != 0]\n",
    "\n",
    "#reset index\n",
    "df_routes=df_routes.reset_index(drop=True)\n",
    "df_routes"
   ]
  },
  {
   "cell_type": "markdown",
   "metadata": {},
   "source": [
    "### User input and validation of departure and destination harbour "
   ]
  },
  {
   "cell_type": "markdown",
   "metadata": {},
   "source": [
    "In this section the manual input is requested and validated by the following criteria:\n",
    "1. departure and destination harbour are part of the input \n",
    "\n",
    "If input is invalid, the according error message is displayed."
   ]
  },
  {
   "cell_type": "code",
   "execution_count": 238,
   "metadata": {},
   "outputs": [],
   "source": [
    "#Check whether the departure harbour is element of the input data\n",
    "while True:\n",
    "    #Entering departure harbour\n",
    "    departure=input(str(\"Please enter departure port:\"))\n",
    "    if not departure in df_routes['From'].values:\n",
    "        print(\"Entered port is not defined as a depature port in the input file. Please enter valid departure port.\")\n",
    "        continue\n",
    "    else:\n",
    "        break\n",
    "\n",
    "#Check whether the destination harbour is element of the input data\n",
    "while True:\n",
    "    #Entering destination harbour\n",
    "    destination=input(str(\"Please enter destination port:\"))\n",
    "    if not destination in df_routes['To'].values:\n",
    "        print(\"Entered port is not defined as a destination port in the input file. Please enter destination valid port.\")\n",
    "        continue\n",
    "    if destination == departure:\n",
    "        print(\"Entered destination port is equal to departure port. Please enter valid destination port.\")\n",
    "        continue\n",
    "    else:\n",
    "        #we're happy with the value given.\n",
    "        #we're ready to exit the loop.\n",
    "        break\n"
   ]
  },
  {
   "cell_type": "markdown",
   "metadata": {},
   "source": [
    "### Data enhancement of connection data"
   ]
  },
  {
   "cell_type": "markdown",
   "metadata": {},
   "source": [
    "A problem can be formulated in different ways in order to provide the quantum computer with it. In this example, the problem is formulated as a binary quadratic model (BQM) in the form of a QUBO. The mathematical phrase can be attained by a support class called Constraint Satisfaction Problem (CSP) or can directly be input. In this case, the problem will first be represented by a CSP. The CSP constitutes of \n",
    "1. all variables and \n",
    "2. constraints on the variables. \n",
    "\n",
    "As the variables in this example will represent the routes between two ports a set of support variables is needed in order to represent the entered departure and destination port. Therefor, artificial routes from \"start\" port to each real port and to \"end\" port from each real port are created in the following code. \n"
   ]
  },
  {
   "cell_type": "code",
   "execution_count": 239,
   "metadata": {},
   "outputs": [
    {
     "data": {
      "text/html": [
       "<div>\n",
       "<style scoped>\n",
       "    .dataframe tbody tr th:only-of-type {\n",
       "        vertical-align: middle;\n",
       "    }\n",
       "\n",
       "    .dataframe tbody tr th {\n",
       "        vertical-align: top;\n",
       "    }\n",
       "\n",
       "    .dataframe thead th {\n",
       "        text-align: right;\n",
       "    }\n",
       "</style>\n",
       "<table border=\"1\" class=\"dataframe\">\n",
       "  <thead>\n",
       "    <tr style=\"text-align: right;\">\n",
       "      <th></th>\n",
       "      <th>From</th>\n",
       "      <th>To</th>\n",
       "      <th>Distance</th>\n",
       "    </tr>\n",
       "  </thead>\n",
       "  <tbody>\n",
       "    <tr>\n",
       "      <th>0</th>\n",
       "      <td>start</td>\n",
       "      <td>Brunsbüttel</td>\n",
       "      <td>0.0</td>\n",
       "    </tr>\n",
       "    <tr>\n",
       "      <th>1</th>\n",
       "      <td>start</td>\n",
       "      <td>Emden</td>\n",
       "      <td>0.0</td>\n",
       "    </tr>\n",
       "    <tr>\n",
       "      <th>2</th>\n",
       "      <td>start</td>\n",
       "      <td>Hamburg</td>\n",
       "      <td>0.0</td>\n",
       "    </tr>\n",
       "    <tr>\n",
       "      <th>3</th>\n",
       "      <td>start</td>\n",
       "      <td>Kiel</td>\n",
       "      <td>0.0</td>\n",
       "    </tr>\n",
       "    <tr>\n",
       "      <th>4</th>\n",
       "      <td>start</td>\n",
       "      <td>Bremerhaven</td>\n",
       "      <td>0.0</td>\n",
       "    </tr>\n",
       "    <tr>\n",
       "      <th>0</th>\n",
       "      <td>Brunsbüttel</td>\n",
       "      <td>Bremerhaven</td>\n",
       "      <td>81.0</td>\n",
       "    </tr>\n",
       "    <tr>\n",
       "      <th>1</th>\n",
       "      <td>Emden</td>\n",
       "      <td>Bremerhaven</td>\n",
       "      <td>137.0</td>\n",
       "    </tr>\n",
       "    <tr>\n",
       "      <th>2</th>\n",
       "      <td>Hamburg</td>\n",
       "      <td>Bremerhaven</td>\n",
       "      <td>117.0</td>\n",
       "    </tr>\n",
       "    <tr>\n",
       "      <th>3</th>\n",
       "      <td>Kiel</td>\n",
       "      <td>Bremerhaven</td>\n",
       "      <td>135.0</td>\n",
       "    </tr>\n",
       "    <tr>\n",
       "      <th>4</th>\n",
       "      <td>Hamburg</td>\n",
       "      <td>Brunsbüttel</td>\n",
       "      <td>36.0</td>\n",
       "    </tr>\n",
       "    <tr>\n",
       "      <th>5</th>\n",
       "      <td>Bremerhaven</td>\n",
       "      <td>Emden</td>\n",
       "      <td>137.0</td>\n",
       "    </tr>\n",
       "    <tr>\n",
       "      <th>6</th>\n",
       "      <td>Brunsbüttel</td>\n",
       "      <td>Hamburg</td>\n",
       "      <td>36.0</td>\n",
       "    </tr>\n",
       "    <tr>\n",
       "      <th>7</th>\n",
       "      <td>Bremerhaven</td>\n",
       "      <td>Kiel</td>\n",
       "      <td>135.0</td>\n",
       "    </tr>\n",
       "    <tr>\n",
       "      <th>8</th>\n",
       "      <td>Brunsbüttel</td>\n",
       "      <td>Kiel</td>\n",
       "      <td>54.0</td>\n",
       "    </tr>\n",
       "    <tr>\n",
       "      <th>9</th>\n",
       "      <td>Hamburg</td>\n",
       "      <td>Kiel</td>\n",
       "      <td>90.0</td>\n",
       "    </tr>\n",
       "    <tr>\n",
       "      <th>0</th>\n",
       "      <td>Bremerhaven</td>\n",
       "      <td>end</td>\n",
       "      <td>0.0</td>\n",
       "    </tr>\n",
       "    <tr>\n",
       "      <th>1</th>\n",
       "      <td>Brunsbüttel</td>\n",
       "      <td>end</td>\n",
       "      <td>0.0</td>\n",
       "    </tr>\n",
       "    <tr>\n",
       "      <th>2</th>\n",
       "      <td>Emden</td>\n",
       "      <td>end</td>\n",
       "      <td>0.0</td>\n",
       "    </tr>\n",
       "    <tr>\n",
       "      <th>3</th>\n",
       "      <td>Hamburg</td>\n",
       "      <td>end</td>\n",
       "      <td>0.0</td>\n",
       "    </tr>\n",
       "    <tr>\n",
       "      <th>4</th>\n",
       "      <td>Kiel</td>\n",
       "      <td>end</td>\n",
       "      <td>0.0</td>\n",
       "    </tr>\n",
       "  </tbody>\n",
       "</table>\n",
       "</div>"
      ],
      "text/plain": [
       "          From           To  Distance\n",
       "0        start  Brunsbüttel       0.0\n",
       "1        start        Emden       0.0\n",
       "2        start      Hamburg       0.0\n",
       "3        start         Kiel       0.0\n",
       "4        start  Bremerhaven       0.0\n",
       "0  Brunsbüttel  Bremerhaven      81.0\n",
       "1        Emden  Bremerhaven     137.0\n",
       "2      Hamburg  Bremerhaven     117.0\n",
       "3         Kiel  Bremerhaven     135.0\n",
       "4      Hamburg  Brunsbüttel      36.0\n",
       "5  Bremerhaven        Emden     137.0\n",
       "6  Brunsbüttel      Hamburg      36.0\n",
       "7  Bremerhaven         Kiel     135.0\n",
       "8  Brunsbüttel         Kiel      54.0\n",
       "9      Hamburg         Kiel      90.0\n",
       "0  Bremerhaven          end       0.0\n",
       "1  Brunsbüttel          end       0.0\n",
       "2        Emden          end       0.0\n",
       "3      Hamburg          end       0.0\n",
       "4         Kiel          end       0.0"
      ]
     },
     "execution_count": 239,
     "metadata": {},
     "output_type": "execute_result"
    }
   ],
   "source": [
    "df_starts = pd.DataFrame({'From':'start', 'To':df_routes['From'].unique(),'Distance':0})\n",
    "df_ends = pd.DataFrame({'From':df_routes['To'].unique(), 'To':'end','Distance':0})\n",
    "df_routes= pd.concat([df_starts,df_routes,df_ends])\n",
    "df_routes"
   ]
  },
  {
   "cell_type": "markdown",
   "metadata": {},
   "source": [
    "# Data Preparation for Quantum Computing (Definition of Classes)"
   ]
  },
  {
   "cell_type": "markdown",
   "metadata": {},
   "source": [
    "In this section, all methods are defined that are later used to\n",
    "1. create Contraint Satisfaction Problem (CSP)\n",
    "2. formulate Binary Quadratic Model (BQM) as QUBO. "
   ]
  },
  {
   "cell_type": "markdown",
   "metadata": {},
   "source": [
    "### Basic functions"
   ]
  },
  {
   "cell_type": "code",
   "execution_count": 240,
   "metadata": {},
   "outputs": [],
   "source": [
    "def sum_to_two_or_zero(*args):\n",
    "        \"\"\"Checks to see if the args sum to either 0 or 2.\n",
    "        \"\"\"\n",
    "        sum_value = sum(args)\n",
    "        return sum_value in [0, 2]\n",
    "        \n",
    "def sum_smaller_equal_one(*args):\n",
    "        \"\"\"Checks to see if the args sum to either smaller or equal to 1.\n",
    "        \"\"\"\n",
    "        sum_value = sum(args)\n",
    "        return sum_value in [0, 1]\n",
    "\n",
    "def get_labels(dataframe):\n",
    "        \"\"\"Returns a list of labels from a Dataframe of the format of the input file\"\"\"\n",
    "        labels=(dataframe['From']+'-'+dataframe['To']+'-'+dataframe['Distance'].astype(str)).values.tolist()\n",
    "        return labels"
   ]
  },
  {
   "cell_type": "markdown",
   "metadata": {},
   "source": [
    "### Definition class Ferry"
   ]
  },
  {
   "cell_type": "code",
   "execution_count": 297,
   "metadata": {},
   "outputs": [],
   "source": [
    "class Ferryarea:\n",
    "    def __init__(self,start,end,routes):\n",
    "        \"\"\" Initializes object of Type Ferryarea\"\"\"\n",
    "        #Instantiate\n",
    "        self.start=start\n",
    "        self.end=end\n",
    "        self.df_routes = routes#df_routes.values.tolist()\n",
    "        self.ports = pd.DataFrame({'ports':np.append(df_routes['To'].unique(),df_routes['From'].unique())}).drop_duplicates().values.tolist()\n",
    "        self.csp = dwavebinarycsp.ConstraintSatisfactionProblem(dwavebinarycsp.BINARY)\n",
    "        \n",
    "    def _apply_valid_routes_constraint(self):\n",
    "        \"\"\"Creates constraints defining that every entered port has to be exited as well and that every port can only be entered and exited through one route.\"\"\"\n",
    "\n",
    "        for port in self.ports:\n",
    "            #assign to directions Dataframe a Dataframe containing only direction to and from the port\n",
    "            df_directions_from= self.df_routes[self.df_routes['From']==port[0]]\n",
    "            df_directions_to= self.df_routes[self.df_routes['To']==port[0]]\n",
    "            df_directions= pd.concat([df_directions_to,df_directions_from])\n",
    "            \n",
    "            #creates sets of labels as basis for constraint defintion\n",
    "            directions_all = set(get_labels(df_directions))\n",
    "            \n",
    "            #set((df_directions['From']+'-'+df_directions['To']+'-'+df_directions['Distance'].astype(str)).values.tolist())\n",
    "            directions_to= set(get_labels(df_directions_to))\n",
    "            #set((df_directions_to['From']+'-'+df_directions_to['To']+'-'+df_directions_to['Distance'].astype(str)).values.tolist())\n",
    "            directions_from= set(get_labels(df_directions_from))\n",
    "            #set((df_directions_from['From']+'-'+df_directions_from['To']+'-'+df_directions_from['Distance'].astype(str)).values.tolist())\n",
    "              \n",
    "            \n",
    "            #add constraint sum_to_two_or_zero\n",
    "            self.csp.add_constraint(sum_to_two_or_zero,directions_all)\n",
    "\n",
    "            #add constraint 'To' sum_to_zero_or_one\n",
    "            self.csp.add_constraint(sum_smaller_equal_one,directions_to)\n",
    "\n",
    "            #add constraint 'From' sum_to_zero_or_one\n",
    "            self.csp.add_constraint(sum_smaller_equal_one, directions_from)\n",
    "            \n",
    "        #print(self.csp.constraints)\n",
    "    def _set_start_and_end(self):\n",
    "        \"\"\"Sets the values of the departure and destination port to 1 and all other start and end possibilities to 0\n",
    "        \"\"\" #all other possibilies do not have to be 0. However, this is expected to descrease calculation time\n",
    "\n",
    "        #select all start and end routes\n",
    "        df_routes_to_fix= pd.concat([self.df_routes[self.df_routes['From']=='start'],self.df_routes[self.df_routes['To']=='end']])\n",
    "        print(df_routes_to_fix)\n",
    "        count=0\n",
    "\n",
    "        for i in df_routes_to_fix:\n",
    "            count=count+1\n",
    "            #print(\"type:\", type(df_routes_to_fix[count]))\n",
    "            #print(\"label of:\", df_routes_to_fix[count])\n",
    "\n",
    "            label= get_labels(df_routes_to_fix.iloc[[count]])\n",
    "            print('Label:',label)\n",
    "\n",
    "        ###FEHLER\n",
    "            if df_routes_to_fix[0:count]==self.start:\n",
    "            #df_routes_to_fix[df_routes_to_fix['From']==self.start]:\n",
    "                #sets departure to 1\n",
    "                self.csp.fix_variable(label,1)\n",
    "            elif df_routes_to_fix[df_routes_to_fix['To']==self.end]:\n",
    "                #sets destination to 1\n",
    "                self.csp.fix_variable(label,1)\n",
    "            else:\n",
    "                #sets departure and destination to 0\n",
    "                self.csp.fix_variable(label,0)\n",
    "\n",
    "        #set start\n",
    "            #self.csp.fix_variable('start-'+self.start+'-0.0',1)\n",
    "\n",
    "        #set end\n",
    "            #self.csp.fix_variable(self.end+'-end-0.0',1)\n",
    "\n",
    "        #set all other starts and ends to 0\n",
    "       \n"
   ]
  },
  {
   "cell_type": "markdown",
   "metadata": {},
   "source": [
    "### Initialization of Ferryarea"
   ]
  },
  {
   "cell_type": "code",
   "execution_count": 298,
   "metadata": {},
   "outputs": [
    {
     "name": "stdout",
     "output_type": "stream",
     "text": [
      "          From           To  Distance\n",
      "0        start  Brunsbüttel       0.0\n",
      "1        start        Emden       0.0\n",
      "2        start      Hamburg       0.0\n",
      "3        start         Kiel       0.0\n",
      "4        start  Bremerhaven       0.0\n",
      "0  Bremerhaven          end       0.0\n",
      "1  Brunsbüttel          end       0.0\n",
      "2        Emden          end       0.0\n",
      "3      Hamburg          end       0.0\n",
      "4         Kiel          end       0.0\n",
      "Label: ['start-Emden-0.0']\n"
     ]
    },
    {
     "ename": "ValueError",
     "evalue": "The truth value of a DataFrame is ambiguous. Use a.empty, a.bool(), a.item(), a.any() or a.all().",
     "output_type": "error",
     "traceback": [
      "\u001b[0;31m---------------------------------------------------------------------------\u001b[0m",
      "\u001b[0;31mValueError\u001b[0m                                Traceback (most recent call last)",
      "Cell \u001b[0;32mIn[298], line 3\u001b[0m\n\u001b[1;32m      1\u001b[0m f\u001b[39m=\u001b[39mFerryarea(start\u001b[39m=\u001b[39mdeparture,end\u001b[39m=\u001b[39mdestination,routes\u001b[39m=\u001b[39mdf_routes)\n\u001b[1;32m      2\u001b[0m csp\u001b[39m=\u001b[39m f\u001b[39m.\u001b[39m_apply_valid_routes_constraint()\n\u001b[0;32m----> 3\u001b[0m csp\u001b[39m=\u001b[39m f\u001b[39m.\u001b[39;49m_set_start_and_end()\n",
      "Cell \u001b[0;32mIn[297], line 57\u001b[0m, in \u001b[0;36mFerryarea._set_start_and_end\u001b[0;34m(self)\u001b[0m\n\u001b[1;32m     54\u001b[0m label\u001b[39m=\u001b[39m get_labels(df_routes_to_fix\u001b[39m.\u001b[39miloc[[count]])\n\u001b[1;32m     55\u001b[0m \u001b[39mprint\u001b[39m(\u001b[39m'\u001b[39m\u001b[39mLabel:\u001b[39m\u001b[39m'\u001b[39m,label)\n\u001b[0;32m---> 57\u001b[0m \u001b[39mif\u001b[39;00m df_routes_to_fix[\u001b[39m0\u001b[39m:count]\u001b[39m==\u001b[39m\u001b[39mself\u001b[39m\u001b[39m.\u001b[39mstart:\n\u001b[1;32m     58\u001b[0m \u001b[39m#df_routes_to_fix[df_routes_to_fix['From']==self.start]:\u001b[39;00m\n\u001b[1;32m     59\u001b[0m     \u001b[39m#sets departure to 1\u001b[39;00m\n\u001b[1;32m     60\u001b[0m     \u001b[39mself\u001b[39m\u001b[39m.\u001b[39mcsp\u001b[39m.\u001b[39mfix_variable(label,\u001b[39m1\u001b[39m)\n\u001b[1;32m     61\u001b[0m \u001b[39melif\u001b[39;00m df_routes_to_fix[df_routes_to_fix[\u001b[39m'\u001b[39m\u001b[39mTo\u001b[39m\u001b[39m'\u001b[39m]\u001b[39m==\u001b[39m\u001b[39mself\u001b[39m\u001b[39m.\u001b[39mend]:\n\u001b[1;32m     62\u001b[0m     \u001b[39m#sets destination to 1\u001b[39;00m\n",
      "File \u001b[0;32m~/Documents/GitHub/Quantum-Computing/venv/lib/python3.10/site-packages/pandas/core/generic.py:1527\u001b[0m, in \u001b[0;36mNDFrame.__nonzero__\u001b[0;34m(self)\u001b[0m\n\u001b[1;32m   1525\u001b[0m \u001b[39m@final\u001b[39m\n\u001b[1;32m   1526\u001b[0m \u001b[39mdef\u001b[39;00m \u001b[39m__nonzero__\u001b[39m(\u001b[39mself\u001b[39m) \u001b[39m-\u001b[39m\u001b[39m>\u001b[39m NoReturn:\n\u001b[0;32m-> 1527\u001b[0m     \u001b[39mraise\u001b[39;00m \u001b[39mValueError\u001b[39;00m(\n\u001b[1;32m   1528\u001b[0m         \u001b[39mf\u001b[39m\u001b[39m\"\u001b[39m\u001b[39mThe truth value of a \u001b[39m\u001b[39m{\u001b[39;00m\u001b[39mtype\u001b[39m(\u001b[39mself\u001b[39m)\u001b[39m.\u001b[39m\u001b[39m__name__\u001b[39m\u001b[39m}\u001b[39;00m\u001b[39m is ambiguous. \u001b[39m\u001b[39m\"\u001b[39m\n\u001b[1;32m   1529\u001b[0m         \u001b[39m\"\u001b[39m\u001b[39mUse a.empty, a.bool(), a.item(), a.any() or a.all().\u001b[39m\u001b[39m\"\u001b[39m\n\u001b[1;32m   1530\u001b[0m     )\n",
      "\u001b[0;31mValueError\u001b[0m: The truth value of a DataFrame is ambiguous. Use a.empty, a.bool(), a.item(), a.any() or a.all()."
     ]
    }
   ],
   "source": [
    "f=Ferryarea(start=departure,end=destination,routes=df_routes)\n",
    "csp= f._apply_valid_routes_constraint()\n",
    "csp= f._set_start_and_end()"
   ]
  },
  {
   "cell_type": "markdown",
   "metadata": {},
   "source": [
    "# Creation of BQM and Transfer to Quantum Sampler"
   ]
  }
 ],
 "metadata": {
  "kernelspec": {
   "display_name": "Python 3.10.1 ('venv': venv)",
   "language": "python",
   "name": "python3"
  },
  "language_info": {
   "codemirror_mode": {
    "name": "ipython",
    "version": 3
   },
   "file_extension": ".py",
   "mimetype": "text/x-python",
   "name": "python",
   "nbconvert_exporter": "python",
   "pygments_lexer": "ipython3",
   "version": "3.10.1"
  },
  "orig_nbformat": 4,
  "vscode": {
   "interpreter": {
    "hash": "1a67aca957aef3b8ba77a329b2e49205fd6e483562b4cf13d66942f6b2ebf41c"
   }
  }
 },
 "nbformat": 4,
 "nbformat_minor": 2
}
